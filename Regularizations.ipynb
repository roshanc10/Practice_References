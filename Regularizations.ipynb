{
  "nbformat": 4,
  "nbformat_minor": 0,
  "metadata": {
    "colab": {
      "name": "Regularizations.ipynb",
      "provenance": [],
      "authorship_tag": "ABX9TyOjrsyWkMbCb5Z0TlA4eoGX",
      "include_colab_link": true
    },
    "kernelspec": {
      "name": "python3",
      "display_name": "Python 3"
    },
    "language_info": {
      "name": "python"
    }
  },
  "cells": [
    {
      "cell_type": "markdown",
      "metadata": {
        "id": "view-in-github",
        "colab_type": "text"
      },
      "source": [
        "<a href=\"https://colab.research.google.com/github/roshanc10/Practice_References/blob/main/Regularizations.ipynb\" target=\"_parent\"><img src=\"https://colab.research.google.com/assets/colab-badge.svg\" alt=\"Open In Colab\"/></a>"
      ]
    },
    {
      "cell_type": "code",
      "metadata": {
        "id": "F7fpxTBVmo5c"
      },
      "source": [
        "import pandas as pd \n",
        "import numpy as np\n",
        "import matplotlib.pyplot as plt"
      ],
      "execution_count": 1,
      "outputs": []
    },
    {
      "cell_type": "code",
      "metadata": {
        "colab": {
          "base_uri": "https://localhost:8080/",
          "height": 204
        },
        "id": "dPDI8ACIofCt",
        "outputId": "7ad38e4d-1460-4b01-dbbe-8a7232d3e6b7"
      },
      "source": [
        "data = pd.read_excel(\"/content/sample_data/insurance.xlsx\")\n",
        "\n",
        "data.head()"
      ],
      "execution_count": 2,
      "outputs": [
        {
          "output_type": "execute_result",
          "data": {
            "text/html": [
              "<div>\n",
              "<style scoped>\n",
              "    .dataframe tbody tr th:only-of-type {\n",
              "        vertical-align: middle;\n",
              "    }\n",
              "\n",
              "    .dataframe tbody tr th {\n",
              "        vertical-align: top;\n",
              "    }\n",
              "\n",
              "    .dataframe thead th {\n",
              "        text-align: right;\n",
              "    }\n",
              "</style>\n",
              "<table border=\"1\" class=\"dataframe\">\n",
              "  <thead>\n",
              "    <tr style=\"text-align: right;\">\n",
              "      <th></th>\n",
              "      <th>age</th>\n",
              "      <th>sex</th>\n",
              "      <th>bmi</th>\n",
              "      <th>children</th>\n",
              "      <th>smoker</th>\n",
              "      <th>region</th>\n",
              "      <th>expenses</th>\n",
              "    </tr>\n",
              "  </thead>\n",
              "  <tbody>\n",
              "    <tr>\n",
              "      <th>0</th>\n",
              "      <td>19</td>\n",
              "      <td>female</td>\n",
              "      <td>27.9</td>\n",
              "      <td>0</td>\n",
              "      <td>yes</td>\n",
              "      <td>southwest</td>\n",
              "      <td>16884.92</td>\n",
              "    </tr>\n",
              "    <tr>\n",
              "      <th>1</th>\n",
              "      <td>18</td>\n",
              "      <td>male</td>\n",
              "      <td>33.8</td>\n",
              "      <td>1</td>\n",
              "      <td>no</td>\n",
              "      <td>southeast</td>\n",
              "      <td>1725.55</td>\n",
              "    </tr>\n",
              "    <tr>\n",
              "      <th>2</th>\n",
              "      <td>28</td>\n",
              "      <td>male</td>\n",
              "      <td>33.0</td>\n",
              "      <td>3</td>\n",
              "      <td>no</td>\n",
              "      <td>southeast</td>\n",
              "      <td>4449.46</td>\n",
              "    </tr>\n",
              "    <tr>\n",
              "      <th>3</th>\n",
              "      <td>33</td>\n",
              "      <td>male</td>\n",
              "      <td>22.7</td>\n",
              "      <td>0</td>\n",
              "      <td>no</td>\n",
              "      <td>northwest</td>\n",
              "      <td>21984.47</td>\n",
              "    </tr>\n",
              "    <tr>\n",
              "      <th>4</th>\n",
              "      <td>32</td>\n",
              "      <td>male</td>\n",
              "      <td>28.9</td>\n",
              "      <td>0</td>\n",
              "      <td>no</td>\n",
              "      <td>northwest</td>\n",
              "      <td>3866.86</td>\n",
              "    </tr>\n",
              "  </tbody>\n",
              "</table>\n",
              "</div>"
            ],
            "text/plain": [
              "   age     sex   bmi  children smoker     region  expenses\n",
              "0   19  female  27.9         0    yes  southwest  16884.92\n",
              "1   18    male  33.8         1     no  southeast   1725.55\n",
              "2   28    male  33.0         3     no  southeast   4449.46\n",
              "3   33    male  22.7         0     no  northwest  21984.47\n",
              "4   32    male  28.9         0     no  northwest   3866.86"
            ]
          },
          "metadata": {
            "tags": []
          },
          "execution_count": 2
        }
      ]
    },
    {
      "cell_type": "code",
      "metadata": {
        "colab": {
          "base_uri": "https://localhost:8080/"
        },
        "id": "O4_3bmWzoswU",
        "outputId": "cf71b94f-66ea-4ac4-d6e6-7254d287239d"
      },
      "source": [
        "data.info()"
      ],
      "execution_count": 3,
      "outputs": [
        {
          "output_type": "stream",
          "text": [
            "<class 'pandas.core.frame.DataFrame'>\n",
            "RangeIndex: 1338 entries, 0 to 1337\n",
            "Data columns (total 7 columns):\n",
            " #   Column    Non-Null Count  Dtype  \n",
            "---  ------    --------------  -----  \n",
            " 0   age       1338 non-null   int64  \n",
            " 1   sex       1338 non-null   object \n",
            " 2   bmi       1338 non-null   float64\n",
            " 3   children  1338 non-null   int64  \n",
            " 4   smoker    1338 non-null   object \n",
            " 5   region    1338 non-null   object \n",
            " 6   expenses  1338 non-null   float64\n",
            "dtypes: float64(2), int64(2), object(3)\n",
            "memory usage: 73.3+ KB\n"
          ],
          "name": "stdout"
        }
      ]
    },
    {
      "cell_type": "code",
      "metadata": {
        "colab": {
          "base_uri": "https://localhost:8080/"
        },
        "id": "N4lynl1RowqK",
        "outputId": "8faa666b-f612-4b6c-bf5f-9c7a2f312842"
      },
      "source": [
        "d_types = dict(data.dtypes)\n",
        "for name , type_ in d_types.items():\n",
        "    if str(type_) == 'object':\n",
        "        print(f\"<======== {name} ===========>\")\n",
        "        print(data[name].value_counts())\n",
        "        print()"
      ],
      "execution_count": 4,
      "outputs": [
        {
          "output_type": "stream",
          "text": [
            "<======== sex ===========>\n",
            "male      676\n",
            "female    662\n",
            "Name: sex, dtype: int64\n",
            "\n",
            "<======== smoker ===========>\n",
            "no     1064\n",
            "yes     274\n",
            "Name: smoker, dtype: int64\n",
            "\n",
            "<======== region ===========>\n",
            "southeast    364\n",
            "northwest    325\n",
            "southwest    325\n",
            "northeast    324\n",
            "Name: region, dtype: int64\n",
            "\n"
          ],
          "name": "stdout"
        }
      ]
    },
    {
      "cell_type": "code",
      "metadata": {
        "id": "tTRSHBW-oxbz"
      },
      "source": [
        "from sklearn.preprocessing import LabelEncoder\n",
        "\n",
        "for name , type_ in d_types.items():\n",
        "    if str(type_) == 'object':\n",
        "        Le = LabelEncoder()\n",
        "        data[name] = Le.fit_transform(data[name])"
      ],
      "execution_count": 5,
      "outputs": []
    },
    {
      "cell_type": "code",
      "metadata": {
        "colab": {
          "base_uri": "https://localhost:8080/",
          "height": 204
        },
        "id": "ugh4UbJeo5s9",
        "outputId": "5e05de42-e849-4e42-8351-fdd551980d83"
      },
      "source": [
        "from sklearn.preprocessing import OneHotEncoder\n",
        "\n",
        "onehotencoder = OneHotEncoder()\n",
        "part = onehotencoder.fit_transform(data['region'].values.reshape(-1,1)).toarray()\n",
        "\n",
        "values = dict(data[\"region\"].value_counts())\n",
        "\n",
        "for e , (val , _) in enumerate(values.items()):\n",
        "    data[\"region_\" + str(val)] = part[:,e]\n",
        "\n",
        "data = data.drop([\"region\"] , axis = 1)\n",
        "\n",
        "data.head()"
      ],
      "execution_count": 6,
      "outputs": [
        {
          "output_type": "execute_result",
          "data": {
            "text/html": [
              "<div>\n",
              "<style scoped>\n",
              "    .dataframe tbody tr th:only-of-type {\n",
              "        vertical-align: middle;\n",
              "    }\n",
              "\n",
              "    .dataframe tbody tr th {\n",
              "        vertical-align: top;\n",
              "    }\n",
              "\n",
              "    .dataframe thead th {\n",
              "        text-align: right;\n",
              "    }\n",
              "</style>\n",
              "<table border=\"1\" class=\"dataframe\">\n",
              "  <thead>\n",
              "    <tr style=\"text-align: right;\">\n",
              "      <th></th>\n",
              "      <th>age</th>\n",
              "      <th>sex</th>\n",
              "      <th>bmi</th>\n",
              "      <th>children</th>\n",
              "      <th>smoker</th>\n",
              "      <th>expenses</th>\n",
              "      <th>region_2</th>\n",
              "      <th>region_3</th>\n",
              "      <th>region_1</th>\n",
              "      <th>region_0</th>\n",
              "    </tr>\n",
              "  </thead>\n",
              "  <tbody>\n",
              "    <tr>\n",
              "      <th>0</th>\n",
              "      <td>19</td>\n",
              "      <td>0</td>\n",
              "      <td>27.9</td>\n",
              "      <td>0</td>\n",
              "      <td>1</td>\n",
              "      <td>16884.92</td>\n",
              "      <td>0.0</td>\n",
              "      <td>0.0</td>\n",
              "      <td>0.0</td>\n",
              "      <td>1.0</td>\n",
              "    </tr>\n",
              "    <tr>\n",
              "      <th>1</th>\n",
              "      <td>18</td>\n",
              "      <td>1</td>\n",
              "      <td>33.8</td>\n",
              "      <td>1</td>\n",
              "      <td>0</td>\n",
              "      <td>1725.55</td>\n",
              "      <td>0.0</td>\n",
              "      <td>0.0</td>\n",
              "      <td>1.0</td>\n",
              "      <td>0.0</td>\n",
              "    </tr>\n",
              "    <tr>\n",
              "      <th>2</th>\n",
              "      <td>28</td>\n",
              "      <td>1</td>\n",
              "      <td>33.0</td>\n",
              "      <td>3</td>\n",
              "      <td>0</td>\n",
              "      <td>4449.46</td>\n",
              "      <td>0.0</td>\n",
              "      <td>0.0</td>\n",
              "      <td>1.0</td>\n",
              "      <td>0.0</td>\n",
              "    </tr>\n",
              "    <tr>\n",
              "      <th>3</th>\n",
              "      <td>33</td>\n",
              "      <td>1</td>\n",
              "      <td>22.7</td>\n",
              "      <td>0</td>\n",
              "      <td>0</td>\n",
              "      <td>21984.47</td>\n",
              "      <td>0.0</td>\n",
              "      <td>1.0</td>\n",
              "      <td>0.0</td>\n",
              "      <td>0.0</td>\n",
              "    </tr>\n",
              "    <tr>\n",
              "      <th>4</th>\n",
              "      <td>32</td>\n",
              "      <td>1</td>\n",
              "      <td>28.9</td>\n",
              "      <td>0</td>\n",
              "      <td>0</td>\n",
              "      <td>3866.86</td>\n",
              "      <td>0.0</td>\n",
              "      <td>1.0</td>\n",
              "      <td>0.0</td>\n",
              "      <td>0.0</td>\n",
              "    </tr>\n",
              "  </tbody>\n",
              "</table>\n",
              "</div>"
            ],
            "text/plain": [
              "   age  sex   bmi  children  ...  region_2  region_3  region_1  region_0\n",
              "0   19    0  27.9         0  ...       0.0       0.0       0.0       1.0\n",
              "1   18    1  33.8         1  ...       0.0       0.0       1.0       0.0\n",
              "2   28    1  33.0         3  ...       0.0       0.0       1.0       0.0\n",
              "3   33    1  22.7         0  ...       0.0       1.0       0.0       0.0\n",
              "4   32    1  28.9         0  ...       0.0       1.0       0.0       0.0\n",
              "\n",
              "[5 rows x 10 columns]"
            ]
          },
          "metadata": {
            "tags": []
          },
          "execution_count": 6
        }
      ]
    },
    {
      "cell_type": "code",
      "metadata": {
        "colab": {
          "base_uri": "https://localhost:8080/",
          "height": 282
        },
        "id": "ttbtoOGyo9q9",
        "outputId": "f8e6f291-36a4-4f2e-c7f5-c595c6d4ca73"
      },
      "source": [
        "from scipy import stats \n",
        "\n",
        "col_cox , lam = stats.boxcox(data[\"expenses\"])[0:2]\n",
        "print(\"Skewness in Column : Sqrt Expenses \" ,pd.Series(col_cox).skew())\n",
        "\n",
        "plt.hist(col_cox)\n",
        "plt.show()"
      ],
      "execution_count": 7,
      "outputs": [
        {
          "output_type": "stream",
          "text": [
            "Skewness in Column : Sqrt Expenses  -0.008734062011873602\n"
          ],
          "name": "stdout"
        },
        {
          "output_type": "display_data",
          "data": {
            "image/png": "[encoded data removed]",
            "text/plain": [
              "<Figure size 432x288 with 1 Axes>"
            ]
          },
          "metadata": {
            "tags": [],
            "needs_background": "light"
          }
        }
      ]
    },
    {
      "cell_type": "code",
      "metadata": {
        "id": "b1J9mv9ppFox"
      },
      "source": [
        "data[\"expenses\"] = col_cox"
      ],
      "execution_count": 8,
      "outputs": []
    },
    {
      "cell_type": "code",
      "metadata": {
        "colab": {
          "base_uri": "https://localhost:8080/"
        },
        "id": "DYJpqv4PpGCi",
        "outputId": "cb672f1a-1308-4535-8fdf-a2c185110bf9"
      },
      "source": [
        "remaining_columns = list(data.columns)\n",
        "remaining_columns.remove(\"expenses\")\n",
        "remaining_columns"
      ],
      "execution_count": 9,
      "outputs": [
        {
          "output_type": "execute_result",
          "data": {
            "text/plain": [
              "['age',\n",
              " 'sex',\n",
              " 'bmi',\n",
              " 'children',\n",
              " 'smoker',\n",
              " 'region_2',\n",
              " 'region_3',\n",
              " 'region_1',\n",
              " 'region_0']"
            ]
          },
          "metadata": {
            "tags": []
          },
          "execution_count": 9
        }
      ]
    },
    {
      "cell_type": "code",
      "metadata": {
        "id": "jTsJ7KxXpHlR"
      },
      "source": [
        "X = data[remaining_columns].values \n",
        "Y = data['expenses'].values"
      ],
      "execution_count": 10,
      "outputs": []
    },
    {
      "cell_type": "code",
      "metadata": {
        "id": "YFK6XAaRpJo7"
      },
      "source": [
        "from sklearn.model_selection import train_test_split\n",
        "\n",
        "Xtrain , Xtest , Ytrain , Ytest = train_test_split(X , Y , test_size = 0.2 , random_state = 4)"
      ],
      "execution_count": 11,
      "outputs": []
    },
    {
      "cell_type": "code",
      "metadata": {
        "id": "0yBUkSV-pRrP"
      },
      "source": [
        "from sklearn.linear_model import Ridge , Lasso , ElasticNet , LinearRegression"
      ],
      "execution_count": 12,
      "outputs": []
    },
    {
      "cell_type": "code",
      "metadata": {
        "colab": {
          "base_uri": "https://localhost:8080/"
        },
        "id": "KovqwNlRpUOE",
        "outputId": "328ae7b6-b983-4405-950e-5920f1d115fd"
      },
      "source": [
        "model = LinearRegression()\n",
        "model.fit(Xtrain , Ytrain)\n",
        "print(\" Training Accuracy : \" , model.score(Xtrain , Ytrain))\n",
        "print(\" Testing Accuracy : \" , model.score(Xtest , Ytest))"
      ],
      "execution_count": 13,
      "outputs": [
        {
          "output_type": "stream",
          "text": [
            " Training Accuracy :  0.7749547304018276\n",
            " Testing Accuracy :  0.7497079440424592\n"
          ],
          "name": "stdout"
        }
      ]
    },
    {
      "cell_type": "code",
      "metadata": {
        "colab": {
          "base_uri": "https://localhost:8080/"
        },
        "id": "1bcMsrLkpYHA",
        "outputId": "e3d0473f-472e-4902-db4b-c3f5632b7b92"
      },
      "source": [
        "model = Ridge()\n",
        "model.fit(Xtrain , Ytrain)\n",
        "print(\" Training Accuracy : \" , model.score(Xtrain , Ytrain))\n",
        "print(\" Testing Accuracy : \" , model.score(Xtest , Ytest))"
      ],
      "execution_count": 14,
      "outputs": [
        {
          "output_type": "stream",
          "text": [
            " Training Accuracy :  0.7749377189073672\n",
            " Testing Accuracy :  0.7502904376174961\n"
          ],
          "name": "stdout"
        }
      ]
    },
    {
      "cell_type": "code",
      "metadata": {
        "colab": {
          "base_uri": "https://localhost:8080/"
        },
        "id": "Wch2RN75pZnQ",
        "outputId": "3ceea0c3-5279-45a9-f8e8-9ea324fc6a36"
      },
      "source": [
        "model = Lasso()\n",
        "model.fit(Xtrain , Ytrain)\n",
        "print(\" Training Accuracy : \" , model.score(Xtrain , Ytrain))\n",
        "print(\" Testing Accuracy : \" , model.score(Xtest , Ytest))"
      ],
      "execution_count": 15,
      "outputs": [
        {
          "output_type": "stream",
          "text": [
            " Training Accuracy :  0.2589359547500544\n",
            " Testing Accuracy :  0.2841101128580015\n"
          ],
          "name": "stdout"
        }
      ]
    },
    {
      "cell_type": "code",
      "metadata": {
        "colab": {
          "base_uri": "https://localhost:8080/"
        },
        "id": "O1Tjywe7pc69",
        "outputId": "a922f77c-7f72-462f-ba6e-c59b02f7b611"
      },
      "source": [
        "# Elastic \n",
        "\n",
        "# lambda_1*L1 + lambda_2*L2 \n",
        "# alpha = lambda_1 + lambda_2 , l1_ratio = lambda_1/(lambda_1 + lambda_2)\n",
        "\n",
        "model = ElasticNet()\n",
        "model.fit(Xtrain , Ytrain)\n",
        "print(\" Training Accuracy : \" , model.score(Xtrain , Ytrain))\n",
        "print(\" Testing Accuracy : \" , model.score(Xtest , Ytest))"
      ],
      "execution_count": 16,
      "outputs": [
        {
          "output_type": "stream",
          "text": [
            " Training Accuracy :  0.26553917703322805\n",
            " Testing Accuracy :  0.2906976260872923\n"
          ],
          "name": "stdout"
        }
      ]
    },
    {
      "cell_type": "markdown",
      "metadata": {
        "id": "Bl1YLCkwpiMI"
      },
      "source": [
        "Changing Parameter for Lasso and ElasticNet"
      ]
    },
    {
      "cell_type": "code",
      "metadata": {
        "colab": {
          "base_uri": "https://localhost:8080/"
        },
        "id": "9Kpcn5QHpiuv",
        "outputId": "410b478c-6869-46a9-f109-d93d2cd10ef2"
      },
      "source": [
        "model = Lasso(alpha = 0.01)\n",
        "model.fit(Xtrain , Ytrain)\n",
        "print(\" Training Accuracy : \" , model.score(Xtrain , Ytrain))\n",
        "print(\" Testing Accuracy : \" , model.score(Xtest , Ytest))"
      ],
      "execution_count": 17,
      "outputs": [
        {
          "output_type": "stream",
          "text": [
            " Training Accuracy :  0.7733046323058576\n",
            " Testing Accuracy :  0.7516010885977983\n"
          ],
          "name": "stdout"
        }
      ]
    },
    {
      "cell_type": "code",
      "metadata": {
        "colab": {
          "base_uri": "https://localhost:8080/"
        },
        "id": "w9lao_vBpkkr",
        "outputId": "26b7d274-f530-48d8-fda4-3b65ccb373d3"
      },
      "source": [
        "# Elastic \n",
        "\n",
        "# lambda_1*L1 + lambda_2*L2 \n",
        "# alpha = lambda_1 + lambda_2 , l1_ratio = lambda_1/(lambda_1 + lambda_2)\n",
        "\n",
        "model = ElasticNet(alpha = 0.01 + 0.01 , l1_ratio = 0.01/(0.01 + 0.01))\n",
        "model.fit(Xtrain , Ytrain)\n",
        "print(\" Training Accuracy : \" , model.score(Xtrain , Ytrain))\n",
        "print(\" Testing Accuracy : \" , model.score(Xtest , Ytest))"
      ],
      "execution_count": 18,
      "outputs": [
        {
          "output_type": "stream",
          "text": [
            " Training Accuracy :  0.7698503985770702\n",
            " Testing Accuracy :  0.7531054985757829\n"
          ],
          "name": "stdout"
        }
      ]
    }
  ]
}