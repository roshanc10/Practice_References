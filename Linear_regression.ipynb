{
  "nbformat": 4,
  "nbformat_minor": 0,
  "metadata": {
    "colab": {
      "name": "Linear regression.ipynb",
      "provenance": [],
      "authorship_tag": "ABX9TyOLRO77ylxju4VZkzNEBoPP",
      "include_colab_link": true
    },
    "kernelspec": {
      "name": "python3",
      "display_name": "Python 3"
    },
    "language_info": {
      "name": "python"
    }
  },
  "cells": [
    {
      "cell_type": "markdown",
      "metadata": {
        "id": "view-in-github",
        "colab_type": "text"
      },
      "source": [
        "<a href=\"https://colab.research.google.com/github/roshanc10/Practice_References/blob/main/Linear_regression.ipynb\" target=\"_parent\"><img src=\"https://colab.research.google.com/assets/colab-badge.svg\" alt=\"Open In Colab\"/></a>"
      ]
    },
    {
      "cell_type": "markdown",
      "metadata": {
        "id": "bh3WAUkBdhAI"
      },
      "source": [
        "It is used to estimate real values (cost of houses, number of calls, total sales etc.) based on continuous variable(s). Here, we establish relationship between independent and dependent variables by fitting a best line. This best fit line is known as regression line and represented by a linear equation Y= a *X + b."
      ]
    },
    {
      "cell_type": "markdown",
      "metadata": {
        "id": "KMt-xezUfocz"
      },
      "source": [
        "There are four assumptions associated with a linear regression model:\n",
        "1.   Linearity: The relationship between X and the mean of Y is linear.\n",
        "2.   Homoscedasticity: The variance of residual is the same for any value of X.\n",
        "3.   Independence: Observations are independent of each other.\n",
        "4.   Normality: For any fixed value of X, Y is normally distributed.\n",
        "\n",
        "\n",
        "\n"
      ]
    },
    {
      "cell_type": "code",
      "metadata": {
        "id": "XLSK54xTflY3"
      },
      "source": [
        "import pandas as pd\n",
        "import numpy as np\n",
        "import matplotlib.pyplot as plt\n",
        "import seaborn as sns"
      ],
      "execution_count": null,
      "outputs": []
    },
    {
      "cell_type": "code",
      "metadata": {
        "colab": {
          "base_uri": "https://localhost:8080/",
          "height": 266
        },
        "id": "_tRxONEXbzCd",
        "outputId": "d3773230-4157-4bce-a458-02226f7023ca"
      },
      "source": [
        "data = pd.read_excel(\"/content/sample_data/insurance.xlsx\")\n",
        "\n",
        "data.head(7)"
      ],
      "execution_count": null,
      "outputs": [
        {
          "output_type": "execute_result",
          "data": {
            "text/html": [
              "<div>\n",
              "<style scoped>\n",
              "    .dataframe tbody tr th:only-of-type {\n",
              "        vertical-align: middle;\n",
              "    }\n",
              "\n",
              "    .dataframe tbody tr th {\n",
              "        vertical-align: top;\n",
              "    }\n",
              "\n",
              "    .dataframe thead th {\n",
              "        text-align: right;\n",
              "    }\n",
              "</style>\n",
              "<table border=\"1\" class=\"dataframe\">\n",
              "  <thead>\n",
              "    <tr style=\"text-align: right;\">\n",
              "      <th></th>\n",
              "      <th>age</th>\n",
              "      <th>sex</th>\n",
              "      <th>bmi</th>\n",
              "      <th>children</th>\n",
              "      <th>smoker</th>\n",
              "      <th>region</th>\n",
              "      <th>expenses</th>\n",
              "    </tr>\n",
              "  </thead>\n",
              "  <tbody>\n",
              "    <tr>\n",
              "      <th>0</th>\n",
              "      <td>19</td>\n",
              "      <td>female</td>\n",
              "      <td>27.9</td>\n",
              "      <td>0</td>\n",
              "      <td>yes</td>\n",
              "      <td>southwest</td>\n",
              "      <td>16884.92</td>\n",
              "    </tr>\n",
              "    <tr>\n",
              "      <th>1</th>\n",
              "      <td>18</td>\n",
              "      <td>male</td>\n",
              "      <td>33.8</td>\n",
              "      <td>1</td>\n",
              "      <td>no</td>\n",
              "      <td>southeast</td>\n",
              "      <td>1725.55</td>\n",
              "    </tr>\n",
              "    <tr>\n",
              "      <th>2</th>\n",
              "      <td>28</td>\n",
              "      <td>male</td>\n",
              "      <td>33.0</td>\n",
              "      <td>3</td>\n",
              "      <td>no</td>\n",
              "      <td>southeast</td>\n",
              "      <td>4449.46</td>\n",
              "    </tr>\n",
              "    <tr>\n",
              "      <th>3</th>\n",
              "      <td>33</td>\n",
              "      <td>male</td>\n",
              "      <td>22.7</td>\n",
              "      <td>0</td>\n",
              "      <td>no</td>\n",
              "      <td>northwest</td>\n",
              "      <td>21984.47</td>\n",
              "    </tr>\n",
              "    <tr>\n",
              "      <th>4</th>\n",
              "      <td>32</td>\n",
              "      <td>male</td>\n",
              "      <td>28.9</td>\n",
              "      <td>0</td>\n",
              "      <td>no</td>\n",
              "      <td>northwest</td>\n",
              "      <td>3866.86</td>\n",
              "    </tr>\n",
              "    <tr>\n",
              "      <th>5</th>\n",
              "      <td>31</td>\n",
              "      <td>female</td>\n",
              "      <td>25.7</td>\n",
              "      <td>0</td>\n",
              "      <td>no</td>\n",
              "      <td>southeast</td>\n",
              "      <td>3756.62</td>\n",
              "    </tr>\n",
              "    <tr>\n",
              "      <th>6</th>\n",
              "      <td>46</td>\n",
              "      <td>female</td>\n",
              "      <td>33.4</td>\n",
              "      <td>1</td>\n",
              "      <td>no</td>\n",
              "      <td>southeast</td>\n",
              "      <td>8240.59</td>\n",
              "    </tr>\n",
              "  </tbody>\n",
              "</table>\n",
              "</div>"
            ],
            "text/plain": [
              "   age     sex   bmi  children smoker     region  expenses\n",
              "0   19  female  27.9         0    yes  southwest  16884.92\n",
              "1   18    male  33.8         1     no  southeast   1725.55\n",
              "2   28    male  33.0         3     no  southeast   4449.46\n",
              "3   33    male  22.7         0     no  northwest  21984.47\n",
              "4   32    male  28.9         0     no  northwest   3866.86\n",
              "5   31  female  25.7         0     no  southeast   3756.62\n",
              "6   46  female  33.4         1     no  southeast   8240.59"
            ]
          },
          "metadata": {
            "tags": []
          },
          "execution_count": 119
        }
      ]
    },
    {
      "cell_type": "code",
      "metadata": {
        "colab": {
          "base_uri": "https://localhost:8080/"
        },
        "id": "Zv0tMt-LgniN",
        "outputId": "d6dfc8fb-ed2f-4ff5-80b3-f738099a3bd9"
      },
      "source": [
        "data.shape"
      ],
      "execution_count": null,
      "outputs": [
        {
          "output_type": "execute_result",
          "data": {
            "text/plain": [
              "(1338, 7)"
            ]
          },
          "metadata": {
            "tags": []
          },
          "execution_count": 120
        }
      ]
    },
    {
      "cell_type": "code",
      "metadata": {
        "colab": {
          "base_uri": "https://localhost:8080/"
        },
        "id": "IXBOwSZygrj0",
        "outputId": "f6db0e41-ddd7-4e7b-9492-3d98452bcc33"
      },
      "source": [
        "data.info()"
      ],
      "execution_count": null,
      "outputs": [
        {
          "output_type": "stream",
          "text": [
            "<class 'pandas.core.frame.DataFrame'>\n",
            "RangeIndex: 1338 entries, 0 to 1337\n",
            "Data columns (total 7 columns):\n",
            " #   Column    Non-Null Count  Dtype  \n",
            "---  ------    --------------  -----  \n",
            " 0   age       1338 non-null   int64  \n",
            " 1   sex       1338 non-null   object \n",
            " 2   bmi       1338 non-null   float64\n",
            " 3   children  1338 non-null   int64  \n",
            " 4   smoker    1338 non-null   object \n",
            " 5   region    1338 non-null   object \n",
            " 6   expenses  1338 non-null   float64\n",
            "dtypes: float64(2), int64(2), object(3)\n",
            "memory usage: 73.3+ KB\n"
          ],
          "name": "stdout"
        }
      ]
    },
    {
      "cell_type": "code",
      "metadata": {
        "colab": {
          "base_uri": "https://localhost:8080/",
          "height": 612
        },
        "id": "X24VOVQvgvUT",
        "outputId": "f3da03d5-f57b-4d76-e891-138f486f2077"
      },
      "source": [
        "fig, ax = plt.subplots(figsize=(10,10))\n",
        "\n",
        "corr = data.corr()\n",
        "sns.heatmap(corr , annot = True , ax=ax)"
      ],
      "execution_count": null,
      "outputs": [
        {
          "output_type": "execute_result",
          "data": {
            "text/plain": [
              "<matplotlib.axes._subplots.AxesSubplot at 0x7f79a04df910>"
            ]
          },
          "metadata": {
            "tags": []
          },
          "execution_count": 122
        },
        {
          "output_type": "display_data",
          "data": {
            "image/png": "[encoded data removed]",
            "text/plain": [
              "<Figure size 720x720 with 2 Axes>"
            ]
          },
          "metadata": {
            "tags": [],
            "needs_background": "light"
          }
        }
      ]
    },
    {
      "cell_type": "code",
      "metadata": {
        "id": "eGnsonVL4n29"
      },
      "source": [
        "import pickle\n",
        "\n",
        "def save_object(obj , name):\n",
        "    pickle_obj = open(f\"{name}.pck\",\"wb\")\n",
        "    pickle.dump(obj, pickle_obj)\n",
        "    pickle_obj.close()"
      ],
      "execution_count": null,
      "outputs": []
    },
    {
      "cell_type": "code",
      "metadata": {
        "colab": {
          "base_uri": "https://localhost:8080/"
        },
        "id": "nYqZSRI0gzkO",
        "outputId": "dbf89ccd-1b9e-4a8e-d529-774d73518ebd"
      },
      "source": [
        "d_types = dict(data.dtypes)\n",
        "for name , type_ in d_types.items():\n",
        "    if str(type_) == 'object':\n",
        "        print(f\"<======== {name} ===========>\")\n",
        "        print(data[name].value_counts())\n",
        "        print()"
      ],
      "execution_count": null,
      "outputs": [
        {
          "output_type": "stream",
          "text": [
            "<======== sex ===========>\n",
            "male      676\n",
            "female    662\n",
            "Name: sex, dtype: int64\n",
            "\n",
            "<======== smoker ===========>\n",
            "no     1064\n",
            "yes     274\n",
            "Name: smoker, dtype: int64\n",
            "\n",
            "<======== region ===========>\n",
            "southeast    364\n",
            "southwest    325\n",
            "northwest    325\n",
            "northeast    324\n",
            "Name: region, dtype: int64\n",
            "\n"
          ],
          "name": "stdout"
        }
      ]
    },
    {
      "cell_type": "code",
      "metadata": {
        "id": "KK6XxZR2g5wJ"
      },
      "source": [
        "from sklearn.preprocessing import LabelEncoder\n",
        "\n",
        "for name , type_ in d_types.items():\n",
        "    if str(type_) == 'object':\n",
        "        Le = LabelEncoder()\n",
        "        data[name] = Le.fit_transform(data[name])\n",
        "        save_object(Le , f\"Label_Encoder_{name}\")"
      ],
      "execution_count": null,
      "outputs": []
    },
    {
      "cell_type": "code",
      "metadata": {
        "colab": {
          "base_uri": "https://localhost:8080/"
        },
        "id": "yTSPJ7U1g9II",
        "outputId": "7328f1b4-77d5-4b2e-f9c9-a56991d8e5f8"
      },
      "source": [
        "data.info()"
      ],
      "execution_count": null,
      "outputs": [
        {
          "output_type": "stream",
          "text": [
            "<class 'pandas.core.frame.DataFrame'>\n",
            "RangeIndex: 1338 entries, 0 to 1337\n",
            "Data columns (total 7 columns):\n",
            " #   Column    Non-Null Count  Dtype  \n",
            "---  ------    --------------  -----  \n",
            " 0   age       1338 non-null   int64  \n",
            " 1   sex       1338 non-null   int64  \n",
            " 2   bmi       1338 non-null   float64\n",
            " 3   children  1338 non-null   int64  \n",
            " 4   smoker    1338 non-null   int64  \n",
            " 5   region    1338 non-null   int64  \n",
            " 6   expenses  1338 non-null   float64\n",
            "dtypes: float64(2), int64(5)\n",
            "memory usage: 73.3 KB\n"
          ],
          "name": "stdout"
        }
      ]
    },
    {
      "cell_type": "code",
      "metadata": {
        "colab": {
          "base_uri": "https://localhost:8080/",
          "height": 204
        },
        "id": "9e3MgS0yiK8l",
        "outputId": "98af5907-2c88-4e3d-81a2-efbe42dbea0d"
      },
      "source": [
        "from sklearn.preprocessing import OneHotEncoder\n",
        "\n",
        "onehotencoder = OneHotEncoder()\n",
        "part = onehotencoder.fit_transform(data['region'].values.reshape(-1,1)).toarray()\n",
        "save_object(onehotencoder , \"OneHotEncoder_region\")\n",
        "\n",
        "values = dict(data[\"region\"].value_counts())\n",
        "\n",
        "for e , (val , _) in enumerate(values.items()):\n",
        "    data[\"region_\" + str(val)] = part[:,e]\n",
        "\n",
        "data = data.drop([\"region\"] , axis = 1)\n",
        "\n",
        "data.head()"
      ],
      "execution_count": null,
      "outputs": [
        {
          "output_type": "execute_result",
          "data": {
            "text/html": [
              "<div>\n",
              "<style scoped>\n",
              "    .dataframe tbody tr th:only-of-type {\n",
              "        vertical-align: middle;\n",
              "    }\n",
              "\n",
              "    .dataframe tbody tr th {\n",
              "        vertical-align: top;\n",
              "    }\n",
              "\n",
              "    .dataframe thead th {\n",
              "        text-align: right;\n",
              "    }\n",
              "</style>\n",
              "<table border=\"1\" class=\"dataframe\">\n",
              "  <thead>\n",
              "    <tr style=\"text-align: right;\">\n",
              "      <th></th>\n",
              "      <th>age</th>\n",
              "      <th>sex</th>\n",
              "      <th>bmi</th>\n",
              "      <th>children</th>\n",
              "      <th>smoker</th>\n",
              "      <th>expenses</th>\n",
              "      <th>region_2</th>\n",
              "      <th>region_3</th>\n",
              "      <th>region_1</th>\n",
              "      <th>region_0</th>\n",
              "    </tr>\n",
              "  </thead>\n",
              "  <tbody>\n",
              "    <tr>\n",
              "      <th>0</th>\n",
              "      <td>19</td>\n",
              "      <td>0</td>\n",
              "      <td>27.9</td>\n",
              "      <td>0</td>\n",
              "      <td>1</td>\n",
              "      <td>16884.92</td>\n",
              "      <td>0.0</td>\n",
              "      <td>0.0</td>\n",
              "      <td>0.0</td>\n",
              "      <td>1.0</td>\n",
              "    </tr>\n",
              "    <tr>\n",
              "      <th>1</th>\n",
              "      <td>18</td>\n",
              "      <td>1</td>\n",
              "      <td>33.8</td>\n",
              "      <td>1</td>\n",
              "      <td>0</td>\n",
              "      <td>1725.55</td>\n",
              "      <td>0.0</td>\n",
              "      <td>0.0</td>\n",
              "      <td>1.0</td>\n",
              "      <td>0.0</td>\n",
              "    </tr>\n",
              "    <tr>\n",
              "      <th>2</th>\n",
              "      <td>28</td>\n",
              "      <td>1</td>\n",
              "      <td>33.0</td>\n",
              "      <td>3</td>\n",
              "      <td>0</td>\n",
              "      <td>4449.46</td>\n",
              "      <td>0.0</td>\n",
              "      <td>0.0</td>\n",
              "      <td>1.0</td>\n",
              "      <td>0.0</td>\n",
              "    </tr>\n",
              "    <tr>\n",
              "      <th>3</th>\n",
              "      <td>33</td>\n",
              "      <td>1</td>\n",
              "      <td>22.7</td>\n",
              "      <td>0</td>\n",
              "      <td>0</td>\n",
              "      <td>21984.47</td>\n",
              "      <td>0.0</td>\n",
              "      <td>1.0</td>\n",
              "      <td>0.0</td>\n",
              "      <td>0.0</td>\n",
              "    </tr>\n",
              "    <tr>\n",
              "      <th>4</th>\n",
              "      <td>32</td>\n",
              "      <td>1</td>\n",
              "      <td>28.9</td>\n",
              "      <td>0</td>\n",
              "      <td>0</td>\n",
              "      <td>3866.86</td>\n",
              "      <td>0.0</td>\n",
              "      <td>1.0</td>\n",
              "      <td>0.0</td>\n",
              "      <td>0.0</td>\n",
              "    </tr>\n",
              "  </tbody>\n",
              "</table>\n",
              "</div>"
            ],
            "text/plain": [
              "   age  sex   bmi  children  ...  region_2  region_3  region_1  region_0\n",
              "0   19    0  27.9         0  ...       0.0       0.0       0.0       1.0\n",
              "1   18    1  33.8         1  ...       0.0       0.0       1.0       0.0\n",
              "2   28    1  33.0         3  ...       0.0       0.0       1.0       0.0\n",
              "3   33    1  22.7         0  ...       0.0       1.0       0.0       0.0\n",
              "4   32    1  28.9         0  ...       0.0       1.0       0.0       0.0\n",
              "\n",
              "[5 rows x 10 columns]"
            ]
          },
          "metadata": {
            "tags": []
          },
          "execution_count": 127
        }
      ]
    },
    {
      "cell_type": "code",
      "metadata": {
        "colab": {
          "base_uri": "https://localhost:8080/"
        },
        "id": "_FU902xaiQiI",
        "outputId": "0189f06f-53e8-4e32-a6f3-c7420731f5e2"
      },
      "source": [
        "data.info()"
      ],
      "execution_count": null,
      "outputs": [
        {
          "output_type": "stream",
          "text": [
            "<class 'pandas.core.frame.DataFrame'>\n",
            "RangeIndex: 1338 entries, 0 to 1337\n",
            "Data columns (total 10 columns):\n",
            " #   Column    Non-Null Count  Dtype  \n",
            "---  ------    --------------  -----  \n",
            " 0   age       1338 non-null   int64  \n",
            " 1   sex       1338 non-null   int64  \n",
            " 2   bmi       1338 non-null   float64\n",
            " 3   children  1338 non-null   int64  \n",
            " 4   smoker    1338 non-null   int64  \n",
            " 5   expenses  1338 non-null   float64\n",
            " 6   region_2  1338 non-null   float64\n",
            " 7   region_3  1338 non-null   float64\n",
            " 8   region_1  1338 non-null   float64\n",
            " 9   region_0  1338 non-null   float64\n",
            "dtypes: float64(6), int64(4)\n",
            "memory usage: 104.7 KB\n"
          ],
          "name": "stdout"
        }
      ]
    },
    {
      "cell_type": "markdown",
      "metadata": {
        "id": "I_BH43bxkTD3"
      },
      "source": [
        "Handle Skewness in Predictive column"
      ]
    },
    {
      "cell_type": "code",
      "metadata": {
        "colab": {
          "base_uri": "https://localhost:8080/"
        },
        "id": "yV0bXRtskTp2",
        "outputId": "ca981fa8-5068-485e-d840-eddcc13cae73"
      },
      "source": [
        "Original_Y = data[\"expenses\"].values.copy()\n",
        "Original_Y"
      ],
      "execution_count": null,
      "outputs": [
        {
          "output_type": "execute_result",
          "data": {
            "text/plain": [
              "array([16884.92,  1725.55,  4449.46, ...,  1629.83,  2007.95, 29141.36])"
            ]
          },
          "metadata": {
            "tags": []
          },
          "execution_count": 129
        }
      ]
    },
    {
      "cell_type": "code",
      "metadata": {
        "colab": {
          "base_uri": "https://localhost:8080/",
          "height": 282
        },
        "id": "EM5DJasekZzZ",
        "outputId": "fd0f207b-82bf-4b68-8f57-e301e16a683c"
      },
      "source": [
        "print(\"Skewness in Column : Expenses \" , data[\"expenses\"].skew())\n",
        "\n",
        "plt.hist(data[\"expenses\"])\n",
        "plt.show()"
      ],
      "execution_count": null,
      "outputs": [
        {
          "output_type": "stream",
          "text": [
            "Skewness in Column : Expenses  1.51587966289798\n"
          ],
          "name": "stdout"
        },
        {
          "output_type": "display_data",
          "data": {
            "image/png": "[encoded data removed]",
            "text/plain": [
              "<Figure size 432x288 with 1 Axes>"
            ]
          },
          "metadata": {
            "tags": [],
            "needs_background": "light"
          }
        }
      ]
    },
    {
      "cell_type": "code",
      "metadata": {
        "colab": {
          "base_uri": "https://localhost:8080/",
          "height": 282
        },
        "id": "_LoFK2sQnQgQ",
        "outputId": "9f0de345-0590-4a02-97cf-b19fea45a409"
      },
      "source": [
        "col_log = np.log(data[\"expenses\"])\n",
        "print(\"Skewness in Column : Log Expenses \" , col_log.skew())\n",
        "\n",
        "plt.hist(col_log)\n",
        "plt.show()"
      ],
      "execution_count": null,
      "outputs": [
        {
          "output_type": "stream",
          "text": [
            "Skewness in Column : Log Expenses  -0.0900974307762623\n"
          ],
          "name": "stdout"
        },
        {
          "output_type": "display_data",
          "data": {
            "image/png": "[encoded data removed]",
            "text/plain": [
              "<Figure size 432x288 with 1 Axes>"
            ]
          },
          "metadata": {
            "tags": [],
            "needs_background": "light"
          }
        }
      ]
    },
    {
      "cell_type": "code",
      "metadata": {
        "colab": {
          "base_uri": "https://localhost:8080/",
          "height": 282
        },
        "id": "GV3CQpPTnTeT",
        "outputId": "884bcace-7fb0-4620-b48a-c41066d1dfec"
      },
      "source": [
        "col_sqrt = np.sqrt(data[\"expenses\"])\n",
        "\n",
        "print(\"Skewness in Column : Sqrt Expenses \" ,col_sqrt.skew())\n",
        "\n",
        "plt.hist(col_sqrt)\n",
        "plt.show()"
      ],
      "execution_count": null,
      "outputs": [
        {
          "output_type": "stream",
          "text": [
            "Skewness in Column : Sqrt Expenses  0.7958625295340573\n"
          ],
          "name": "stdout"
        },
        {
          "output_type": "display_data",
          "data": {
            "image/png": "[encoded data removed]",
            "text/plain": [
              "<Figure size 432x288 with 1 Axes>"
            ]
          },
          "metadata": {
            "tags": [],
            "needs_background": "light"
          }
        }
      ]
    },
    {
      "cell_type": "code",
      "metadata": {
        "colab": {
          "base_uri": "https://localhost:8080/",
          "height": 282
        },
        "id": "ifLzhwr0nXPI",
        "outputId": "bf774ae6-5a6f-4778-a742-88e23b3dc10a"
      },
      "source": [
        "from scipy import stats \n",
        "\n",
        "col_cox , lam = stats.boxcox(data[\"expenses\"])[0:2]\n",
        "print(\"Skewness in Column : boxcox Expenses \" ,pd.Series(col_cox).skew())\n",
        "save_object(lam , \"boxcox_lambda\")\n",
        "\n",
        "plt.hist(col_cox)\n",
        "plt.show()"
      ],
      "execution_count": null,
      "outputs": [
        {
          "output_type": "stream",
          "text": [
            "Skewness in Column : boxcox Expenses  -0.008734062011873602\n"
          ],
          "name": "stdout"
        },
        {
          "output_type": "display_data",
          "data": {
            "image/png": "[encoded data removed]",
            "text/plain": [
              "<Figure size 432x288 with 1 Axes>"
            ]
          },
          "metadata": {
            "tags": [],
            "needs_background": "light"
          }
        }
      ]
    },
    {
      "cell_type": "code",
      "metadata": {
        "id": "yqIlMS1_ncDd"
      },
      "source": [
        "data[\"expenses\"] = col_cox"
      ],
      "execution_count": null,
      "outputs": []
    },
    {
      "cell_type": "code",
      "metadata": {
        "id": "kgn5m98chC2h"
      },
      "source": [
        "#X = data.iloc[:,:-1].values\n",
        "#Y = data.iloc[:,-1].values\n",
        "\n",
        "remaining_columns = list(data.columns)\n",
        "remaining_columns.remove(\"expenses\")\n",
        "\n",
        "X = data[remaining_columns].values \n",
        "Y = data['expenses'].values"
      ],
      "execution_count": null,
      "outputs": []
    },
    {
      "cell_type": "code",
      "metadata": {
        "id": "kZiskbJ55QGe"
      },
      "source": [
        "save_object(remaining_columns , \"columns\")"
      ],
      "execution_count": null,
      "outputs": []
    },
    {
      "cell_type": "code",
      "metadata": {
        "colab": {
          "base_uri": "https://localhost:8080/"
        },
        "id": "BuPcPEOThFQl",
        "outputId": "8122fee3-cb08-48d4-d811-324d6a347323"
      },
      "source": [
        "X.shape , Y.shape"
      ],
      "execution_count": null,
      "outputs": [
        {
          "output_type": "execute_result",
          "data": {
            "text/plain": [
              "((1338, 9), (1338,))"
            ]
          },
          "metadata": {
            "tags": []
          },
          "execution_count": 138
        }
      ]
    },
    {
      "cell_type": "code",
      "metadata": {
        "id": "uHfaRrPZpybk"
      },
      "source": [
        "from sklearn.preprocessing import StandardScaler\n",
        "\n",
        "Scaler = StandardScaler()\n",
        "X = Scaler.fit_transform(X)"
      ],
      "execution_count": null,
      "outputs": []
    },
    {
      "cell_type": "markdown",
      "metadata": {
        "id": "9AhIuVlqpoJD"
      },
      "source": [
        "for kfold use last after kfold lines"
      ]
    },
    {
      "cell_type": "code",
      "metadata": {
        "colab": {
          "base_uri": "https://localhost:8080/"
        },
        "id": "QVx0nEbvhHbi",
        "outputId": "cac888b3-3bae-43fc-e19c-fb8eb85fa892"
      },
      "source": [
        "from sklearn.model_selection import train_test_split \n",
        "\n",
        "Xtrain , Xtest , Ytrain , Ytest = train_test_split(X , Y , test_size = 0.2 , random_state = 4)\n",
        "\n"
      ],
      "execution_count": null,
      "outputs": [
        {
          "output_type": "execute_result",
          "data": {
            "text/plain": [
              "((1070, 9), (268, 9))"
            ]
          },
          "metadata": {
            "tags": []
          },
          "execution_count": 69
        }
      ]
    },
    {
      "cell_type": "code",
      "metadata": {
        "id": "DejCMRUc5cGx"
      },
      "source": [
        "from sklearn.model_selection import train_test_split \n",
        "from sklearn.preprocessing import StandardScaler\n",
        "\n",
        "Xtrain , Xtest , Ytrain , Ytest = train_test_split(X , Y , test_size = 0.2 , random_state = 4)\n",
        "\n",
        "Scaler = StandardScaler()\n",
        "Xtrain = Scaler.fit_transform(Xtrain)\n",
        "Xtest = Scaler.transform(Xtest)\n",
        "\n",
        "save_object(Scaler , \"Scaler\")"
      ],
      "execution_count": null,
      "outputs": []
    },
    {
      "cell_type": "code",
      "metadata": {
        "id": "qGAAUUK7pab1"
      },
      "source": [
        "from sklearn.preprocessing import StandardScaler\n",
        "\n",
        "Scaler = StandardScaler()\n",
        "Xtrain = Scaler.fit_transform(Xtrain)\n",
        "Xtest = Scaler.transform(Xtest)\n",
        "\n",
        "Xtrain.shape , Xtest.shape"
      ],
      "execution_count": null,
      "outputs": []
    },
    {
      "cell_type": "code",
      "metadata": {
        "colab": {
          "base_uri": "https://localhost:8080/",
          "height": 286
        },
        "id": "FXVUAfP0hQF7",
        "outputId": "a75cf508-cca5-42a7-bcf1-bfc76ee18cf7"
      },
      "source": [
        "# check whether data is standardized or not \n",
        "# mean should be 1 \n",
        "\n",
        "plt.ylim(-1,1)\n",
        "\n",
        "means = []\n",
        "for i in range(X.shape[1]):\n",
        "    means.append(np.mean(Xtest[:,i]))\n",
        "plt.plot(means , scaley=False)"
      ],
      "execution_count": null,
      "outputs": [
        {
          "output_type": "execute_result",
          "data": {
            "text/plain": [
              "[<matplotlib.lines.Line2D at 0x7f79a01c0190>]"
            ]
          },
          "metadata": {
            "tags": []
          },
          "execution_count": 140
        },
        {
          "output_type": "display_data",
          "data": {
            "image/png": "[encoded data removed]",
            "text/plain": [
              "<Figure size 432x288 with 1 Axes>"
            ]
          },
          "metadata": {
            "tags": [],
            "needs_background": "light"
          }
        }
      ]
    },
    {
      "cell_type": "code",
      "metadata": {
        "colab": {
          "base_uri": "https://localhost:8080/",
          "height": 286
        },
        "id": "0hMMD7iOhX5l",
        "outputId": "e35faa38-feb7-47ff-c9ae-c060a17c8166"
      },
      "source": [
        "# Check variances \n",
        "\n",
        "plt.ylim(0,2)\n",
        "\n",
        "vars = []\n",
        "for i in range(X.shape[1]):\n",
        "    vars.append(np.var(Xtest[:,i]))\n",
        "plt.plot(vars)"
      ],
      "execution_count": null,
      "outputs": [
        {
          "output_type": "execute_result",
          "data": {
            "text/plain": [
              "[<matplotlib.lines.Line2D at 0x7f79a00b3850>]"
            ]
          },
          "metadata": {
            "tags": []
          },
          "execution_count": 141
        },
        {
          "output_type": "display_data",
          "data": {
            "image/png": "[encoded data removed]",
            "text/plain": [
              "<Figure size 432x288 with 1 Axes>"
            ]
          },
          "metadata": {
            "tags": [],
            "needs_background": "light"
          }
        }
      ]
    },
    {
      "cell_type": "code",
      "metadata": {
        "colab": {
          "base_uri": "https://localhost:8080/"
        },
        "id": "aU7P_oFYhaV4",
        "outputId": "03c709fa-724c-43af-ba0d-5e14da1218fc"
      },
      "source": [
        "#from sklearn.linear_model import LinearRegression\n",
        "\n",
        "#model = LinearRegression()\n",
        "#model.fit(Xtrain , Ytrain)\n",
        "\n",
        "from sklearn.linear_model import LinearRegression\n",
        "from sklearn.feature_selection import RFECV\n",
        "\n",
        "model = LinearRegression()\n",
        "rfecv = RFECV(model , step = 1, min_features_to_select = 4 , n_jobs = -1)\n",
        "rfecv.fit(Xtrain , Ytrain)"
      ],
      "execution_count": null,
      "outputs": [
        {
          "output_type": "execute_result",
          "data": {
            "text/plain": [
              "RFECV(cv=None,\n",
              "      estimator=LinearRegression(copy_X=True, fit_intercept=True, n_jobs=None,\n",
              "                                 normalize=False),\n",
              "      min_features_to_select=4, n_jobs=-1, scoring=None, step=1, verbose=0)"
            ]
          },
          "metadata": {
            "tags": []
          },
          "execution_count": 51
        }
      ]
    },
    {
      "cell_type": "code",
      "metadata": {
        "colab": {
          "base_uri": "https://localhost:8080/"
        },
        "id": "UYB_uKqlitEC",
        "outputId": "a3eb6836-ff33-4c35-d543-2d24cdbf6447"
      },
      "source": [
        "rfecv.support_"
      ],
      "execution_count": null,
      "outputs": [
        {
          "output_type": "execute_result",
          "data": {
            "text/plain": [
              "array([ True, False,  True,  True,  True,  True,  True, False, False])"
            ]
          },
          "metadata": {
            "tags": []
          },
          "execution_count": 52
        }
      ]
    },
    {
      "cell_type": "code",
      "metadata": {
        "colab": {
          "base_uri": "https://localhost:8080/"
        },
        "id": "gKh7QQzbiu9H",
        "outputId": "00e6b494-b8ae-4fa9-a673-488464b59396"
      },
      "source": [
        "rfecv.ranking_"
      ],
      "execution_count": null,
      "outputs": [
        {
          "output_type": "execute_result",
          "data": {
            "text/plain": [
              "array([1, 4, 1, 1, 1, 1, 1, 2, 3])"
            ]
          },
          "metadata": {
            "tags": []
          },
          "execution_count": 53
        }
      ]
    },
    {
      "cell_type": "code",
      "metadata": {
        "id": "g95tH4Iyi0YH"
      },
      "source": [
        "selected_features = np.where(rfecv.support_)[0]\n",
        "Xtrain = Xtrain[:,selected_features]\n",
        "Xtest = Xtest[:,selected_features]"
      ],
      "execution_count": null,
      "outputs": []
    },
    {
      "cell_type": "code",
      "metadata": {
        "colab": {
          "base_uri": "https://localhost:8080/"
        },
        "id": "ZdVoCjb2i037",
        "outputId": "20651096-edd0-4842-d5a4-c108d6f7a2ba"
      },
      "source": [
        "model.fit(Xtrain , Ytrain)"
      ],
      "execution_count": null,
      "outputs": [
        {
          "output_type": "execute_result",
          "data": {
            "text/plain": [
              "LinearRegression(copy_X=True, fit_intercept=True, n_jobs=None, normalize=False)"
            ]
          },
          "metadata": {
            "tags": []
          },
          "execution_count": 55
        }
      ]
    },
    {
      "cell_type": "code",
      "metadata": {
        "colab": {
          "base_uri": "https://localhost:8080/",
          "height": 265
        },
        "id": "h0da-ViroScB",
        "outputId": "5590ce34-9bf2-46d4-e1f0-87a12bb238cc"
      },
      "source": [
        "from sklearn.linear_model import LinearRegression\n",
        "from sklearn.decomposition import PCA\n",
        "\n",
        "pca = PCA(n_components = 7)\n",
        "Xtrain = pca.fit_transform(Xtrain)\n",
        "Xtest = pca.transform(Xtest)\n",
        " \n",
        "plt.plot(pca.explained_variance_ratio_.cumsum())\n",
        "\n",
        "save_object(pca , \"PCA\")"
      ],
      "execution_count": null,
      "outputs": [
        {
          "output_type": "display_data",
          "data": {
            "image/png": "[encoded data removed]",
            "text/plain": [
              "<Figure size 432x288 with 1 Axes>"
            ]
          },
          "metadata": {
            "tags": [],
            "needs_background": "light"
          }
        }
      ]
    },
    {
      "cell_type": "code",
      "metadata": {
        "colab": {
          "base_uri": "https://localhost:8080/"
        },
        "id": "rO09y6AEoNUg",
        "outputId": "faaa768d-6f6b-44d1-9e42-a3b642bf9273"
      },
      "source": [
        "model = LinearRegression()\n",
        "model.fit(Xtrain , Ytrain)"
      ],
      "execution_count": null,
      "outputs": [
        {
          "output_type": "execute_result",
          "data": {
            "text/plain": [
              "LinearRegression(copy_X=True, fit_intercept=True, n_jobs=None, normalize=False)"
            ]
          },
          "metadata": {
            "tags": []
          },
          "execution_count": 143
        }
      ]
    },
    {
      "cell_type": "code",
      "metadata": {
        "colab": {
          "base_uri": "https://localhost:8080/"
        },
        "id": "WJCJSyQQ5xle",
        "outputId": "c2a8a474-f77a-4755-e8f5-43a75733f5f9"
      },
      "source": [
        "Ypred = model.predict(Xtest)\n",
        "\n",
        "print(\"rmse_score : \" , rmse_score(Ytest , Ypred))\n",
        "print(\"r2_score : \" , r2_score(Ytest , Ypred))\n",
        "print(\"mae : \" , mae(Ytest , Ypred))\n",
        "print(\"adj_r2_score : \" , adj_r2_score(Ytest , Ypred , Xtest.shape[1]))"
      ],
      "execution_count": null,
      "outputs": [
        {
          "output_type": "stream",
          "text": [
            "rmse_score :  0.6817554906479537\n",
            "r2_score :  0.7497119096615366\n",
            "mae :  0.42150203685060006\n",
            "adj_r2_score :  0.7429733841524241\n"
          ],
          "name": "stdout"
        }
      ]
    },
    {
      "cell_type": "markdown",
      "metadata": {
        "id": "1WbA52H457Ga"
      },
      "source": [
        "save the model into pickle file"
      ]
    },
    {
      "cell_type": "code",
      "metadata": {
        "id": "MqjKH53i5y0f"
      },
      "source": [
        "save_object(model , \"MyModel\")"
      ],
      "execution_count": null,
      "outputs": []
    },
    {
      "cell_type": "code",
      "metadata": {
        "colab": {
          "base_uri": "https://localhost:8080/"
        },
        "id": "1eVj4u25hcj7",
        "outputId": "1eef5119-c509-47fb-aae2-508acc25c538"
      },
      "source": [
        "model.coef_"
      ],
      "execution_count": null,
      "outputs": [
        {
          "output_type": "execute_result",
          "data": {
            "text/plain": [
              "array([ 0.17164153,  0.08197176,  0.02232378,  0.43355789,  0.54318205,\n",
              "       -0.29099124,  0.94352298])"
            ]
          },
          "metadata": {
            "tags": []
          },
          "execution_count": 75
        }
      ]
    },
    {
      "cell_type": "code",
      "metadata": {
        "colab": {
          "base_uri": "https://localhost:8080/"
        },
        "id": "AmJrY49ahdBV",
        "outputId": "45575df4-acfc-4a07-e4f7-e386377c1016"
      },
      "source": [
        "model.intercept_"
      ],
      "execution_count": null,
      "outputs": [
        {
          "output_type": "execute_result",
          "data": {
            "text/plain": [
              "11.221776259503466"
            ]
          },
          "metadata": {
            "tags": []
          },
          "execution_count": 76
        }
      ]
    },
    {
      "cell_type": "code",
      "metadata": {
        "colab": {
          "base_uri": "https://localhost:8080/"
        },
        "id": "iBVUtOWphe5o",
        "outputId": "5385fe85-2e78-4f13-a540-7369a2eb7e0f"
      },
      "source": [
        "# Y = W.X + c\n",
        "model.coef_.dot(Xtest[10,:]) + model.intercept_"
      ],
      "execution_count": null,
      "outputs": [
        {
          "output_type": "execute_result",
          "data": {
            "text/plain": [
              "9.853713595940008"
            ]
          },
          "metadata": {
            "tags": []
          },
          "execution_count": 77
        }
      ]
    },
    {
      "cell_type": "markdown",
      "metadata": {
        "id": "eG7BeKXvhnmG"
      },
      "source": [
        "Inbuilt method predict"
      ]
    },
    {
      "cell_type": "code",
      "metadata": {
        "colab": {
          "base_uri": "https://localhost:8080/"
        },
        "id": "kNU9kdjehhPj",
        "outputId": "e10a42fc-f5e7-4f12-b8d7-0d45aebcc0cf"
      },
      "source": [
        "model.predict(Xtest[10,:].reshape(1,-1))"
      ],
      "execution_count": null,
      "outputs": [
        {
          "output_type": "execute_result",
          "data": {
            "text/plain": [
              "array([9.8537136])"
            ]
          },
          "metadata": {
            "tags": []
          },
          "execution_count": 78
        }
      ]
    },
    {
      "cell_type": "code",
      "metadata": {
        "colab": {
          "base_uri": "https://localhost:8080/"
        },
        "id": "pnaS3fUgh86d",
        "outputId": "2664ccb8-dff5-441f-a87e-dff4dfacb856"
      },
      "source": [
        "model.score(Xtest , Ytest)"
      ],
      "execution_count": null,
      "outputs": [
        {
          "output_type": "execute_result",
          "data": {
            "text/plain": [
              "0.7497119096615367"
            ]
          },
          "metadata": {
            "tags": []
          },
          "execution_count": 79
        }
      ]
    },
    {
      "cell_type": "code",
      "metadata": {
        "id": "YU8SJ9lwoajY"
      },
      "source": [
        "from scipy.special import inv_boxcox\n",
        "\n",
        "transformed_data = inv_boxcox(Y , lam)"
      ],
      "execution_count": null,
      "outputs": []
    },
    {
      "cell_type": "code",
      "metadata": {
        "colab": {
          "base_uri": "https://localhost:8080/"
        },
        "id": "y9aLlevlobAO",
        "outputId": "fcf3b112-831c-41bd-feb6-ffc150c8276a"
      },
      "source": [
        "transformed_data[:10]"
      ],
      "execution_count": null,
      "outputs": [
        {
          "output_type": "execute_result",
          "data": {
            "text/plain": [
              "array([16884.92,  1725.55,  4449.46, 21984.47,  3866.86,  3756.62,\n",
              "        8240.59,  7281.51,  6406.41, 28923.14])"
            ]
          },
          "metadata": {
            "tags": []
          },
          "execution_count": 81
        }
      ]
    },
    {
      "cell_type": "code",
      "metadata": {
        "colab": {
          "base_uri": "https://localhost:8080/"
        },
        "id": "HnaIUfZjoccW",
        "outputId": "4b248a52-fdb7-4a26-b6a7-758aa7e9c59c"
      },
      "source": [
        "Original_Y[:10]"
      ],
      "execution_count": null,
      "outputs": [
        {
          "output_type": "execute_result",
          "data": {
            "text/plain": [
              "array([16884.92,  1725.55,  4449.46, 21984.47,  3866.86,  3756.62,\n",
              "        8240.59,  7281.51,  6406.41, 28923.14])"
            ]
          },
          "metadata": {
            "tags": []
          },
          "execution_count": 82
        }
      ]
    },
    {
      "cell_type": "markdown",
      "metadata": {
        "id": "I-rTJlM5pe5o"
      },
      "source": [
        "KFolds cross validation to gain confidence from our training dataset"
      ]
    },
    {
      "cell_type": "code",
      "metadata": {
        "colab": {
          "base_uri": "https://localhost:8080/"
        },
        "id": "bO9dyxHipeC-",
        "outputId": "9226cd40-7978-49fb-c077-167bff26f2fd"
      },
      "source": [
        "from sklearn.linear_model import LinearRegression\n",
        "from sklearn.decomposition import PCA \n",
        "\n",
        "pca = PCA(n_components = 7)\n",
        "X = pca.fit_transform(X)\n",
        "\n",
        "pca.explained_variance_ratio_.cumsum()"
      ],
      "execution_count": null,
      "outputs": [
        {
          "output_type": "execute_result",
          "data": {
            "text/plain": [
              "array([0.17443158, 0.32284686, 0.46979121, 0.59049392, 0.70795154,\n",
              "       0.81403557, 0.91668333])"
            ]
          },
          "metadata": {
            "tags": []
          },
          "execution_count": 102
        }
      ]
    },
    {
      "cell_type": "code",
      "metadata": {
        "id": "negwO2fLp6RG"
      },
      "source": [
        "from sklearn.model_selection import KFold \n",
        "\n",
        "k_fold = KFold(n_splits=5)\n",
        "\n",
        "test_scores = []\n",
        "for train_idx , test_idx in k_fold.split(X):\n",
        "    Xtrain = X[train_idx]\n",
        "    Ytrain = Y[train_idx]\n",
        "\n",
        "    Xtest = X[test_idx]\n",
        "    Ytest = Y[test_idx]\n",
        "\n",
        "    model = LinearRegression()\n",
        "    model.fit(Xtrain , Ytrain)\n",
        "\n",
        "    test_scores.append(model.score(Xtest , Ytest))"
      ],
      "execution_count": null,
      "outputs": []
    },
    {
      "cell_type": "markdown",
      "metadata": {
        "id": "wnJaECkfqiiC"
      },
      "source": [
        "mean score of model accuracy"
      ]
    },
    {
      "cell_type": "code",
      "metadata": {
        "colab": {
          "base_uri": "https://localhost:8080/",
          "height": 286
        },
        "id": "uyp1oySUp9je",
        "outputId": "36300f5f-33e9-48e1-aa76-60b8bb89f82a"
      },
      "source": [
        "print(\" mean score of k folds : \" , np.mean(test_scores))\n",
        "\n",
        "plt.plot(test_scores)\n",
        "plt.plot([np.mean(test_scores)]*len(test_scores))\n",
        "plt.show()"
      ],
      "execution_count": null,
      "outputs": [
        {
          "output_type": "stream",
          "text": [
            " mean score of k folds :  0.7668904952811475\n"
          ],
          "name": "stdout"
        },
        {
          "output_type": "display_data",
          "data": {
            "image/png": "[encoded data removed]",
            "text/plain": [
              "<Figure size 432x288 with 1 Axes>"
            ]
          },
          "metadata": {
            "tags": [],
            "needs_background": "light"
          }
        }
      ]
    },
    {
      "cell_type": "markdown",
      "metadata": {
        "id": "n_-o95nrqm60"
      },
      "source": [
        "Previously we got a score of 0.7497119096615367 and now in kfold we get an mean score of 0.7668904952811475 which is better."
      ]
    },
    {
      "cell_type": "markdown",
      "metadata": {
        "id": "t_DQ2FH_qKIB"
      },
      "source": [
        "Can we Bring back the data?"
      ]
    },
    {
      "cell_type": "code",
      "metadata": {
        "id": "hjRb1ndAqE6I"
      },
      "source": [
        "from scipy.special import inv_boxcox\n",
        "\n",
        "Real_data = inv_boxcox(Y , lam)"
      ],
      "execution_count": null,
      "outputs": []
    },
    {
      "cell_type": "code",
      "metadata": {
        "colab": {
          "base_uri": "https://localhost:8080/"
        },
        "id": "A3BQ5lICqGaY",
        "outputId": "2c8c46f8-24eb-4f53-d6c0-56d6d50e0579"
      },
      "source": [
        "Real_data[:10]"
      ],
      "execution_count": null,
      "outputs": [
        {
          "output_type": "execute_result",
          "data": {
            "text/plain": [
              "array([16884.92,  1725.55,  4449.46, 21984.47,  3866.86,  3756.62,\n",
              "        8240.59,  7281.51,  6406.41, 28923.14])"
            ]
          },
          "metadata": {
            "tags": []
          },
          "execution_count": 106
        }
      ]
    },
    {
      "cell_type": "code",
      "metadata": {
        "colab": {
          "base_uri": "https://localhost:8080/"
        },
        "id": "_dbJgI65qH7M",
        "outputId": "7aaeb2d4-82ec-48ae-d972-ac5800e81e16"
      },
      "source": [
        "Original_Y[:10]"
      ],
      "execution_count": null,
      "outputs": [
        {
          "output_type": "execute_result",
          "data": {
            "text/plain": [
              "array([16884.92,  1725.55,  4449.46, 21984.47,  3866.86,  3756.62,\n",
              "        8240.59,  7281.51,  6406.41, 28923.14])"
            ]
          },
          "metadata": {
            "tags": []
          },
          "execution_count": 107
        }
      ]
    },
    {
      "cell_type": "markdown",
      "metadata": {
        "id": "520Nww6-uNFJ"
      },
      "source": [
        "![image.png](data:image/png;base64,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)"
      ]
    },
    {
      "cell_type": "code",
      "metadata": {
        "id": "bcyBI4p5uQKn"
      },
      "source": [
        "def rmse_score(y_test , y_pred):\n",
        "    value = (1/len(y_test))*np.sum((y_test - y_pred)**2)\n",
        "    return np.sqrt(value)\n",
        "\n",
        "def r2_score(y_test , y_pred):\n",
        "    ssr = (1/len(y_test))*np.sum((y_test - y_pred)**2)\n",
        "    sst = (1/len(y_test))*np.sum((y_test - np.mean(y_test))**2)\n",
        "    return (1 - (ssr/sst))\n",
        "\n",
        "def mae(y_test , y_pred):\n",
        "    return (1/len(y_test))*np.sum(np.abs(y_test - y_pred))\n",
        "\n",
        "def adj_r2_score(y_test , y_pred , n_features):\n",
        "    numerator = (1-r2_score(y_test , y_pred))*(len(y_test) - 1)\n",
        "    denominator = len(y_test) - n_features - 1\n",
        "    return 1 - (numerator/denominator)"
      ],
      "execution_count": null,
      "outputs": []
    },
    {
      "cell_type": "code",
      "metadata": {
        "colab": {
          "base_uri": "https://localhost:8080/",
          "height": 1000
        },
        "id": "CW7nX3QYuUnh",
        "outputId": "d39a49c5-b2d7-47bf-95c5-1913d4cdd3ef"
      },
      "source": [
        "k_fold = KFold(n_splits=5)\n",
        "\n",
        "# Plotting Root mean squared error \n",
        "rmse_scores = []\n",
        "r2_scores = []\n",
        "mae_scores = []\n",
        "r2_adj_scores = []\n",
        "\n",
        "for train_idx , test_idx in k_fold.split(X):\n",
        "    Xtrain = X[train_idx]\n",
        "    Ytrain = Y[train_idx]\n",
        "\n",
        "    Xtest = X[test_idx]\n",
        "    Ytest = Y[test_idx]\n",
        "\n",
        "    model = LinearRegression()\n",
        "    model.fit(Xtrain , Ytrain)\n",
        "\n",
        "    Ypred = model.predict(Xtest)\n",
        "    rmse_scores.append(rmse_score(Ytest , Ypred))\n",
        "    r2_scores.append(r2_score(Ytest , Ypred))\n",
        "    mae_scores.append(mae(Ytest , Ypred))\n",
        "    r2_adj_scores.append(adj_r2_score(Ytest , Ypred , Xtest.shape[1]))\n",
        "\n",
        "print(\" Average RMSE \" , np.mean(rmse_scores))\n",
        "plt.plot(rmse_scores)\n",
        "plt.plot([np.mean(rmse_scores)]*len(rmse_scores))\n",
        "plt.title(\" RMSE \")\n",
        "plt.show()\n",
        "\n",
        "print(\" Average MAE \" , np.mean(mae_scores))\n",
        "plt.plot(mae_scores)\n",
        "plt.plot([np.mean(mae_scores)]*len(mae_scores))\n",
        "plt.title(\" MAE \")\n",
        "plt.show()\n",
        "\n",
        "print(\" Average R square \" , np.mean(r2_scores))\n",
        "plt.plot(r2_scores)\n",
        "plt.plot([np.mean(r2_scores)]*len(r2_scores))\n",
        "plt.title(\" R square \")\n",
        "plt.show()\n",
        "\n",
        "print(\" Average Adj R square \" , np.mean(r2_adj_scores))\n",
        "plt.plot(r2_adj_scores)\n",
        "plt.plot([np.mean(r2_adj_scores)]*len(r2_adj_scores))\n",
        "plt.title(\" Adj R square \")\n",
        "plt.show()"
      ],
      "execution_count": null,
      "outputs": [
        {
          "output_type": "stream",
          "text": [
            " Average RMSE  0.6553523743325529\n"
          ],
          "name": "stdout"
        },
        {
          "output_type": "display_data",
          "data": {
            "image/png": "[encoded data removed]",
            "text/plain": [
              "<Figure size 432x288 with 1 Axes>"
            ]
          },
          "metadata": {
            "tags": [],
            "needs_background": "light"
          }
        },
        {
          "output_type": "stream",
          "text": [
            " Average MAE  0.4131142149084163\n"
          ],
          "name": "stdout"
        },
        {
          "output_type": "display_data",
          "data": {
            "image/png": "[encoded data removed]",
            "text/plain": [
              "<Figure size 432x288 with 1 Axes>"
            ]
          },
          "metadata": {
            "tags": [],
            "needs_background": "light"
          }
        },
        {
          "output_type": "stream",
          "text": [
            " Average R square  0.7668904952811475\n"
          ],
          "name": "stdout"
        },
        {
          "output_type": "display_data",
          "data": {
            "image/png": "[encoded data removed]",
            "text/plain": [
              "<Figure size 432x288 with 1 Axes>"
            ]
          },
          "metadata": {
            "tags": [],
            "needs_background": "light"
          }
        },
        {
          "output_type": "stream",
          "text": [
            " Average Adj R square  0.7606042897747062\n"
          ],
          "name": "stdout"
        },
        {
          "output_type": "display_data",
          "data": {
            "image/png": "[encoded data removed]",
            "text/plain": [
              "<Figure size 432x288 with 1 Axes>"
            ]
          },
          "metadata": {
            "tags": [],
            "needs_background": "light"
          }
        }
      ]
    },
    {
      "cell_type": "markdown",
      "metadata": {
        "id": "oDnBqzkZ6QDe"
      },
      "source": [
        ""
      ]
    },
    {
      "cell_type": "markdown",
      "metadata": {
        "id": "9QkCtHZY6Q9Z"
      },
      "source": [
        "Predicting real time values with saved model"
      ]
    },
    {
      "cell_type": "code",
      "metadata": {
        "id": "tpZEGS-B6Bg_"
      },
      "source": [
        "import pandas as pd \n",
        "import numpy as np\n",
        "import matplotlib.pyplot as plt\n",
        "import seaborn as sns\n",
        "import pickle"
      ],
      "execution_count": null,
      "outputs": []
    },
    {
      "cell_type": "code",
      "metadata": {
        "id": "4hITosHb6Fna"
      },
      "source": [
        "# Values \n",
        "# Label Encoding \n",
        "# OneHotEncoding \n",
        "# Scaler \n",
        "# PCA\n",
        "# Predict\n",
        "# Inverse Boxcox"
      ],
      "execution_count": null,
      "outputs": []
    },
    {
      "cell_type": "code",
      "metadata": {
        "id": "uiOO2NU06IOr"
      },
      "source": [
        "def load_object(name):\n",
        "    pickle_obj = open(f\"{name}.pck\",\"rb\")\n",
        "    obj = pickle.load(pickle_obj)\n",
        "    return obj"
      ],
      "execution_count": null,
      "outputs": []
    },
    {
      "cell_type": "code",
      "metadata": {
        "colab": {
          "base_uri": "https://localhost:8080/"
        },
        "id": "snadxabN6L1r",
        "outputId": "36c5c2c9-7178-4fc5-909b-c4b1aa77e2d4"
      },
      "source": [
        "# Load the Data Point \n",
        "\n",
        "data = pd.read_excel(\"/content/sample_data/insurance.xlsx\")\n",
        "\n",
        "idx = np.random.choice(len(data))\n",
        "to_be_predicted = data.iloc[idx,:].values\n",
        "\n",
        "col_names = data.columns \n",
        "predict_dict = {}\n",
        "\n",
        "for col_name , val in zip(col_names , to_be_predicted):\n",
        "    predict_dict[col_name] = val\n",
        "\n",
        "print(predict_dict)"
      ],
      "execution_count": null,
      "outputs": [
        {
          "output_type": "stream",
          "text": [
            "{'age': 43, 'sex': 'male', 'bmi': 35.0, 'children': 1, 'smoker': 'yes', 'region': 'northeast', 'expenses': 41034.22}\n"
          ],
          "name": "stdout"
        }
      ]
    },
    {
      "cell_type": "code",
      "metadata": {
        "id": "JvqBKAeE6OcK"
      },
      "source": [
        "real_value = predict_dict[\"expenses\"]\n",
        "del predict_dict[\"expenses\"]"
      ],
      "execution_count": null,
      "outputs": []
    },
    {
      "cell_type": "code",
      "metadata": {
        "id": "P4ggKcVZ6rVl"
      },
      "source": [
        "predict_dict[\"region\"] = load_object(\"Label_Encoder_region\").transform(np.array(predict_dict[\"region\"]).reshape(-1,))"
      ],
      "execution_count": null,
      "outputs": []
    },
    {
      "cell_type": "code",
      "metadata": {
        "id": "hjGUSIXh6s33"
      },
      "source": [
        "predict_dict[\"sex\"] = load_object(\"Label_Encoder_sex\").transform(np.array(predict_dict[\"sex\"]).reshape(-1,))[0]"
      ],
      "execution_count": null,
      "outputs": []
    },
    {
      "cell_type": "code",
      "metadata": {
        "id": "t-KJOxM-6uj1"
      },
      "source": [
        "predict_dict[\"smoker\"] = load_object(\"Label_Encoder_smoker\").transform(np.array(predict_dict[\"smoker\"]).reshape(-1,))[0]"
      ],
      "execution_count": null,
      "outputs": []
    },
    {
      "cell_type": "code",
      "metadata": {
        "colab": {
          "base_uri": "https://localhost:8080/"
        },
        "id": "ofR1eUaz6wf-",
        "outputId": "966ec48a-7a6c-4a73-a320-912f5b259776"
      },
      "source": [
        "predict_dict"
      ],
      "execution_count": null,
      "outputs": [
        {
          "output_type": "execute_result",
          "data": {
            "text/plain": [
              "{'age': 43,\n",
              " 'bmi': 35.0,\n",
              " 'children': 1,\n",
              " 'region': array([0]),\n",
              " 'sex': 1,\n",
              " 'smoker': 1}"
            ]
          },
          "metadata": {
            "tags": []
          },
          "execution_count": 154
        }
      ]
    },
    {
      "cell_type": "code",
      "metadata": {
        "colab": {
          "base_uri": "https://localhost:8080/"
        },
        "id": "Urn-bqJp61_u",
        "outputId": "67503155-80b0-4474-81ab-3ffd7e7fa199"
      },
      "source": [
        "predict_dict[\"region_ohe\"] = load_object(\"OneHotEncoder_region\").transform(predict_dict[\"region\"].reshape(-1,1)).toarray()[0]\n",
        "predict_dict"
      ],
      "execution_count": null,
      "outputs": [
        {
          "output_type": "execute_result",
          "data": {
            "text/plain": [
              "{'age': 43,\n",
              " 'bmi': 35.0,\n",
              " 'children': 1,\n",
              " 'region': array([0]),\n",
              " 'region_ohe': array([1., 0., 0., 0.]),\n",
              " 'sex': 1,\n",
              " 'smoker': 1}"
            ]
          },
          "metadata": {
            "tags": []
          },
          "execution_count": 155
        }
      ]
    },
    {
      "cell_type": "code",
      "metadata": {
        "id": "ibx7De2o62Vn"
      },
      "source": [
        "del predict_dict[\"region\"]"
      ],
      "execution_count": null,
      "outputs": []
    },
    {
      "cell_type": "code",
      "metadata": {
        "id": "EcES2DCc67NX"
      },
      "source": [
        "for e , i in enumerate(predict_dict[\"region_ohe\"]):\n",
        "    predict_dict[\"region_\" + str(e)] = i"
      ],
      "execution_count": null,
      "outputs": []
    },
    {
      "cell_type": "code",
      "metadata": {
        "colab": {
          "base_uri": "https://localhost:8080/"
        },
        "id": "xuJZKn1W68nk",
        "outputId": "212876ae-c333-493c-a4ca-10097e8d4bf6"
      },
      "source": [
        "del predict_dict[\"region_ohe\"]\n",
        "predict_dict"
      ],
      "execution_count": null,
      "outputs": [
        {
          "output_type": "execute_result",
          "data": {
            "text/plain": [
              "{'age': 43,\n",
              " 'bmi': 35.0,\n",
              " 'children': 1,\n",
              " 'region_0': 1.0,\n",
              " 'region_1': 0.0,\n",
              " 'region_2': 0.0,\n",
              " 'region_3': 0.0,\n",
              " 'sex': 1,\n",
              " 'smoker': 1}"
            ]
          },
          "metadata": {
            "tags": []
          },
          "execution_count": 158
        }
      ]
    },
    {
      "cell_type": "code",
      "metadata": {
        "colab": {
          "base_uri": "https://localhost:8080/"
        },
        "id": "toi0v0f77B5z",
        "outputId": "9c45d361-b11c-4cf1-fa98-420061ae3b51"
      },
      "source": [
        "# Lets make the main array \n",
        "\n",
        "col_sequence = load_object(\"columns\")\n",
        "array = []\n",
        "\n",
        "for col_name in col_sequence :\n",
        "    array.append(predict_dict[col_name])\n",
        "\n",
        "array = np.array(array)\n",
        "\n",
        "print(array)"
      ],
      "execution_count": null,
      "outputs": [
        {
          "output_type": "stream",
          "text": [
            "[43.  1. 35.  1.  1.  0.  0.  0.  1.]\n"
          ],
          "name": "stdout"
        }
      ]
    },
    {
      "cell_type": "code",
      "metadata": {
        "colab": {
          "base_uri": "https://localhost:8080/"
        },
        "id": "y3wmrxma7fcU",
        "outputId": "e338ab9b-f740-4664-e289-fcf32a68fd61"
      },
      "source": [
        "array = load_object(\"Scaler\").transform(array.reshape(1,-1))\n",
        "array = load_object(\"PCA\").transform(array)\n",
        "array"
      ],
      "execution_count": null,
      "outputs": [
        {
          "output_type": "execute_result",
          "data": {
            "text/plain": [
              "array([[ 0.56605498,  1.97891383, -0.4405987 ,  1.86144364,  0.05383977,\n",
              "        -0.87961778,  0.7551423 ]])"
            ]
          },
          "metadata": {
            "tags": []
          },
          "execution_count": 163
        }
      ]
    },
    {
      "cell_type": "code",
      "metadata": {
        "colab": {
          "base_uri": "https://localhost:8080/"
        },
        "id": "YOX8m07B7lOh",
        "outputId": "25a0d946-58b6-4112-d078-8b193162ef36"
      },
      "source": [
        "prediction = load_object(\"MyModel\").predict(array)\n",
        "print(prediction)"
      ],
      "execution_count": null,
      "outputs": [
        {
          "output_type": "stream",
          "text": [
            "[13.27605757]\n"
          ],
          "name": "stdout"
        }
      ]
    },
    {
      "cell_type": "code",
      "metadata": {
        "colab": {
          "base_uri": "https://localhost:8080/"
        },
        "id": "8iXcsiEo7nEB",
        "outputId": "4e17c9f1-9520-4921-b048-6b8ab6c29d10"
      },
      "source": [
        "from scipy.special import inv_boxcox\n",
        "\n",
        "prediction = inv_boxcox(prediction , load_object(\"boxcox_lambda\"))\n",
        "\n",
        "print(prediction)"
      ],
      "execution_count": null,
      "outputs": [
        {
          "output_type": "stream",
          "text": [
            "[35318.83363468]\n"
          ],
          "name": "stdout"
        }
      ]
    },
    {
      "cell_type": "code",
      "metadata": {
        "id": "hBBlPH2i7o1m",
        "colab": {
          "base_uri": "https://localhost:8080/"
        },
        "outputId": "062f608a-c595-45ce-ea33-04e729137f24"
      },
      "source": [
        "print(\" Original \" , real_value , \" , Predicted \" , float(prediction[0]))"
      ],
      "execution_count": null,
      "outputs": [
        {
          "output_type": "stream",
          "text": [
            " Original  41034.22  , Predicted  35318.83363467916\n"
          ],
          "name": "stdout"
        }
      ]
    }
  ]
}