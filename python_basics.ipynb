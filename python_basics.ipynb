{
  "nbformat": 4,
  "nbformat_minor": 0,
  "metadata": {
    "colab": {
      "name": "python_basics.ipynb",
      "provenance": [],
      "collapsed_sections": [],
      "authorship_tag": "ABX9TyOoNlDhvkKu2wv1IrgSi2s1",
      "include_colab_link": true
    },
    "kernelspec": {
      "name": "python3",
      "display_name": "Python 3"
    },
    "language_info": {
      "name": "python"
    }
  },
  "cells": [
    {
      "cell_type": "markdown",
      "metadata": {
        "id": "view-in-github",
        "colab_type": "text"
      },
      "source": [
        "<a href=\"https://colab.research.google.com/github/roshanc10/Practice_References/blob/main/python_basics.ipynb\" target=\"_parent\"><img src=\"https://colab.research.google.com/assets/colab-badge.svg\" alt=\"Open In Colab\"/></a>"
      ]
    },
    {
      "cell_type": "markdown",
      "metadata": {
        "id": "I-4SdIf2XaGM"
      },
      "source": [
        "PYTHON BASICS PRACTISE"
      ]
    },
    {
      "cell_type": "code",
      "metadata": {
        "id": "x37nG4QYRrbm"
      },
      "source": [
        "a,b,c,d= 25,25.5,-66.5,\"abc\""
      ],
      "execution_count": null,
      "outputs": []
    },
    {
      "cell_type": "code",
      "metadata": {
        "colab": {
          "base_uri": "https://localhost:8080/"
        },
        "id": "sZ5jnx2ahHB9",
        "outputId": "545fbacc-8a3f-4bc0-e402-2ddcb7a8d984"
      },
      "source": [
        "type(c)\n",
        "type(a)\n",
        "type(d)"
      ],
      "execution_count": null,
      "outputs": [
        {
          "output_type": "execute_result",
          "data": {
            "text/plain": [
              "str"
            ]
          },
          "metadata": {
            "tags": []
          },
          "execution_count": 3
        }
      ]
    },
    {
      "cell_type": "markdown",
      "metadata": {
        "id": "3x7u-HmMXe1h"
      },
      "source": [
        "Find id of a variable\n"
      ]
    },
    {
      "cell_type": "code",
      "metadata": {
        "colab": {
          "base_uri": "https://localhost:8080/"
        },
        "id": "6--6InL1hNHC",
        "outputId": "39bbf7da-3827-4cba-cb12-a69e2196dc1c"
      },
      "source": [
        "id(c)"
      ],
      "execution_count": null,
      "outputs": [
        {
          "output_type": "execute_result",
          "data": {
            "text/plain": [
              "139827639100912"
            ]
          },
          "metadata": {
            "tags": []
          },
          "execution_count": 4
        }
      ]
    },
    {
      "cell_type": "markdown",
      "metadata": {
        "id": "77po6C42Xs6a"
      },
      "source": [
        "string integer cannot be converted to int"
      ]
    },
    {
      "cell_type": "code",
      "metadata": {
        "colab": {
          "base_uri": "https://localhost:8080/",
          "height": 197
        },
        "id": "bpLOMqyOhS8C",
        "outputId": "275d0093-10ef-481b-f1e0-b75dca8e7678"
      },
      "source": [
        "z = \"25.5\"\n",
        "gg = int(z)\n",
        "gg"
      ],
      "execution_count": null,
      "outputs": [
        {
          "output_type": "error",
          "ename": "ValueError",
          "evalue": "ignored",
          "traceback": [
            "\u001b[0;31m---------------------------------------------------------------------------\u001b[0m",
            "\u001b[0;31mValueError\u001b[0m                                Traceback (most recent call last)",
            "\u001b[0;32m<ipython-input-5-23ca15733812>\u001b[0m in \u001b[0;36m<module>\u001b[0;34m()\u001b[0m\n\u001b[1;32m      1\u001b[0m \u001b[0mz\u001b[0m \u001b[0;34m=\u001b[0m \u001b[0;34m\"25.5\"\u001b[0m\u001b[0;34m\u001b[0m\u001b[0;34m\u001b[0m\u001b[0m\n\u001b[0;32m----> 2\u001b[0;31m \u001b[0mgg\u001b[0m \u001b[0;34m=\u001b[0m \u001b[0mint\u001b[0m\u001b[0;34m(\u001b[0m\u001b[0mz\u001b[0m\u001b[0;34m)\u001b[0m\u001b[0;34m\u001b[0m\u001b[0;34m\u001b[0m\u001b[0m\n\u001b[0m\u001b[1;32m      3\u001b[0m \u001b[0mgg\u001b[0m\u001b[0;34m\u001b[0m\u001b[0;34m\u001b[0m\u001b[0m\n",
            "\u001b[0;31mValueError\u001b[0m: invalid literal for int() with base 10: '25.5'"
          ]
        }
      ]
    },
    {
      "cell_type": "code",
      "metadata": {
        "colab": {
          "base_uri": "https://localhost:8080/"
        },
        "id": "Z-qODw86hYa3",
        "outputId": "d2cba980-6028-43d2-ec16-9bd41a59f2f6"
      },
      "source": [
        "e = int(b)\n",
        "e"
      ],
      "execution_count": null,
      "outputs": [
        {
          "output_type": "execute_result",
          "data": {
            "text/plain": [
              "25"
            ]
          },
          "metadata": {
            "tags": []
          },
          "execution_count": 6
        }
      ]
    },
    {
      "cell_type": "code",
      "metadata": {
        "colab": {
          "base_uri": "https://localhost:8080/"
        },
        "id": "8wNqqBP5k4su",
        "outputId": "a0b364e2-3011-4804-c459-289da3e5d106"
      },
      "source": [
        "25**2"
      ],
      "execution_count": null,
      "outputs": [
        {
          "output_type": "execute_result",
          "data": {
            "text/plain": [
              "625"
            ]
          },
          "metadata": {
            "tags": []
          },
          "execution_count": 7
        }
      ]
    },
    {
      "cell_type": "code",
      "metadata": {
        "colab": {
          "base_uri": "https://localhost:8080/"
        },
        "id": "9pVppb1Gk6Im",
        "outputId": "5c4f2dca-e67b-4cdd-c6a4-73e28b3d6a83"
      },
      "source": [
        "25%5\n"
      ],
      "execution_count": null,
      "outputs": [
        {
          "output_type": "execute_result",
          "data": {
            "text/plain": [
              "0"
            ]
          },
          "metadata": {
            "tags": []
          },
          "execution_count": 9
        }
      ]
    },
    {
      "cell_type": "markdown",
      "metadata": {
        "id": "ayGJnki0lMOP"
      },
      "source": [
        "Floor division operator"
      ]
    },
    {
      "cell_type": "code",
      "metadata": {
        "colab": {
          "base_uri": "https://localhost:8080/"
        },
        "id": "m4sjbo4nlBhM",
        "outputId": "ac9e2058-e176-4a91-baff-f1a93bb74a4c"
      },
      "source": [
        "25//4"
      ],
      "execution_count": null,
      "outputs": [
        {
          "output_type": "execute_result",
          "data": {
            "text/plain": [
              "6"
            ]
          },
          "metadata": {
            "tags": []
          },
          "execution_count": 10
        }
      ]
    },
    {
      "cell_type": "markdown",
      "metadata": {
        "id": "tyY2fV8YldvH"
      },
      "source": [
        "add equal to "
      ]
    },
    {
      "cell_type": "code",
      "metadata": {
        "colab": {
          "base_uri": "https://localhost:8080/"
        },
        "id": "5QO7bOtwldXp",
        "outputId": "5bf9ef5a-5adf-41d2-f120-14a667931cbd"
      },
      "source": [
        "x= 5\n",
        "y= 7\n",
        "x+=y\n",
        "x\n"
      ],
      "execution_count": null,
      "outputs": [
        {
          "output_type": "execute_result",
          "data": {
            "text/plain": [
              "12"
            ]
          },
          "metadata": {
            "tags": []
          },
          "execution_count": 11
        }
      ]
    },
    {
      "cell_type": "markdown",
      "metadata": {
        "id": "rL7aB9g5lkHP"
      },
      "source": [
        "subtract equal to"
      ]
    },
    {
      "cell_type": "code",
      "metadata": {
        "colab": {
          "base_uri": "https://localhost:8080/"
        },
        "id": "-rLJSB_8lJGM",
        "outputId": "dc78b168-73b3-4a2d-be57-15f073a81939"
      },
      "source": [
        "x = 7\n",
        "y= 4\n",
        "x-=y\n",
        "x"
      ],
      "execution_count": null,
      "outputs": [
        {
          "output_type": "execute_result",
          "data": {
            "text/plain": [
              "3"
            ]
          },
          "metadata": {
            "tags": []
          },
          "execution_count": 12
        }
      ]
    },
    {
      "cell_type": "markdown",
      "metadata": {
        "id": "4-gqlHF8o91n"
      },
      "source": [
        "identity operator"
      ]
    },
    {
      "cell_type": "code",
      "metadata": {
        "colab": {
          "base_uri": "https://localhost:8080/"
        },
        "id": "o7-1VfGLokDh",
        "outputId": "7bf769bf-7191-4a30-9e3f-dbe65a2e8e2a"
      },
      "source": [
        "x = 5\n",
        "y= 10\n",
        "x is not y\n",
        "x is y"
      ],
      "execution_count": null,
      "outputs": [
        {
          "output_type": "execute_result",
          "data": {
            "text/plain": [
              "False"
            ]
          },
          "metadata": {
            "tags": []
          },
          "execution_count": 14
        }
      ]
    },
    {
      "cell_type": "markdown",
      "metadata": {
        "id": "UL4g-bJnpAwL"
      },
      "source": [
        "membership operator"
      ]
    },
    {
      "cell_type": "code",
      "metadata": {
        "colab": {
          "base_uri": "https://localhost:8080/"
        },
        "id": "QFHcmb5epAY1",
        "outputId": "f2d2f1ca-eb04-471e-d6c2-7d6845c486ba"
      },
      "source": [
        "t = (2,5,3,9)\n",
        "5 not in t"
      ],
      "execution_count": null,
      "outputs": [
        {
          "output_type": "execute_result",
          "data": {
            "text/plain": [
              "False"
            ]
          },
          "metadata": {
            "tags": []
          },
          "execution_count": 15
        }
      ]
    },
    {
      "cell_type": "code",
      "metadata": {
        "colab": {
          "base_uri": "https://localhost:8080/"
        },
        "id": "PHYNmtgfo78d",
        "outputId": "aefd4a6f-a8ec-4910-b8a1-8cbb6d97331a"
      },
      "source": [
        "print(2*4**3/2)"
      ],
      "execution_count": null,
      "outputs": [
        {
          "output_type": "stream",
          "text": [
            "64.0\n"
          ],
          "name": "stdout"
        }
      ]
    },
    {
      "cell_type": "code",
      "metadata": {
        "colab": {
          "base_uri": "https://localhost:8080/"
        },
        "id": "y41l1d9lp1qZ",
        "outputId": "d16e8bc4-1622-4fe2-dd44-17bcedc6aa0a"
      },
      "source": [
        "a=5\n",
        "\n",
        "b=10\n",
        "\n",
        "print(a|b)\n",
        "\n",
        "print(b<<a)"
      ],
      "execution_count": null,
      "outputs": [
        {
          "output_type": "stream",
          "text": [
            "15\n",
            "320\n"
          ],
          "name": "stdout"
        }
      ]
    },
    {
      "cell_type": "markdown",
      "metadata": {
        "id": "DJqpI7Elrvit"
      },
      "source": [
        "string operators"
      ]
    },
    {
      "cell_type": "code",
      "metadata": {
        "colab": {
          "base_uri": "https://localhost:8080/",
          "height": 35
        },
        "id": "HUz5G6W-qFIV",
        "outputId": "6b305f31-377a-4ee7-e408-f94649426b15"
      },
      "source": [
        "x=\"ok\"\n",
        "\n",
        "y= \"\"\"sda\n",
        "    dsada\n",
        "      dsada \"\"\"\n",
        "y"
      ],
      "execution_count": null,
      "outputs": [
        {
          "output_type": "execute_result",
          "data": {
            "application/vnd.google.colaboratory.intrinsic+json": {
              "type": "string"
            },
            "text/plain": [
              "'sda\\n    dsada\\n      dsada '"
            ]
          },
          "metadata": {
            "tags": []
          },
          "execution_count": 24
        }
      ]
    },
    {
      "cell_type": "markdown",
      "metadata": {
        "id": "KtMN-_YjshR3"
      },
      "source": [
        "string formatting types"
      ]
    },
    {
      "cell_type": "code",
      "metadata": {
        "colab": {
          "base_uri": "https://localhost:8080/"
        },
        "id": "RWRDaIAlr3Aj",
        "outputId": "fab2e45a-5210-40c1-dad9-d6808e3b8dc0"
      },
      "source": [
        "fn = \"rosh\"\n",
        "ln = \"cool\"\n",
        "\n",
        "print('hello i am {0} {1}'.format(fn,ln))\n",
        "\n",
        "print(f'my name is {fn}. i am {ln}')"
      ],
      "execution_count": null,
      "outputs": [
        {
          "output_type": "stream",
          "text": [
            "hello i am rosh cool\n",
            "my name is rosh. i am cool\n"
          ],
          "name": "stdout"
        }
      ]
    },
    {
      "cell_type": "markdown",
      "metadata": {
        "id": "X-DR1jHRsznG"
      },
      "source": [
        "string fns"
      ]
    },
    {
      "cell_type": "code",
      "metadata": {
        "colab": {
          "base_uri": "https://localhost:8080/"
        },
        "id": "XUEszs3Ss1up",
        "outputId": "f566ee41-7bf9-4542-98a1-4b0184a483f9"
      },
      "source": [
        "data= \"coOL\"\n",
        "check = \"Hello Jerry\"\n",
        "print(data.capitalize())\n",
        "print(data.lower())\n",
        "print(data.upper())\n",
        "print(len(check))   #space also counted as chars in python\n",
        "print(check.count('r'))  #no of occ in substring\n",
        "print(check.find('r'))\n",
        "print(check.find('z'))  #returns -1 if not found\n",
        "\n",
        "print(check.islower())\n",
        "print(check.isupper())\n",
        "print(check.split(\" \"))  #seperate by whitespace\n",
        "print(check.istitle())  ##title each work with uppercase\n"
      ],
      "execution_count": null,
      "outputs": [
        {
          "output_type": "stream",
          "text": [
            "Cool\n",
            "cool\n",
            "COOL\n",
            "11\n",
            "2\n",
            "8\n",
            "-1\n",
            "False\n",
            "False\n",
            "['Hello', 'Jerry']\n",
            "True\n"
          ],
          "name": "stdout"
        }
      ]
    },
    {
      "cell_type": "markdown",
      "metadata": {
        "id": "dIuSnpFqtSHY"
      },
      "source": [
        "convert list to string"
      ]
    },
    {
      "cell_type": "code",
      "metadata": {
        "colab": {
          "base_uri": "https://localhost:8080/",
          "height": 35
        },
        "id": "Y6Ehv9sVtVHJ",
        "outputId": "c36e4475-72b3-4280-c6fb-4f234afcb022"
      },
      "source": [
        "rsm=[\"ram\", \" sham\" , \"mohan\"]\n",
        "x= \" \".join(rsm)\n",
        "x"
      ],
      "execution_count": null,
      "outputs": [
        {
          "output_type": "execute_result",
          "data": {
            "application/vnd.google.colaboratory.intrinsic+json": {
              "type": "string"
            },
            "text/plain": [
              "'ram  sham mohan'"
            ]
          },
          "metadata": {
            "tags": []
          },
          "execution_count": 31
        }
      ]
    },
    {
      "cell_type": "markdown",
      "metadata": {
        "id": "B1UzBzn62Vg5"
      },
      "source": [
        "loops and if else"
      ]
    },
    {
      "cell_type": "code",
      "metadata": {
        "colab": {
          "base_uri": "https://localhost:8080/"
        },
        "id": "-CUtV5Nu2X92",
        "outputId": "f1f904fb-d749-4838-fce3-4f8374999436"
      },
      "source": [
        "  s= [2,6,5,7,22,64,95,-20]\n",
        "  for i in s:\n",
        "    if(i%2!=0):\n",
        "      print(i,'not divisible by 2')\n",
        "    else:\n",
        "      print(i,'divisible by 2')"
      ],
      "execution_count": null,
      "outputs": [
        {
          "output_type": "stream",
          "text": [
            "2 divisible by 2\n",
            "6 divisible by 2\n",
            "5 not divisible by 2\n",
            "7 not divisible by 2\n",
            "22 divisible by 2\n",
            "64 divisible by 2\n",
            "95 not divisible by 2\n",
            "-20 divisible by 2\n"
          ],
          "name": "stdout"
        }
      ]
    },
    {
      "cell_type": "markdown",
      "metadata": {
        "id": "iL-sGvxJX_3D"
      },
      "source": [
        "break: end the loop , \n",
        "continue: skips the current condition of loop ,\n",
        "pass: passes the execution of the loop"
      ]
    },
    {
      "cell_type": "code",
      "metadata": {
        "colab": {
          "base_uri": "https://localhost:8080/"
        },
        "id": "ow7j-yjm6dzr",
        "outputId": "86a31746-231b-4bb1-e81c-b71889a931d3"
      },
      "source": [
        "for i in range(1,10):\n",
        "  if i==5:\n",
        "    continue     ##skips the current iteration of loop\n",
        "  print(i)"
      ],
      "execution_count": null,
      "outputs": [
        {
          "output_type": "stream",
          "text": [
            "1\n",
            "2\n",
            "3\n",
            "4\n",
            "6\n",
            "7\n",
            "8\n",
            "9\n"
          ],
          "name": "stdout"
        }
      ]
    },
    {
      "cell_type": "code",
      "metadata": {
        "colab": {
          "base_uri": "https://localhost:8080/"
        },
        "id": "QkKk5z2Q8V0h",
        "outputId": "f647403c-2c7e-4a8a-dca5-db26c7ddbd4f"
      },
      "source": [
        "a=[4,8,3,7,5]\n",
        "for i in a:\n",
        "     if(i%2!=0):\n",
        "          break\n",
        "     else:\n",
        "          print(i)"
      ],
      "execution_count": null,
      "outputs": [
        {
          "output_type": "stream",
          "text": [
            "4\n",
            "8\n"
          ],
          "name": "stdout"
        }
      ]
    },
    {
      "cell_type": "code",
      "metadata": {
        "colab": {
          "base_uri": "https://localhost:8080/"
        },
        "id": "QtoBzHjN9I1b",
        "outputId": "3e8f0802-8460-41df-c729-18895df1975b"
      },
      "source": [
        "4%2!=0"
      ],
      "execution_count": null,
      "outputs": [
        {
          "output_type": "execute_result",
          "data": {
            "text/plain": [
              "False"
            ]
          },
          "metadata": {
            "tags": []
          },
          "execution_count": 55
        }
      ]
    },
    {
      "cell_type": "markdown",
      "metadata": {
        "id": "0TwhChIhKgE8"
      },
      "source": [
        "Python Data Structures"
      ]
    },
    {
      "cell_type": "markdown",
      "metadata": {
        "id": "6RxZy7pMYfpD"
      },
      "source": [
        "List can be changed(mutable) whereas tuple cannot be changed(immutable)"
      ]
    },
    {
      "cell_type": "markdown",
      "metadata": {
        "id": "ytYdvdZGYmfi"
      },
      "source": [
        "Convert tuple to list change and reconvert list to tuple for changing values"
      ]
    },
    {
      "cell_type": "code",
      "metadata": {
        "colab": {
          "base_uri": "https://localhost:8080/"
        },
        "id": "FnJ9Jo_gKjzZ",
        "outputId": "9d6733b4-3224-4441-fff6-cca0bb14108e"
      },
      "source": [
        "x = (\"apple\", \"banana\", \"cherry\")\n",
        "y = list(x)\n",
        "y[1] = \"kiwi\"\n",
        "x = tuple(y)\n",
        "print(x)"
      ],
      "execution_count": null,
      "outputs": [
        {
          "output_type": "stream",
          "text": [
            "('apple', 'kiwi', 'cherry')\n"
          ],
          "name": "stdout"
        }
      ]
    },
    {
      "cell_type": "code",
      "metadata": {
        "colab": {
          "base_uri": "https://localhost:8080/"
        },
        "id": "lNSTxYC0MP3h",
        "outputId": "74b0ecac-14d7-413e-d2a4-aed3afbb1bfb"
      },
      "source": [
        "y.append(\"peach\")\n",
        "\n",
        "y.insert(1,\"ok\")\n",
        "\n",
        "y"
      ],
      "execution_count": null,
      "outputs": [
        {
          "output_type": "execute_result",
          "data": {
            "text/plain": [
              "['apple', 'ok', 'kiwi', 'cherry', 'peach', 'peach']"
            ]
          },
          "metadata": {
            "tags": []
          },
          "execution_count": 5
        }
      ]
    },
    {
      "cell_type": "code",
      "metadata": {
        "colab": {
          "base_uri": "https://localhost:8080/"
        },
        "id": "dhkqy4m4P4O-",
        "outputId": "2d0cde0e-c713-4576-a91c-598c634a613a"
      },
      "source": [
        "z = y.copy()\n",
        "z"
      ],
      "execution_count": null,
      "outputs": [
        {
          "output_type": "execute_result",
          "data": {
            "text/plain": [
              "['apple', 'ok', 'kiwi', 'cherry', 'peach', 'peach']"
            ]
          },
          "metadata": {
            "tags": []
          },
          "execution_count": 6
        }
      ]
    },
    {
      "cell_type": "code",
      "metadata": {
        "colab": {
          "base_uri": "https://localhost:8080/"
        },
        "id": "0yG0mevZRdIE",
        "outputId": "1fc4687d-2ce3-4577-af45-526c79a1e310"
      },
      "source": [
        "len(x)"
      ],
      "execution_count": null,
      "outputs": [
        {
          "output_type": "execute_result",
          "data": {
            "text/plain": [
              "3"
            ]
          },
          "metadata": {
            "tags": []
          },
          "execution_count": 7
        }
      ]
    },
    {
      "cell_type": "code",
      "metadata": {
        "colab": {
          "base_uri": "https://localhost:8080/"
        },
        "id": "irlbTQrJUCqR",
        "outputId": "1f92df17-2bfc-478c-db23-b8047e0013ec"
      },
      "source": [
        "t=(100,200)\n",
        "print(t*2)"
      ],
      "execution_count": null,
      "outputs": [
        {
          "output_type": "stream",
          "text": [
            "(100, 200, 100, 200)\n"
          ],
          "name": "stdout"
        }
      ]
    },
    {
      "cell_type": "code",
      "metadata": {
        "colab": {
          "base_uri": "https://localhost:8080/"
        },
        "id": "56cA0rDuXOI-",
        "outputId": "428ec064-8b25-4bac-cb52-248b6de89174"
      },
      "source": [
        "thisdict= dict(brands=\"ford\",year=1999)\n",
        "print(thisdict)\n",
        "print(thisdict.get(\"brands\"))\n",
        "print(thisdict['year'])\n",
        "print(thisdict.items())\n",
        "print(thisdict.keys())"
      ],
      "execution_count": null,
      "outputs": [
        {
          "output_type": "stream",
          "text": [
            "{'brands': 'ford', 'year': 1999}\n"
          ],
          "name": "stdout"
        },
        {
          "output_type": "execute_result",
          "data": {
            "text/plain": [
              "dict_keys(['brands', 'year'])"
            ]
          },
          "metadata": {
            "tags": []
          },
          "execution_count": 15
        }
      ]
    },
    {
      "cell_type": "code",
      "metadata": {
        "colab": {
          "base_uri": "https://localhost:8080/"
        },
        "id": "3Tab6a7yYnuF",
        "outputId": "e0a698e3-2ce1-4272-fbbd-e554f8056ad1"
      },
      "source": [
        "thisdict.update({\"value\":\"good\"})\n",
        "thisdict"
      ],
      "execution_count": null,
      "outputs": [
        {
          "output_type": "execute_result",
          "data": {
            "text/plain": [
              "{'brands': 'ford', 'value': 'good', 'year': 1999}"
            ]
          },
          "metadata": {
            "tags": []
          },
          "execution_count": 17
        }
      ]
    },
    {
      "cell_type": "code",
      "metadata": {
        "colab": {
          "base_uri": "https://localhost:8080/"
        },
        "id": "XNBnAGwheUwa",
        "outputId": "fe2fda81-9406-4653-bb5e-e0d25dc65d3b"
      },
      "source": [
        "student_marks= {\"ram\":{\"maths\":75,\"science\":80},\"shyam\":{\"maths\":70,\"science\":85}}\n",
        "print(student_marks)\n",
        "print(\"marks scored by ram in science is \",student_marks[\"ram\"][\"science\"])"
      ],
      "execution_count": null,
      "outputs": [
        {
          "output_type": "stream",
          "text": [
            "{'ram': {'maths': 75, 'science': 80}, 'shyam': {'maths': 70, 'science': 85}}\n",
            "marks scored by ram in science is  80\n"
          ],
          "name": "stdout"
        }
      ]
    },
    {
      "cell_type": "code",
      "metadata": {
        "colab": {
          "base_uri": "https://localhost:8080/"
        },
        "id": "T_tCQ5nwfd4n",
        "outputId": "6c87a344-90ea-4d28-a232-0b767de69bd2"
      },
      "source": [
        "for name,subjects in student_marks.items():\n",
        "  print(\"name of student\",name)\n",
        "  for marks in subjects:\n",
        "    print(marks,\":\",subjects[marks] )"
      ],
      "execution_count": null,
      "outputs": [
        {
          "output_type": "stream",
          "text": [
            "name of student ram\n",
            "maths : 75\n",
            "science : 80\n",
            "name of student shyam\n",
            "maths : 70\n",
            "science : 85\n"
          ],
          "name": "stdout"
        }
      ]
    },
    {
      "cell_type": "markdown",
      "metadata": {
        "id": "X8D1Opm1gJTN"
      },
      "source": [
        "Sets are unordered and unindexed"
      ]
    },
    {
      "cell_type": "code",
      "metadata": {
        "colab": {
          "base_uri": "https://localhost:8080/"
        },
        "id": "i7rxnTf4gOwg",
        "outputId": "ce1493d2-036c-4d6b-d179-f4082cec5df0"
      },
      "source": [
        "s={\"apple\",5,2.5}\n",
        "s"
      ],
      "execution_count": null,
      "outputs": [
        {
          "output_type": "execute_result",
          "data": {
            "text/plain": [
              "{2.5, 5, 'apple'}"
            ]
          },
          "metadata": {
            "tags": []
          },
          "execution_count": 5
        }
      ]
    },
    {
      "cell_type": "markdown",
      "metadata": {
        "id": "Cex80a11gjVQ"
      },
      "source": [
        "set cannot be changed but new elements can be added to it (add to element add and update to add more than 1 element)"
      ]
    },
    {
      "cell_type": "code",
      "metadata": {
        "colab": {
          "base_uri": "https://localhost:8080/"
        },
        "id": "pz1v1mnvgfE7",
        "outputId": "b4e95d7a-cdf6-4f8e-aad3-5514d130dc78"
      },
      "source": [
        "s.update({\"gauva\",\"peach\"})\n",
        "s"
      ],
      "execution_count": null,
      "outputs": [
        {
          "output_type": "execute_result",
          "data": {
            "text/plain": [
              "{2.5, 'apple', 'gauva', 'peach'}"
            ]
          },
          "metadata": {
            "tags": []
          },
          "execution_count": 9
        }
      ]
    },
    {
      "cell_type": "markdown",
      "metadata": {
        "id": "oyZx6Z8Gg99r"
      },
      "source": [
        "remove throws error if not found where as discard does not"
      ]
    },
    {
      "cell_type": "code",
      "metadata": {
        "colab": {
          "base_uri": "https://localhost:8080/"
        },
        "id": "umoEDbCpg5XE",
        "outputId": "eb003882-a807-4d8c-b231-4292dfff265a"
      },
      "source": [
        "s.discard(5)\n",
        "s\n",
        "#s.remove(4)"
      ],
      "execution_count": null,
      "outputs": [
        {
          "output_type": "execute_result",
          "data": {
            "text/plain": [
              "{2.5, 'apple', 'gauva', 'peach'}"
            ]
          },
          "metadata": {
            "tags": []
          },
          "execution_count": 12
        }
      ]
    },
    {
      "cell_type": "code",
      "metadata": {
        "colab": {
          "base_uri": "https://localhost:8080/"
        },
        "id": "h83wIC7rhy0a",
        "outputId": "988782a7-abcf-41bf-bafb-49988ed057f4"
      },
      "source": [
        "x={5,4,\"intersect\",\"union\",\"peach\"}\n",
        "s|x\n",
        "x.union(s)"
      ],
      "execution_count": null,
      "outputs": [
        {
          "output_type": "execute_result",
          "data": {
            "text/plain": [
              "{2.5, 4, 5, 'apple', 'gauva', 'intersect', 'peach', 'union'}"
            ]
          },
          "metadata": {
            "tags": []
          },
          "execution_count": 16
        }
      ]
    },
    {
      "cell_type": "code",
      "metadata": {
        "colab": {
          "base_uri": "https://localhost:8080/"
        },
        "id": "1VKy8xpJh6Hp",
        "outputId": "2bba03e4-be73-46ce-b91c-034be8aa0829"
      },
      "source": [
        "s&x\n",
        "s.intersection(x)"
      ],
      "execution_count": null,
      "outputs": [
        {
          "output_type": "execute_result",
          "data": {
            "text/plain": [
              "{'peach'}"
            ]
          },
          "metadata": {
            "tags": []
          },
          "execution_count": 18
        }
      ]
    },
    {
      "cell_type": "code",
      "metadata": {
        "colab": {
          "base_uri": "https://localhost:8080/"
        },
        "id": "fnF17o4NifSy",
        "outputId": "73e3208f-6155-49fc-af6a-74c991a11113"
      },
      "source": [
        "print(x-s)\n",
        "print(s-x)\n",
        "s.difference(x)"
      ],
      "execution_count": null,
      "outputs": [
        {
          "output_type": "stream",
          "text": [
            "{'union', 5, 'intersect', 4}\n",
            "{2.5, 'gauva', 'apple'}\n"
          ],
          "name": "stdout"
        },
        {
          "output_type": "execute_result",
          "data": {
            "text/plain": [
              "{2.5, 'apple', 'gauva'}"
            ]
          },
          "metadata": {
            "tags": []
          },
          "execution_count": 21
        }
      ]
    },
    {
      "cell_type": "markdown",
      "metadata": {
        "id": "XzWV1zdZi9lY"
      },
      "source": [
        "symmentric diff is element excluding the common elements in both sets"
      ]
    },
    {
      "cell_type": "code",
      "metadata": {
        "colab": {
          "base_uri": "https://localhost:8080/"
        },
        "id": "lvBI6_O1iull",
        "outputId": "8b150149-ceda-4206-cf46-70ed1b379086"
      },
      "source": [
        "s.symmetric_difference(x)"
      ],
      "execution_count": null,
      "outputs": [
        {
          "output_type": "execute_result",
          "data": {
            "text/plain": [
              "{2.5, 4, 5, 'apple', 'gauva', 'intersect', 'union'}"
            ]
          },
          "metadata": {
            "tags": []
          },
          "execution_count": 22
        }
      ]
    },
    {
      "cell_type": "markdown",
      "metadata": {
        "id": "jVsshtzgoTDt"
      },
      "source": [
        "stacks are lifo(last in first out) just like coins stack"
      ]
    },
    {
      "cell_type": "markdown",
      "metadata": {
        "id": "OTciw8geog3B"
      },
      "source": [
        "queue is fifo(first in first out) like movie ticket queue"
      ]
    },
    {
      "cell_type": "code",
      "metadata": {
        "colab": {
          "base_uri": "https://localhost:8080/"
        },
        "id": "-oIsqSyuoSw8",
        "outputId": "1d8241b3-d1dc-46d8-f317-ba63f54507e3"
      },
      "source": [
        "letter = []\n",
        "letter.append(\"a\")\n",
        "letter.append(\"b\")\n",
        "letter.append(\"c\")\n",
        "letter.append(\"d\")\n",
        "letter"
      ],
      "execution_count": null,
      "outputs": [
        {
          "output_type": "execute_result",
          "data": {
            "text/plain": [
              "['a', 'b', 'c', 'd']"
            ]
          },
          "metadata": {
            "tags": []
          },
          "execution_count": 3
        }
      ]
    },
    {
      "cell_type": "code",
      "metadata": {
        "colab": {
          "base_uri": "https://localhost:8080/"
        },
        "id": "w7Y9N62Upnww",
        "outputId": "350cdf51-c72b-47de-bb19-86d8818b6b3e"
      },
      "source": [
        "letter.pop()  #stack\n",
        "print(letter)\n",
        "\n",
        "letter.pop(0) #queue\n",
        "print(letter)"
      ],
      "execution_count": null,
      "outputs": [
        {
          "output_type": "stream",
          "text": [
            "['a', 'b', 'c']\n",
            "['b', 'c']\n"
          ],
          "name": "stdout"
        }
      ]
    },
    {
      "cell_type": "code",
      "metadata": {
        "colab": {
          "base_uri": "https://localhost:8080/"
        },
        "id": "coIGwUh-tvwd",
        "outputId": "028b836b-0180-411d-c38b-a55eeabed8a0"
      },
      "source": [
        "from collections import deque\n",
        "numbers = deque()\n",
        "numbers.append(4)\n",
        "numbers.append(5)\n",
        "numbers.append(6)\n",
        "numbers.append(2)\n",
        "numbers"
      ],
      "execution_count": null,
      "outputs": [
        {
          "output_type": "execute_result",
          "data": {
            "text/plain": [
              "deque([4, 5, 6, 2])"
            ]
          },
          "metadata": {
            "tags": []
          },
          "execution_count": 8
        }
      ]
    },
    {
      "cell_type": "code",
      "metadata": {
        "colab": {
          "base_uri": "https://localhost:8080/"
        },
        "id": "qNF-7xPDuF7N",
        "outputId": "6d384bf0-e27b-404e-b366-e94030483af0"
      },
      "source": [
        "#for stack\n",
        "numbers.pop()\n",
        "print(numbers)\n",
        "\n",
        "#for queue\n",
        "numbers.popleft()\n",
        "print(numbers)\n"
      ],
      "execution_count": null,
      "outputs": [
        {
          "output_type": "stream",
          "text": [
            "deque([4, 5, 6])\n",
            "deque([5, 6])\n"
          ],
          "name": "stdout"
        }
      ]
    },
    {
      "cell_type": "markdown",
      "metadata": {
        "id": "eEkJFIfnxsMY"
      },
      "source": [
        "FUNCTIONS"
      ]
    },
    {
      "cell_type": "code",
      "metadata": {
        "colab": {
          "base_uri": "https://localhost:8080/"
        },
        "id": "jyGy4BbqxtfX",
        "outputId": "8e4803d9-b820-4c0c-ee4e-7d65dba77d4a"
      },
      "source": [
        "def fn_cal(a,b,c):\n",
        "  d= (a*b+c)\n",
        "  e= a*b\n",
        "  return d,e\n",
        "\n",
        "x = fn_cal(2,3,4)\n",
        "x "
      ],
      "execution_count": null,
      "outputs": [
        {
          "output_type": "execute_result",
          "data": {
            "text/plain": [
              "(10, 6)"
            ]
          },
          "metadata": {
            "tags": []
          },
          "execution_count": 12
        }
      ]
    },
    {
      "cell_type": "markdown",
      "metadata": {
        "id": "_dfgChp6zX_3"
      },
      "source": [
        "lambda is an anonymous function that accepts multiple inputs and gives a singleoutput"
      ]
    },
    {
      "cell_type": "code",
      "metadata": {
        "colab": {
          "base_uri": "https://localhost:8080/"
        },
        "id": "z3r3QEIqzh4Z",
        "outputId": "0fb7a350-dd7e-44b0-abac-05fd2f34116a"
      },
      "source": [
        "y= lambda a,b:a*b\n",
        "y(10,30)"
      ],
      "execution_count": null,
      "outputs": [
        {
          "output_type": "execute_result",
          "data": {
            "text/plain": [
              "300"
            ]
          },
          "metadata": {
            "tags": []
          },
          "execution_count": 13
        }
      ]
    },
    {
      "cell_type": "code",
      "metadata": {
        "colab": {
          "base_uri": "https://localhost:8080/"
        },
        "id": "fPDHwEWW09G8",
        "outputId": "a187ed0b-10e1-498a-ad87-b2f1329978a7"
      },
      "source": [
        "#dictionary comprehension\n",
        "d = {num:num*num for num in range(1,10)}\n",
        "print(d)\n",
        "\n",
        "#set comprehension\n",
        "numbers= { x for x in range(1,10)}\n",
        "print(numbers)\n",
        "\n",
        "#list comprehension\n",
        "l1 = [2,3,5,6,12,8,5,9]\n",
        "even_list = [x for x in l1 if x%2==0]\n",
        "print(even_list)"
      ],
      "execution_count": null,
      "outputs": [
        {
          "output_type": "stream",
          "text": [
            "{1: 1, 2: 4, 3: 9, 4: 16, 5: 25, 6: 36, 7: 49, 8: 64, 9: 81}\n",
            "{1, 2, 3, 4, 5, 6, 7, 8, 9}\n",
            "[2, 6, 12, 8]\n"
          ],
          "name": "stdout"
        }
      ]
    },
    {
      "cell_type": "markdown",
      "metadata": {
        "id": "FTTK1FJA2dvO"
      },
      "source": [
        "Aggregate fns\n",
        "max\n",
        "min\n",
        "sum\n",
        "mean\n",
        "median\n",
        "mode"
      ]
    },
    {
      "cell_type": "code",
      "metadata": {
        "colab": {
          "base_uri": "https://localhost:8080/"
        },
        "id": "shargEjk2ixO",
        "outputId": "8bcbf2b4-0849-4cb1-ef33-a3b2dbac249e"
      },
      "source": [
        "l1 = [2,3,5,6,12,8,5,9]\n",
        "print(min(l1))\n",
        "print(max(l1))\n",
        "print(sum(l1))\n",
        "\n",
        "import statistics as s\n",
        "print(s.mean(l1))\n",
        "print(s.median(l1))\n",
        "print(s.mode(l1))\n",
        "\n",
        "a=[3,6,1,8,2,6,3]\n",
        "print(s.median(a))"
      ],
      "execution_count": null,
      "outputs": [
        {
          "output_type": "stream",
          "text": [
            "2\n",
            "12\n",
            "50\n",
            "6.25\n",
            "5.5\n",
            "5\n",
            "3\n"
          ],
          "name": "stdout"
        }
      ]
    },
    {
      "cell_type": "markdown",
      "metadata": {
        "id": "FhtsgO4n3YDK"
      },
      "source": [
        "ANalytical fns eval,len,factorial.sort"
      ]
    },
    {
      "cell_type": "code",
      "metadata": {
        "colab": {
          "base_uri": "https://localhost:8080/"
        },
        "id": "mp-Dn4bl3cpS",
        "outputId": "29f2c75a-6b69-48a0-a130-e54014f68568"
      },
      "source": [
        "x=3\n",
        "print(eval('x**2+2*x-2'))\n",
        "\n",
        "print(len(l1))\n",
        "\n",
        "import math\n",
        "print(math.factorial(5))\n",
        "\n",
        "l1 = [2,3,5,6,12,8,5,9]\n",
        "l1.sort(reverse=True)\n",
        "l1"
      ],
      "execution_count": null,
      "outputs": [
        {
          "output_type": "stream",
          "text": [
            "13\n",
            "8\n",
            "120\n"
          ],
          "name": "stdout"
        },
        {
          "output_type": "execute_result",
          "data": {
            "text/plain": [
              "[12, 9, 8, 6, 5, 5, 3, 2]"
            ]
          },
          "metadata": {
            "tags": []
          },
          "execution_count": 27
        }
      ]
    },
    {
      "cell_type": "markdown",
      "metadata": {
        "id": "tezEvhFR9fU6"
      },
      "source": [
        "factorial with recursion  4! = 4*3*2*1 = 4*6=24"
      ]
    },
    {
      "cell_type": "code",
      "metadata": {
        "colab": {
          "base_uri": "https://localhost:8080/"
        },
        "id": "pR8lHwkW9Qin",
        "outputId": "4f4ff47f-4f00-475b-9685-c686e92cb837"
      },
      "source": [
        "def fact(n):\n",
        "  if n ==1:\n",
        "    return 1\n",
        "  else:\n",
        "    return n*fact(n-1)\n",
        "\n",
        "fact(4)"
      ],
      "execution_count": null,
      "outputs": [
        {
          "output_type": "execute_result",
          "data": {
            "text/plain": [
              "24"
            ]
          },
          "metadata": {
            "tags": []
          },
          "execution_count": 4
        }
      ]
    },
    {
      "cell_type": "markdown",
      "metadata": {
        "id": "RuD1vKsmAYCi"
      },
      "source": [
        "fibonacci is preceding no addition of behind 2 numbers   0,1,1,2,3,5,8,13,21"
      ]
    },
    {
      "cell_type": "code",
      "metadata": {
        "colab": {
          "base_uri": "https://localhost:8080/"
        },
        "id": "fvMRyaX5_vtk",
        "outputId": "a35828e7-c063-4013-ad0e-70f7dfa7071a"
      },
      "source": [
        "def fibo(n):\n",
        "  if n<=1:\n",
        "    return n\n",
        "  else:\n",
        "    return fibo(n-1)+fibo(n-2)\n",
        "\n",
        "fibo(7)"
      ],
      "execution_count": null,
      "outputs": [
        {
          "output_type": "execute_result",
          "data": {
            "text/plain": [
              "13"
            ]
          },
          "metadata": {
            "tags": []
          },
          "execution_count": 7
        }
      ]
    },
    {
      "cell_type": "code",
      "metadata": {
        "colab": {
          "base_uri": "https://localhost:8080/"
        },
        "id": "E54zC-HnBESe",
        "outputId": "8975903e-40ff-4080-cb9c-a21a573fd85d"
      },
      "source": [
        "def fun(n):\n",
        "\n",
        "     if n==6:\n",
        "\n",
        "          return n\n",
        "\n",
        "     else:\n",
        "\n",
        "          return 2*fun(n+1)\n",
        "\n",
        "fun(3)"
      ],
      "execution_count": null,
      "outputs": [
        {
          "output_type": "execute_result",
          "data": {
            "text/plain": [
              "48"
            ]
          },
          "metadata": {
            "tags": []
          },
          "execution_count": 8
        }
      ]
    },
    {
      "cell_type": "markdown",
      "metadata": {
        "id": "CH3W7OYcD_fD"
      },
      "source": [
        "Classes and objects"
      ]
    },
    {
      "cell_type": "code",
      "metadata": {
        "id": "TWVOdSBdEBjE"
      },
      "source": [
        "class Person:\n",
        "  age = 20\n",
        "\n",
        "rc = Person()\n"
      ],
      "execution_count": null,
      "outputs": []
    },
    {
      "cell_type": "code",
      "metadata": {
        "colab": {
          "base_uri": "https://localhost:8080/"
        },
        "id": "ODeypuXjF1zk",
        "outputId": "b0daca41-cd18-4f47-e29d-8f403c91777c"
      },
      "source": [
        "class Person:\n",
        "  def __init__(self,name,_age):\n",
        "    self.name = name\n",
        "    self._age = _age\n",
        "  def display(self):\n",
        "    print(self.name,self._age)\n",
        "\n",
        "\n",
        "p1= Person(\"rc\",25)\n",
        "p1.display()\n",
        "\n",
        "print(p1.name)\n",
        "print(p1._age)"
      ],
      "execution_count": null,
      "outputs": [
        {
          "output_type": "stream",
          "text": [
            "rc 25\n",
            "rc\n",
            "25\n"
          ],
          "name": "stdout"
        }
      ]
    },
    {
      "cell_type": "markdown",
      "metadata": {
        "id": "pS53MgS_OFcc"
      },
      "source": [
        "inheritance use as a parameter base class  , accessed by super keyword"
      ]
    },
    {
      "cell_type": "code",
      "metadata": {
        "colab": {
          "base_uri": "https://localhost:8080/"
        },
        "id": "uOq_P1V1Nj6K",
        "outputId": "f8c441e4-9f32-4804-8647-906ea263db02"
      },
      "source": [
        "class student(Person):\n",
        "  def __init__(self,name,_age):\n",
        "    super().__init__(name,_age)\n",
        "\n",
        "s1 = student(\"ok\",26)\n",
        "s1.display()"
      ],
      "execution_count": null,
      "outputs": [
        {
          "output_type": "stream",
          "text": [
            "ok 26\n"
          ],
          "name": "stdout"
        }
      ]
    },
    {
      "cell_type": "markdown",
      "metadata": {
        "id": "LSTIA6jMPxmP"
      },
      "source": [
        "encapsulated age not changed from 26 to 30"
      ]
    },
    {
      "cell_type": "code",
      "metadata": {
        "colab": {
          "base_uri": "https://localhost:8080/"
        },
        "id": "C8ICwVBMPo71",
        "outputId": "e5b479fe-e2ee-4278-edd4-b3e959677615"
      },
      "source": [
        "s1.age= 30\n",
        "s1.display()"
      ],
      "execution_count": null,
      "outputs": [
        {
          "output_type": "stream",
          "text": [
            "ok 26\n"
          ],
          "name": "stdout"
        }
      ]
    },
    {
      "cell_type": "markdown",
      "metadata": {
        "id": "c8rydu25QKic"
      },
      "source": [
        "polymorphism"
      ]
    },
    {
      "cell_type": "code",
      "metadata": {
        "id": "dIr933QMQJwP"
      },
      "source": [
        "class sbi:\n",
        "  def roi(self):\n",
        "    return 8\n",
        "class boi:\n",
        "  def roi(self):\n",
        "    return 5\n",
        "class bom:\n",
        "  def roi(self):\n",
        "    return 6\n",
        "\n",
        "def comm(bank):\n",
        "  return bank.roi()"
      ],
      "execution_count": null,
      "outputs": []
    },
    {
      "cell_type": "code",
      "metadata": {
        "colab": {
          "base_uri": "https://localhost:8080/"
        },
        "id": "_m-hbPQOQhxG",
        "outputId": "440cae83-9a46-43d0-e6ad-02663de32ff7"
      },
      "source": [
        "s= sbi()\n",
        "b = boi()\n",
        "bm= bom()\n",
        "\n",
        "comm(s)"
      ],
      "execution_count": null,
      "outputs": [
        {
          "output_type": "execute_result",
          "data": {
            "text/plain": [
              "8"
            ]
          },
          "metadata": {
            "tags": []
          },
          "execution_count": 30
        }
      ]
    }
  ]
}