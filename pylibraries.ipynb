{
  "nbformat": 4,
  "nbformat_minor": 0,
  "metadata": {
    "colab": {
      "name": "pylibraries.ipynb",
      "provenance": [],
      "collapsed_sections": [],
      "authorship_tag": "ABX9TyMoHwXFQDl5bDSW5bE8umoz",
      "include_colab_link": true
    },
    "kernelspec": {
      "name": "python3",
      "display_name": "Python 3"
    },
    "language_info": {
      "name": "python"
    }
  },
  "cells": [
    {
      "cell_type": "markdown",
      "metadata": {
        "id": "view-in-github",
        "colab_type": "text"
      },
      "source": [
        "<a href=\"https://colab.research.google.com/github/roshanc10/Practice_References/blob/main/pylibraries.ipynb\" target=\"_parent\"><img src=\"https://colab.research.google.com/assets/colab-badge.svg\" alt=\"Open In Colab\"/></a>"
      ]
    },
    {
      "cell_type": "code",
      "metadata": {
        "id": "jFw1gHq37r9y",
        "colab": {
          "base_uri": "https://localhost:8080/"
        },
        "outputId": "a38a74f4-f018-4b90-9839-1055ef1024f2"
      },
      "source": [
        "x = 5\n",
        "id(x)"
      ],
      "execution_count": null,
      "outputs": [
        {
          "output_type": "execute_result",
          "data": {
            "text/plain": [
              "94521032862336"
            ]
          },
          "metadata": {
            "tags": []
          },
          "execution_count": 1
        }
      ]
    },
    {
      "cell_type": "code",
      "metadata": {
        "id": "ReREGTn39fAk"
      },
      "source": [
        "basic_information = {\"name\":['karl','Lary'],\"mobile\":[\"0134567894\",\"0123456789\"]}\n",
        "academic_information = {\"grade\":[\"A\",\"B\"]}\n"
      ],
      "execution_count": 44,
      "outputs": []
    },
    {
      "cell_type": "code",
      "metadata": {
        "id": "MZDx1a6s_F-m",
        "colab": {
          "base_uri": "https://localhost:8080/"
        },
        "outputId": "11f5017f-2bc9-444a-980f-c7f54a7be374"
      },
      "source": [
        "basic_information.update(academic_information)\n",
        "\n",
        "basic_information"
      ],
      "execution_count": 45,
      "outputs": [
        {
          "output_type": "execute_result",
          "data": {
            "text/plain": [
              "{'grade': ['A', 'B'],\n",
              " 'mobile': ['0134567894', '0123456789'],\n",
              " 'name': ['karl', 'Lary']}"
            ]
          },
          "metadata": {
            "tags": []
          },
          "execution_count": 45
        }
      ]
    },
    {
      "cell_type": "code",
      "metadata": {
        "colab": {
          "base_uri": "https://localhost:8080/",
          "height": 35
        },
        "id": "sVBV487MlFOy",
        "outputId": "0154d036-55ee-4f76-aa75-f886a53ece96"
      },
      "source": [
        "x= \"12.5\"\n",
        "x"
      ],
      "execution_count": 47,
      "outputs": [
        {
          "output_type": "execute_result",
          "data": {
            "application/vnd.google.colaboratory.intrinsic+json": {
              "type": "string"
            },
            "text/plain": [
              "'12.5'"
            ]
          },
          "metadata": {
            "tags": []
          },
          "execution_count": 47
        }
      ]
    },
    {
      "cell_type": "code",
      "metadata": {
        "colab": {
          "base_uri": "https://localhost:8080/"
        },
        "id": "mDmPfLCtNBcM",
        "outputId": "accbfe8e-d4d2-4e33-ef18-97f16a626d98"
      },
      "source": [
        "import datetime\n",
        "x=datetime.datetime(2021,7,18)\n",
        "print(x)"
      ],
      "execution_count": 49,
      "outputs": [
        {
          "output_type": "stream",
          "text": [
            "2021-07-18 00:00:00\n"
          ],
          "name": "stdout"
        }
      ]
    },
    {
      "cell_type": "code",
      "metadata": {
        "colab": {
          "base_uri": "https://localhost:8080/"
        },
        "id": "NJy5d9sINyXP",
        "outputId": "df4cd456-fe30-4e82-ac15-bc426774c974"
      },
      "source": [
        "from datetime import date\n",
        "\n",
        "date.today()"
      ],
      "execution_count": 50,
      "outputs": [
        {
          "output_type": "execute_result",
          "data": {
            "text/plain": [
              "datetime.date(2021, 7, 18)"
            ]
          },
          "metadata": {
            "tags": []
          },
          "execution_count": 50
        }
      ]
    },
    {
      "cell_type": "code",
      "metadata": {
        "colab": {
          "base_uri": "https://localhost:8080/"
        },
        "id": "fJt0qlexO_v2",
        "outputId": "be601ab5-dc43-457a-826b-f095ab21b99a"
      },
      "source": [
        "date.today().month"
      ],
      "execution_count": 51,
      "outputs": [
        {
          "output_type": "execute_result",
          "data": {
            "text/plain": [
              "7"
            ]
          },
          "metadata": {
            "tags": []
          },
          "execution_count": 51
        }
      ]
    },
    {
      "cell_type": "code",
      "metadata": {
        "colab": {
          "base_uri": "https://localhost:8080/"
        },
        "id": "T2-TFOx3Pbps",
        "outputId": "78a2821e-2ed2-4d43-bf70-ebfe3228b516"
      },
      "source": [
        "from datetime import datetime,timedelta\n",
        "today = datetime.now()\n",
        "dateafter = today+ timedelta(days=90)\n",
        "print(dateafter)\n",
        "\n",
        "print(today.isoweekday())\n",
        "today.weekday()"
      ],
      "execution_count": 52,
      "outputs": [
        {
          "output_type": "stream",
          "text": [
            "2021-10-16 11:45:29.992964\n",
            "7\n"
          ],
          "name": "stdout"
        },
        {
          "output_type": "execute_result",
          "data": {
            "text/plain": [
              "6"
            ]
          },
          "metadata": {
            "tags": []
          },
          "execution_count": 52
        }
      ]
    },
    {
      "cell_type": "code",
      "metadata": {
        "colab": {
          "base_uri": "https://localhost:8080/"
        },
        "id": "oOnEwp6qSaIk",
        "outputId": "334110a0-c53a-4079-f9ca-7ca370cfb34c"
      },
      "source": [
        "import re\n",
        "check = \"roshan is best\"\n",
        "print(re.search('[ros]',check))\n",
        "\n",
        "print(re.search('^r',check))\n",
        "print(re.search('n$',check))\n",
        "\n",
        "print(re.findall('ro',check)) #occurance in the string\n",
        "print(re.split('\\s',check))   #split by spaces\n",
        "print(re.sub('\\s','1',check)) #replace space with 1\n"
      ],
      "execution_count": null,
      "outputs": [
        {
          "output_type": "stream",
          "text": [
            "<re.Match object; span=(0, 1), match='r'>\n",
            "<re.Match object; span=(0, 1), match='r'>\n",
            "None\n",
            "['ro']\n",
            "['roshan', 'is', 'best']\n",
            "roshan1is1best\n"
          ],
          "name": "stdout"
        }
      ]
    },
    {
      "cell_type": "code",
      "metadata": {
        "id": "sVtj1FMkbIZQ"
      },
      "source": [
        "Data science libraries"
      ],
      "execution_count": null,
      "outputs": []
    },
    {
      "cell_type": "code",
      "metadata": {
        "colab": {
          "base_uri": "https://localhost:8080/"
        },
        "id": "y9r4kjwdbKur",
        "outputId": "6fa0c962-7948-497c-e101-4c5bdbcc7ec2"
      },
      "source": [
        "import numpy as np\n",
        "arr = np.array((2,5,6,7,1))\n",
        "arr\n",
        "\n",
        "list(arr)"
      ],
      "execution_count": null,
      "outputs": [
        {
          "output_type": "execute_result",
          "data": {
            "text/plain": [
              "[2, 5, 6, 7, 1]"
            ]
          },
          "metadata": {
            "tags": []
          },
          "execution_count": 37
        }
      ]
    },
    {
      "cell_type": "markdown",
      "metadata": {
        "id": "vSl6FcNabH4v"
      },
      "source": [
        ""
      ]
    },
    {
      "cell_type": "code",
      "metadata": {
        "colab": {
          "base_uri": "https://localhost:8080/"
        },
        "id": "qr4B5i6CbHX4",
        "outputId": "823f732c-2408-4501-ccce-1e7f54fe8390"
      },
      "source": [
        "#2d array\n",
        "\n",
        "arr2 = np.array([[5,6,3],[6,3,2]])\n",
        "arr2\n",
        "arr2[0,2]"
      ],
      "execution_count": null,
      "outputs": [
        {
          "output_type": "execute_result",
          "data": {
            "text/plain": [
              "3"
            ]
          },
          "metadata": {
            "tags": []
          },
          "execution_count": 34
        }
      ]
    },
    {
      "cell_type": "code",
      "metadata": {
        "colab": {
          "base_uri": "https://localhost:8080/"
        },
        "id": "9KdxdwgMcgP3",
        "outputId": "334f2c0a-17d6-4f6f-fb98-48e8738b2f7e"
      },
      "source": [
        "np.zeros([2,2])"
      ],
      "execution_count": null,
      "outputs": [
        {
          "output_type": "execute_result",
          "data": {
            "text/plain": [
              "array([[0., 0.],\n",
              "       [0., 0.]])"
            ]
          },
          "metadata": {
            "tags": []
          },
          "execution_count": 35
        }
      ]
    },
    {
      "cell_type": "code",
      "metadata": {
        "colab": {
          "base_uri": "https://localhost:8080/"
        },
        "id": "qgM3fqEmd4oz",
        "outputId": "82a31582-23b3-40f0-f1d3-9b2450fbe9a7"
      },
      "source": [
        "import pandas as pd\n",
        "import numpy as np\n",
        "#df1 = pd.read_csv(\"file.csv\")\n",
        "\n",
        "times= pd.date_range('1/1/2021',periods=20)\n",
        "\n",
        "df =pd.DataFrame(np.random.randn(20,5)    #20 rows and 5 cols\n",
        "                ,index=times,columns=['col1','col2','col3','col4','col5'])\n",
        "\n",
        "print(df.head(5))\n",
        "\n",
        "col11 = df['col1']\n",
        "print('\\n',col11[times][2])\n",
        "\n",
        "df.loc[1]={'col1':25}\n",
        "print(df)\n",
        "\n",
        "df.loc['2021-01-02 00:00:00']={'col1':25}\n",
        "print(df)"
      ],
      "execution_count": 3,
      "outputs": [
        {
          "output_type": "stream",
          "text": [
            "                col1      col2      col3      col4      col5\n",
            "2021-01-01  0.793780 -2.053115  0.424863  0.604804 -1.331134\n",
            "2021-01-02  0.847651  0.426390 -1.187145 -1.738974  1.546755\n",
            "2021-01-03 -0.356243 -3.151382  0.177113 -0.282486  0.888761\n",
            "2021-01-04 -0.943406  1.261423  0.107696 -0.530942 -0.134889\n",
            "2021-01-05  1.054270  1.585187  1.838446  0.850039 -0.006740\n",
            "\n",
            " -0.356242521988678\n",
            "                          col1      col2      col3      col4      col5\n",
            "2021-01-01 00:00:00   0.793780 -2.053115  0.424863  0.604804 -1.331134\n",
            "2021-01-02 00:00:00   0.847651  0.426390 -1.187145 -1.738974  1.546755\n",
            "2021-01-03 00:00:00  -0.356243 -3.151382  0.177113 -0.282486  0.888761\n",
            "2021-01-04 00:00:00  -0.943406  1.261423  0.107696 -0.530942 -0.134889\n",
            "2021-01-05 00:00:00   1.054270  1.585187  1.838446  0.850039 -0.006740\n",
            "2021-01-06 00:00:00  -0.623075 -0.736304  0.043422 -0.954604 -0.404079\n",
            "2021-01-07 00:00:00   0.683792  2.328492 -0.235471  0.400234 -1.862937\n",
            "2021-01-08 00:00:00  -0.091034 -0.462305  0.929604 -0.742934 -0.040046\n",
            "2021-01-09 00:00:00  -3.757104 -0.669424  1.150779 -0.409751 -0.609192\n",
            "2021-01-10 00:00:00  -2.496511 -1.731809  0.203946  0.642842  1.820832\n",
            "2021-01-11 00:00:00   0.219443  1.651634 -1.058349  0.638734 -1.595269\n",
            "2021-01-12 00:00:00  -0.351371 -0.119302  0.305094  1.993701 -1.070817\n",
            "2021-01-13 00:00:00  -1.290209 -1.693618 -0.188845  0.011335  1.854473\n",
            "2021-01-14 00:00:00   1.643681  0.416073 -1.605280 -2.472798 -0.282259\n",
            "2021-01-15 00:00:00  -0.015051  1.338066 -0.076049 -0.296104  1.579164\n",
            "2021-01-16 00:00:00   0.055108 -0.008332  0.154160 -0.248038 -0.556118\n",
            "2021-01-17 00:00:00  -0.215403 -0.305471  0.266350  1.589259 -2.426009\n",
            "2021-01-18 00:00:00  -1.149982  0.046580 -0.355187 -0.198145  1.713707\n",
            "2021-01-19 00:00:00   0.053494 -1.322154 -0.445090  1.295624 -0.048043\n",
            "2021-01-20 00:00:00   0.849404 -0.020833  1.371405  1.163118  1.055830\n",
            "1                    25.000000       NaN       NaN       NaN       NaN\n",
            "                          col1      col2      col3      col4      col5\n",
            "2021-01-01 00:00:00   0.793780 -2.053115  0.424863  0.604804 -1.331134\n",
            "2021-01-02 00:00:00   0.847651  0.426390 -1.187145 -1.738974  1.546755\n",
            "2021-01-03 00:00:00  -0.356243 -3.151382  0.177113 -0.282486  0.888761\n",
            "2021-01-04 00:00:00  -0.943406  1.261423  0.107696 -0.530942 -0.134889\n",
            "2021-01-05 00:00:00   1.054270  1.585187  1.838446  0.850039 -0.006740\n",
            "2021-01-06 00:00:00  -0.623075 -0.736304  0.043422 -0.954604 -0.404079\n",
            "2021-01-07 00:00:00   0.683792  2.328492 -0.235471  0.400234 -1.862937\n",
            "2021-01-08 00:00:00  -0.091034 -0.462305  0.929604 -0.742934 -0.040046\n",
            "2021-01-09 00:00:00  -3.757104 -0.669424  1.150779 -0.409751 -0.609192\n",
            "2021-01-10 00:00:00  -2.496511 -1.731809  0.203946  0.642842  1.820832\n",
            "2021-01-11 00:00:00   0.219443  1.651634 -1.058349  0.638734 -1.595269\n",
            "2021-01-12 00:00:00  -0.351371 -0.119302  0.305094  1.993701 -1.070817\n",
            "2021-01-13 00:00:00  -1.290209 -1.693618 -0.188845  0.011335  1.854473\n",
            "2021-01-14 00:00:00   1.643681  0.416073 -1.605280 -2.472798 -0.282259\n",
            "2021-01-15 00:00:00  -0.015051  1.338066 -0.076049 -0.296104  1.579164\n",
            "2021-01-16 00:00:00   0.055108 -0.008332  0.154160 -0.248038 -0.556118\n",
            "2021-01-17 00:00:00  -0.215403 -0.305471  0.266350  1.589259 -2.426009\n",
            "2021-01-18 00:00:00  -1.149982  0.046580 -0.355187 -0.198145  1.713707\n",
            "2021-01-19 00:00:00   0.053494 -1.322154 -0.445090  1.295624 -0.048043\n",
            "2021-01-20 00:00:00   0.849404 -0.020833  1.371405  1.163118  1.055830\n",
            "1                    25.000000       NaN       NaN       NaN       NaN\n",
            "2021-01-02 00:00:00  25.000000       NaN       NaN       NaN       NaN\n"
          ],
          "name": "stdout"
        }
      ]
    },
    {
      "cell_type": "code",
      "metadata": {
        "colab": {
          "base_uri": "https://localhost:8080/",
          "height": 204
        },
        "id": "zPnabQSdpid-",
        "outputId": "5b118594-177e-4795-ad10-ce0383b0d52f"
      },
      "source": [
        "df.iloc[:5,0:3]   #5rows 3 cols"
      ],
      "execution_count": null,
      "outputs": [
        {
          "output_type": "execute_result",
          "data": {
            "text/html": [
              "<div>\n",
              "<style scoped>\n",
              "    .dataframe tbody tr th:only-of-type {\n",
              "        vertical-align: middle;\n",
              "    }\n",
              "\n",
              "    .dataframe tbody tr th {\n",
              "        vertical-align: top;\n",
              "    }\n",
              "\n",
              "    .dataframe thead th {\n",
              "        text-align: right;\n",
              "    }\n",
              "</style>\n",
              "<table border=\"1\" class=\"dataframe\">\n",
              "  <thead>\n",
              "    <tr style=\"text-align: right;\">\n",
              "      <th></th>\n",
              "      <th>col1</th>\n",
              "      <th>col2</th>\n",
              "      <th>col3</th>\n",
              "    </tr>\n",
              "  </thead>\n",
              "  <tbody>\n",
              "    <tr>\n",
              "      <th>2021-01-01 00:00:00</th>\n",
              "      <td>1.245400</td>\n",
              "      <td>0.110717</td>\n",
              "      <td>0.985290</td>\n",
              "    </tr>\n",
              "    <tr>\n",
              "      <th>2021-01-02 00:00:00</th>\n",
              "      <td>-2.144633</td>\n",
              "      <td>-1.966523</td>\n",
              "      <td>-0.078144</td>\n",
              "    </tr>\n",
              "    <tr>\n",
              "      <th>2021-01-03 00:00:00</th>\n",
              "      <td>-0.755768</td>\n",
              "      <td>-1.312136</td>\n",
              "      <td>1.039454</td>\n",
              "    </tr>\n",
              "    <tr>\n",
              "      <th>2021-01-04 00:00:00</th>\n",
              "      <td>-0.518187</td>\n",
              "      <td>-1.413763</td>\n",
              "      <td>0.755654</td>\n",
              "    </tr>\n",
              "    <tr>\n",
              "      <th>2021-01-05 00:00:00</th>\n",
              "      <td>-0.015972</td>\n",
              "      <td>0.301429</td>\n",
              "      <td>-1.959318</td>\n",
              "    </tr>\n",
              "  </tbody>\n",
              "</table>\n",
              "</div>"
            ],
            "text/plain": [
              "                         col1      col2      col3\n",
              "2021-01-01 00:00:00  1.245400  0.110717  0.985290\n",
              "2021-01-02 00:00:00 -2.144633 -1.966523 -0.078144\n",
              "2021-01-03 00:00:00 -0.755768 -1.312136  1.039454\n",
              "2021-01-04 00:00:00 -0.518187 -1.413763  0.755654\n",
              "2021-01-05 00:00:00 -0.015972  0.301429 -1.959318"
            ]
          },
          "metadata": {
            "tags": []
          },
          "execution_count": 49
        }
      ]
    },
    {
      "cell_type": "code",
      "metadata": {
        "colab": {
          "base_uri": "https://localhost:8080/",
          "height": 421
        },
        "id": "c-Qn5Pemp2o2",
        "outputId": "f3da7efb-c37c-4961-fd72-4596e27326e5"
      },
      "source": [
        "df[(df['col1']<0)]"
      ],
      "execution_count": null,
      "outputs": [
        {
          "output_type": "execute_result",
          "data": {
            "text/html": [
              "<div>\n",
              "<style scoped>\n",
              "    .dataframe tbody tr th:only-of-type {\n",
              "        vertical-align: middle;\n",
              "    }\n",
              "\n",
              "    .dataframe tbody tr th {\n",
              "        vertical-align: top;\n",
              "    }\n",
              "\n",
              "    .dataframe thead th {\n",
              "        text-align: right;\n",
              "    }\n",
              "</style>\n",
              "<table border=\"1\" class=\"dataframe\">\n",
              "  <thead>\n",
              "    <tr style=\"text-align: right;\">\n",
              "      <th></th>\n",
              "      <th>col1</th>\n",
              "      <th>col2</th>\n",
              "      <th>col3</th>\n",
              "      <th>col4</th>\n",
              "      <th>col5</th>\n",
              "    </tr>\n",
              "  </thead>\n",
              "  <tbody>\n",
              "    <tr>\n",
              "      <th>2021-01-02 00:00:00</th>\n",
              "      <td>-2.144633</td>\n",
              "      <td>-1.966523</td>\n",
              "      <td>-0.078144</td>\n",
              "      <td>0.296244</td>\n",
              "      <td>-1.838758</td>\n",
              "    </tr>\n",
              "    <tr>\n",
              "      <th>2021-01-03 00:00:00</th>\n",
              "      <td>-0.755768</td>\n",
              "      <td>-1.312136</td>\n",
              "      <td>1.039454</td>\n",
              "      <td>-0.831825</td>\n",
              "      <td>0.804142</td>\n",
              "    </tr>\n",
              "    <tr>\n",
              "      <th>2021-01-04 00:00:00</th>\n",
              "      <td>-0.518187</td>\n",
              "      <td>-1.413763</td>\n",
              "      <td>0.755654</td>\n",
              "      <td>0.634150</td>\n",
              "      <td>-0.020635</td>\n",
              "    </tr>\n",
              "    <tr>\n",
              "      <th>2021-01-05 00:00:00</th>\n",
              "      <td>-0.015972</td>\n",
              "      <td>0.301429</td>\n",
              "      <td>-1.959318</td>\n",
              "      <td>-1.419003</td>\n",
              "      <td>-1.023850</td>\n",
              "    </tr>\n",
              "    <tr>\n",
              "      <th>2021-01-06 00:00:00</th>\n",
              "      <td>-0.991457</td>\n",
              "      <td>-1.321988</td>\n",
              "      <td>-0.114607</td>\n",
              "      <td>-0.042245</td>\n",
              "      <td>0.629888</td>\n",
              "    </tr>\n",
              "    <tr>\n",
              "      <th>2021-01-07 00:00:00</th>\n",
              "      <td>-0.077408</td>\n",
              "      <td>-2.196594</td>\n",
              "      <td>1.110179</td>\n",
              "      <td>-1.259179</td>\n",
              "      <td>0.664689</td>\n",
              "    </tr>\n",
              "    <tr>\n",
              "      <th>2021-01-11 00:00:00</th>\n",
              "      <td>-0.118900</td>\n",
              "      <td>-0.021945</td>\n",
              "      <td>-1.699266</td>\n",
              "      <td>0.013404</td>\n",
              "      <td>-1.552223</td>\n",
              "    </tr>\n",
              "    <tr>\n",
              "      <th>2021-01-12 00:00:00</th>\n",
              "      <td>-0.975976</td>\n",
              "      <td>0.876439</td>\n",
              "      <td>0.310406</td>\n",
              "      <td>0.667538</td>\n",
              "      <td>-0.403991</td>\n",
              "    </tr>\n",
              "    <tr>\n",
              "      <th>2021-01-13 00:00:00</th>\n",
              "      <td>-1.512641</td>\n",
              "      <td>0.128558</td>\n",
              "      <td>-1.690443</td>\n",
              "      <td>1.157229</td>\n",
              "      <td>0.730890</td>\n",
              "    </tr>\n",
              "    <tr>\n",
              "      <th>2021-01-15 00:00:00</th>\n",
              "      <td>-3.052919</td>\n",
              "      <td>2.346407</td>\n",
              "      <td>-1.211939</td>\n",
              "      <td>-0.606219</td>\n",
              "      <td>-0.250960</td>\n",
              "    </tr>\n",
              "    <tr>\n",
              "      <th>2021-01-18 00:00:00</th>\n",
              "      <td>-1.016851</td>\n",
              "      <td>0.462344</td>\n",
              "      <td>0.284765</td>\n",
              "      <td>0.032196</td>\n",
              "      <td>-0.551012</td>\n",
              "    </tr>\n",
              "    <tr>\n",
              "      <th>2021-01-19 00:00:00</th>\n",
              "      <td>-0.626508</td>\n",
              "      <td>-0.826471</td>\n",
              "      <td>-1.098271</td>\n",
              "      <td>-0.180922</td>\n",
              "      <td>-0.473814</td>\n",
              "    </tr>\n",
              "  </tbody>\n",
              "</table>\n",
              "</div>"
            ],
            "text/plain": [
              "                         col1      col2      col3      col4      col5\n",
              "2021-01-02 00:00:00 -2.144633 -1.966523 -0.078144  0.296244 -1.838758\n",
              "2021-01-03 00:00:00 -0.755768 -1.312136  1.039454 -0.831825  0.804142\n",
              "2021-01-04 00:00:00 -0.518187 -1.413763  0.755654  0.634150 -0.020635\n",
              "2021-01-05 00:00:00 -0.015972  0.301429 -1.959318 -1.419003 -1.023850\n",
              "2021-01-06 00:00:00 -0.991457 -1.321988 -0.114607 -0.042245  0.629888\n",
              "2021-01-07 00:00:00 -0.077408 -2.196594  1.110179 -1.259179  0.664689\n",
              "2021-01-11 00:00:00 -0.118900 -0.021945 -1.699266  0.013404 -1.552223\n",
              "2021-01-12 00:00:00 -0.975976  0.876439  0.310406  0.667538 -0.403991\n",
              "2021-01-13 00:00:00 -1.512641  0.128558 -1.690443  1.157229  0.730890\n",
              "2021-01-15 00:00:00 -3.052919  2.346407 -1.211939 -0.606219 -0.250960\n",
              "2021-01-18 00:00:00 -1.016851  0.462344  0.284765  0.032196 -0.551012\n",
              "2021-01-19 00:00:00 -0.626508 -0.826471 -1.098271 -0.180922 -0.473814"
            ]
          },
          "metadata": {
            "tags": []
          },
          "execution_count": 50
        }
      ]
    },
    {
      "cell_type": "code",
      "metadata": {
        "colab": {
          "base_uri": "https://localhost:8080/",
          "height": 204
        },
        "id": "i32vZ9Tvq1EJ",
        "outputId": "e18fae45-7c38-4494-f2bb-1fbd13bb3668"
      },
      "source": [
        "df[(df['col1']<0) & (df['col2']>0)][['col3','col4']]"
      ],
      "execution_count": null,
      "outputs": [
        {
          "output_type": "execute_result",
          "data": {
            "text/html": [
              "<div>\n",
              "<style scoped>\n",
              "    .dataframe tbody tr th:only-of-type {\n",
              "        vertical-align: middle;\n",
              "    }\n",
              "\n",
              "    .dataframe tbody tr th {\n",
              "        vertical-align: top;\n",
              "    }\n",
              "\n",
              "    .dataframe thead th {\n",
              "        text-align: right;\n",
              "    }\n",
              "</style>\n",
              "<table border=\"1\" class=\"dataframe\">\n",
              "  <thead>\n",
              "    <tr style=\"text-align: right;\">\n",
              "      <th></th>\n",
              "      <th>col3</th>\n",
              "      <th>col4</th>\n",
              "    </tr>\n",
              "  </thead>\n",
              "  <tbody>\n",
              "    <tr>\n",
              "      <th>2021-01-05 00:00:00</th>\n",
              "      <td>-1.959318</td>\n",
              "      <td>-1.419003</td>\n",
              "    </tr>\n",
              "    <tr>\n",
              "      <th>2021-01-12 00:00:00</th>\n",
              "      <td>0.310406</td>\n",
              "      <td>0.667538</td>\n",
              "    </tr>\n",
              "    <tr>\n",
              "      <th>2021-01-13 00:00:00</th>\n",
              "      <td>-1.690443</td>\n",
              "      <td>1.157229</td>\n",
              "    </tr>\n",
              "    <tr>\n",
              "      <th>2021-01-15 00:00:00</th>\n",
              "      <td>-1.211939</td>\n",
              "      <td>-0.606219</td>\n",
              "    </tr>\n",
              "    <tr>\n",
              "      <th>2021-01-18 00:00:00</th>\n",
              "      <td>0.284765</td>\n",
              "      <td>0.032196</td>\n",
              "    </tr>\n",
              "  </tbody>\n",
              "</table>\n",
              "</div>"
            ],
            "text/plain": [
              "                         col3      col4\n",
              "2021-01-05 00:00:00 -1.959318 -1.419003\n",
              "2021-01-12 00:00:00  0.310406  0.667538\n",
              "2021-01-13 00:00:00 -1.690443  1.157229\n",
              "2021-01-15 00:00:00 -1.211939 -0.606219\n",
              "2021-01-18 00:00:00  0.284765  0.032196"
            ]
          },
          "metadata": {
            "tags": []
          },
          "execution_count": 51
        }
      ]
    },
    {
      "cell_type": "code",
      "metadata": {
        "id": "G31HE_-8sl79"
      },
      "source": [
        "#from google.colab import drive\n",
        "#drive.mount('/content/drive')"
      ],
      "execution_count": null,
      "outputs": []
    },
    {
      "cell_type": "markdown",
      "metadata": {
        "id": "0e90W2RprHfl"
      },
      "source": [
        "joins(left,right,inner,outer)"
      ]
    },
    {
      "cell_type": "code",
      "metadata": {
        "id": "WGLNPebKrg5b"
      },
      "source": [
        "#cust = pd.merge(df1,df2,on='ord_id',how='inner')\n",
        "#df = pd.concat([df1,df2],axis = 0)  0 for row 1 for cols"
      ],
      "execution_count": null,
      "outputs": []
    },
    {
      "cell_type": "markdown",
      "metadata": {
        "id": "sxES0FPhtlYh"
      },
      "source": [
        "Map fn works with series to perform and operation"
      ]
    },
    {
      "cell_type": "markdown",
      "metadata": {
        "id": "qlaZMhbDud1h"
      },
      "source": [
        "apply fn work with dataframe  . can also be used with lambda function"
      ]
    },
    {
      "cell_type": "markdown",
      "metadata": {
        "id": "bgmB6c1Evqxl"
      },
      "source": [
        "from_items is used to create df out of dict"
      ]
    },
    {
      "cell_type": "code",
      "metadata": {
        "colab": {
          "base_uri": "https://localhost:8080/"
        },
        "id": "MZs7zqxetQRr",
        "outputId": "2df1b6f8-9ad3-47cc-f991-d5998e1f6d8d"
      },
      "source": [
        "def fndiv(x):\n",
        "  return x/10\n",
        "\n",
        "df['usertime'] = df['usertime'].map(fndiv)\n",
        "print(df['usertime'])\n",
        "\n",
        "print(df[['usertime','User ID']].apply(fndiv))\n",
        "\n",
        "print(df['usertime'].apply(lambda x:x*2))\n",
        "\n"
      ],
      "execution_count": null,
      "outputs": [
        {
          "output_type": "stream",
          "text": [
            "0       0.355223\n",
            "1       0.162517\n",
            "2       0.480321\n",
            "3       0.251573\n",
            "4       0.061040\n",
            "          ...   \n",
            "1031    0.081151\n",
            "1032    0.000777\n",
            "1033    0.026954\n",
            "1034    0.012355\n",
            "1035    0.128446\n",
            "Name: usertime, Length: 1036, dtype: float64\n",
            "      usertime  User ID\n",
            "0     0.035522     56.7\n",
            "1     0.016252    177.7\n",
            "2     0.048032    177.8\n",
            "3     0.025157    178.0\n",
            "4     0.006104    178.1\n",
            "...        ...      ...\n",
            "1031  0.008115    325.8\n",
            "1032  0.000078    325.9\n",
            "1033  0.002695    326.0\n",
            "1034  0.001236    326.1\n",
            "1035  0.012845    326.2\n",
            "\n",
            "[1036 rows x 2 columns]\n",
            "0       0.710447\n",
            "1       0.325035\n",
            "2       0.960642\n",
            "3       0.503145\n",
            "4       0.122080\n",
            "          ...   \n",
            "1031    0.162302\n",
            "1032    0.001554\n",
            "1033    0.053908\n",
            "1034    0.024710\n",
            "1035    0.256892\n",
            "Name: usertime, Length: 1036, dtype: float64\n"
          ],
          "name": "stdout"
        }
      ]
    },
    {
      "cell_type": "code",
      "metadata": {
        "colab": {
          "base_uri": "https://localhost:8080/",
          "height": 128
        },
        "id": "8gASLQPnvxC-",
        "outputId": "c0ff974c-6591-48f0-8b98-b91cb78f1139"
      },
      "source": [
        "basic_information = {\"name\":['karl','Lary'],\"mobile\":[\"0134567894\",\"0123456789\"]}\n",
        "print(basic_information)\n",
        "\n",
        "df2 = pd.DataFrame.from_dict(basic_information)\n",
        "df2\n"
      ],
      "execution_count": null,
      "outputs": [
        {
          "output_type": "stream",
          "text": [
            "{'name': ['karl', 'Lary'], 'mobile': ['0134567894', '0123456789']}\n"
          ],
          "name": "stdout"
        },
        {
          "output_type": "execute_result",
          "data": {
            "text/html": [
              "<div>\n",
              "<style scoped>\n",
              "    .dataframe tbody tr th:only-of-type {\n",
              "        vertical-align: middle;\n",
              "    }\n",
              "\n",
              "    .dataframe tbody tr th {\n",
              "        vertical-align: top;\n",
              "    }\n",
              "\n",
              "    .dataframe thead th {\n",
              "        text-align: right;\n",
              "    }\n",
              "</style>\n",
              "<table border=\"1\" class=\"dataframe\">\n",
              "  <thead>\n",
              "    <tr style=\"text-align: right;\">\n",
              "      <th></th>\n",
              "      <th>name</th>\n",
              "      <th>mobile</th>\n",
              "    </tr>\n",
              "  </thead>\n",
              "  <tbody>\n",
              "    <tr>\n",
              "      <th>0</th>\n",
              "      <td>karl</td>\n",
              "      <td>0134567894</td>\n",
              "    </tr>\n",
              "    <tr>\n",
              "      <th>1</th>\n",
              "      <td>Lary</td>\n",
              "      <td>0123456789</td>\n",
              "    </tr>\n",
              "  </tbody>\n",
              "</table>\n",
              "</div>"
            ],
            "text/plain": [
              "   name      mobile\n",
              "0  karl  0134567894\n",
              "1  Lary  0123456789"
            ]
          },
          "metadata": {
            "tags": []
          },
          "execution_count": 67
        }
      ]
    },
    {
      "cell_type": "code",
      "metadata": {
        "colab": {
          "base_uri": "https://localhost:8080/",
          "height": 142
        },
        "id": "-25b7zZfxYGc",
        "outputId": "211c3941-8c8f-4ea6-957d-f7df830f208f"
      },
      "source": [
        "import pandas as pd\n",
        "from collections import OrderedDict\n",
        "from datetime import date\n",
        "\n",
        "sales = [{'account': 'Jones LLC', 'Jan': 150, 'Feb': 200, 'Mar': 140},\n",
        "         {'account': 'Alpha Co',  'Jan': 200, 'Feb': 210, 'Mar': 215},\n",
        "         {'account': 'Blue Inc',  'Jan': 50,  'Feb': 90,  'Mar': 95 }]\n",
        "df = pd.DataFrame(sales)\n",
        "df"
      ],
      "execution_count": null,
      "outputs": [
        {
          "output_type": "execute_result",
          "data": {
            "text/html": [
              "<div>\n",
              "<style scoped>\n",
              "    .dataframe tbody tr th:only-of-type {\n",
              "        vertical-align: middle;\n",
              "    }\n",
              "\n",
              "    .dataframe tbody tr th {\n",
              "        vertical-align: top;\n",
              "    }\n",
              "\n",
              "    .dataframe thead th {\n",
              "        text-align: right;\n",
              "    }\n",
              "</style>\n",
              "<table border=\"1\" class=\"dataframe\">\n",
              "  <thead>\n",
              "    <tr style=\"text-align: right;\">\n",
              "      <th></th>\n",
              "      <th>account</th>\n",
              "      <th>Jan</th>\n",
              "      <th>Feb</th>\n",
              "      <th>Mar</th>\n",
              "    </tr>\n",
              "  </thead>\n",
              "  <tbody>\n",
              "    <tr>\n",
              "      <th>0</th>\n",
              "      <td>Jones LLC</td>\n",
              "      <td>150</td>\n",
              "      <td>200</td>\n",
              "      <td>140</td>\n",
              "    </tr>\n",
              "    <tr>\n",
              "      <th>1</th>\n",
              "      <td>Alpha Co</td>\n",
              "      <td>200</td>\n",
              "      <td>210</td>\n",
              "      <td>215</td>\n",
              "    </tr>\n",
              "    <tr>\n",
              "      <th>2</th>\n",
              "      <td>Blue Inc</td>\n",
              "      <td>50</td>\n",
              "      <td>90</td>\n",
              "      <td>95</td>\n",
              "    </tr>\n",
              "  </tbody>\n",
              "</table>\n",
              "</div>"
            ],
            "text/plain": [
              "     account  Jan  Feb  Mar\n",
              "0  Jones LLC  150  200  140\n",
              "1   Alpha Co  200  210  215\n",
              "2   Blue Inc   50   90   95"
            ]
          },
          "metadata": {
            "tags": []
          },
          "execution_count": 69
        }
      ]
    },
    {
      "cell_type": "markdown",
      "metadata": {
        "id": "EALKYNMayp6S"
      },
      "source": [
        "As you can see, this approach is very “row oriented”. If you would like to create a DataFrame in a “column oriented” manner, you would use from_dict"
      ]
    },
    {
      "cell_type": "code",
      "metadata": {
        "colab": {
          "base_uri": "https://localhost:8080/",
          "height": 142
        },
        "id": "VB4DrCV-xguh",
        "outputId": "1b460a32-ce28-41ee-db20-0ccfc61cadf3"
      },
      "source": [
        "sales = {'account': ['Jones LLC', 'Alpha Co', 'Blue Inc'],\n",
        "         'Jan': [150, 200, 50],\n",
        "         'Feb': [200, 210, 90],\n",
        "         'Mar': [140, 215, 95]}\n",
        "dfd = pd.DataFrame.from_dict(sales)\n",
        "dfd"
      ],
      "execution_count": null,
      "outputs": [
        {
          "output_type": "execute_result",
          "data": {
            "text/html": [
              "<div>\n",
              "<style scoped>\n",
              "    .dataframe tbody tr th:only-of-type {\n",
              "        vertical-align: middle;\n",
              "    }\n",
              "\n",
              "    .dataframe tbody tr th {\n",
              "        vertical-align: top;\n",
              "    }\n",
              "\n",
              "    .dataframe thead th {\n",
              "        text-align: right;\n",
              "    }\n",
              "</style>\n",
              "<table border=\"1\" class=\"dataframe\">\n",
              "  <thead>\n",
              "    <tr style=\"text-align: right;\">\n",
              "      <th></th>\n",
              "      <th>account</th>\n",
              "      <th>Jan</th>\n",
              "      <th>Feb</th>\n",
              "      <th>Mar</th>\n",
              "    </tr>\n",
              "  </thead>\n",
              "  <tbody>\n",
              "    <tr>\n",
              "      <th>0</th>\n",
              "      <td>Jones LLC</td>\n",
              "      <td>150</td>\n",
              "      <td>200</td>\n",
              "      <td>140</td>\n",
              "    </tr>\n",
              "    <tr>\n",
              "      <th>1</th>\n",
              "      <td>Alpha Co</td>\n",
              "      <td>200</td>\n",
              "      <td>210</td>\n",
              "      <td>215</td>\n",
              "    </tr>\n",
              "    <tr>\n",
              "      <th>2</th>\n",
              "      <td>Blue Inc</td>\n",
              "      <td>50</td>\n",
              "      <td>90</td>\n",
              "      <td>95</td>\n",
              "    </tr>\n",
              "  </tbody>\n",
              "</table>\n",
              "</div>"
            ],
            "text/plain": [
              "     account  Jan  Feb  Mar\n",
              "0  Jones LLC  150  200  140\n",
              "1   Alpha Co  200  210  215\n",
              "2   Blue Inc   50   90   95"
            ]
          },
          "metadata": {
            "tags": []
          },
          "execution_count": 71
        }
      ]
    },
    {
      "cell_type": "markdown",
      "metadata": {
        "id": "-8hPF4OmyaOO"
      },
      "source": [
        "The other option for creating your DataFrames from python is to include the data in a list structure.\n",
        "\n",
        "The first approach is to use a row oriented approach using pandas from_records . This approach is similar to the dictionary approach but you need to explicitly call out the column labels."
      ]
    },
    {
      "cell_type": "code",
      "metadata": {
        "colab": {
          "base_uri": "https://localhost:8080/",
          "height": 142
        },
        "id": "ejpW5gc_x6-x",
        "outputId": "71450cb0-58d3-4762-94b1-b422ec4da655"
      },
      "source": [
        "sales = [('Jones LLC', 150, 200, 50),\n",
        "         ('Alpha Co', 200, 210, 90),\n",
        "         ('Blue Inc', 140, 215, 95)]\n",
        "labels = ['account', 'Jan', 'Feb', 'Mar']\n",
        "dfl = pd.DataFrame.from_records(sales, columns=labels)\n",
        "dfl"
      ],
      "execution_count": null,
      "outputs": [
        {
          "output_type": "execute_result",
          "data": {
            "text/html": [
              "<div>\n",
              "<style scoped>\n",
              "    .dataframe tbody tr th:only-of-type {\n",
              "        vertical-align: middle;\n",
              "    }\n",
              "\n",
              "    .dataframe tbody tr th {\n",
              "        vertical-align: top;\n",
              "    }\n",
              "\n",
              "    .dataframe thead th {\n",
              "        text-align: right;\n",
              "    }\n",
              "</style>\n",
              "<table border=\"1\" class=\"dataframe\">\n",
              "  <thead>\n",
              "    <tr style=\"text-align: right;\">\n",
              "      <th></th>\n",
              "      <th>account</th>\n",
              "      <th>Jan</th>\n",
              "      <th>Feb</th>\n",
              "      <th>Mar</th>\n",
              "    </tr>\n",
              "  </thead>\n",
              "  <tbody>\n",
              "    <tr>\n",
              "      <th>0</th>\n",
              "      <td>Jones LLC</td>\n",
              "      <td>150</td>\n",
              "      <td>200</td>\n",
              "      <td>50</td>\n",
              "    </tr>\n",
              "    <tr>\n",
              "      <th>1</th>\n",
              "      <td>Alpha Co</td>\n",
              "      <td>200</td>\n",
              "      <td>210</td>\n",
              "      <td>90</td>\n",
              "    </tr>\n",
              "    <tr>\n",
              "      <th>2</th>\n",
              "      <td>Blue Inc</td>\n",
              "      <td>140</td>\n",
              "      <td>215</td>\n",
              "      <td>95</td>\n",
              "    </tr>\n",
              "  </tbody>\n",
              "</table>\n",
              "</div>"
            ],
            "text/plain": [
              "     account  Jan  Feb  Mar\n",
              "0  Jones LLC  150  200   50\n",
              "1   Alpha Co  200  210   90\n",
              "2   Blue Inc  140  215   95"
            ]
          },
          "metadata": {
            "tags": []
          },
          "execution_count": 72
        }
      ]
    },
    {
      "cell_type": "markdown",
      "metadata": {
        "id": "2lrOsiChfzq6"
      },
      "source": [
        "missing values\n",
        "MCAR(missing completely at random), MAR(missing at random),MNAR(missing not at random)"
      ]
    },
    {
      "cell_type": "markdown",
      "metadata": {
        "id": "s-sdyXSchYAI"
      },
      "source": [
        "1.if the column has high corelation with the target column"
      ]
    },
    {
      "cell_type": "markdown",
      "metadata": {
        "id": "m3KwHs4Thek2"
      },
      "source": [
        "2.if the removal of row or col can lead to information loss"
      ]
    },
    {
      "cell_type": "markdown",
      "metadata": {
        "id": "52IzZ-0QMfJB"
      },
      "source": [
        "Fill NA with Mean, Median or Mode of the data\n",
        "Fill NA with a constant value\n",
        "Forward Fill or Backward Fill NA (method='ffill','bfill')\n",
        "Interpolate Data and Fill NA"
      ]
    },
    {
      "cell_type": "code",
      "metadata": {
        "colab": {
          "base_uri": "https://localhost:8080/",
          "height": 640
        },
        "id": "lam4ViVFgCw9",
        "outputId": "94373727-c031-4cf4-cdc0-fc163148f901"
      },
      "source": [
        "df = pd.read_excel('/content/sample_data/Sample Data.xlsx')\n",
        "print(df.columns)\n",
        "df"
      ],
      "execution_count": 34,
      "outputs": [
        {
          "output_type": "stream",
          "text": [
            "Index(['User ID', 'Session Count', 'Uninstall Date', 'usertime', 'Share Count',\n",
            "       'Notification Receive', 'Notification Dismiss', 'Notification Open',\n",
            "       'Acquired Medium google / others', 'Reg at date', 'CIty ',\n",
            "       'Video Count', 'Quiz Count'],\n",
            "      dtype='object')\n"
          ],
          "name": "stdout"
        },
        {
          "output_type": "execute_result",
          "data": {
            "text/html": [
              "<div>\n",
              "<style scoped>\n",
              "    .dataframe tbody tr th:only-of-type {\n",
              "        vertical-align: middle;\n",
              "    }\n",
              "\n",
              "    .dataframe tbody tr th {\n",
              "        vertical-align: top;\n",
              "    }\n",
              "\n",
              "    .dataframe thead th {\n",
              "        text-align: right;\n",
              "    }\n",
              "</style>\n",
              "<table border=\"1\" class=\"dataframe\">\n",
              "  <thead>\n",
              "    <tr style=\"text-align: right;\">\n",
              "      <th></th>\n",
              "      <th>User ID</th>\n",
              "      <th>Session Count</th>\n",
              "      <th>Uninstall Date</th>\n",
              "      <th>usertime</th>\n",
              "      <th>Share Count</th>\n",
              "      <th>Notification Receive</th>\n",
              "      <th>Notification Dismiss</th>\n",
              "      <th>Notification Open</th>\n",
              "      <th>Acquired Medium google / others</th>\n",
              "      <th>Reg at date</th>\n",
              "      <th>CIty</th>\n",
              "      <th>Video Count</th>\n",
              "      <th>Quiz Count</th>\n",
              "    </tr>\n",
              "  </thead>\n",
              "  <tbody>\n",
              "    <tr>\n",
              "      <th>0</th>\n",
              "      <td>567</td>\n",
              "      <td>4.0</td>\n",
              "      <td>2019-01-07</td>\n",
              "      <td>35522.331</td>\n",
              "      <td>NaN</td>\n",
              "      <td>1.0</td>\n",
              "      <td>NaN</td>\n",
              "      <td>NaN</td>\n",
              "      <td>Normal</td>\n",
              "      <td>2019-01-07</td>\n",
              "      <td>NaN</td>\n",
              "      <td>0</td>\n",
              "      <td>0</td>\n",
              "    </tr>\n",
              "    <tr>\n",
              "      <th>1</th>\n",
              "      <td>1777</td>\n",
              "      <td>16.0</td>\n",
              "      <td>2018-10-05</td>\n",
              "      <td>16251.738</td>\n",
              "      <td>NaN</td>\n",
              "      <td>7.0</td>\n",
              "      <td>3.0</td>\n",
              "      <td>4.0</td>\n",
              "      <td>Normal</td>\n",
              "      <td>2018-11-23</td>\n",
              "      <td>NaN</td>\n",
              "      <td>5</td>\n",
              "      <td>13</td>\n",
              "    </tr>\n",
              "    <tr>\n",
              "      <th>2</th>\n",
              "      <td>1778</td>\n",
              "      <td>401.0</td>\n",
              "      <td>2019-03-08</td>\n",
              "      <td>48032.113</td>\n",
              "      <td>49.0</td>\n",
              "      <td>279.0</td>\n",
              "      <td>32.0</td>\n",
              "      <td>30.0</td>\n",
              "      <td>Normal</td>\n",
              "      <td>2018-11-22</td>\n",
              "      <td>Mumbai</td>\n",
              "      <td>28</td>\n",
              "      <td>38</td>\n",
              "    </tr>\n",
              "    <tr>\n",
              "      <th>3</th>\n",
              "      <td>1780</td>\n",
              "      <td>226.0</td>\n",
              "      <td>2019-08-28</td>\n",
              "      <td>25157.275</td>\n",
              "      <td>11.0</td>\n",
              "      <td>342.0</td>\n",
              "      <td>227.0</td>\n",
              "      <td>57.0</td>\n",
              "      <td>Normal</td>\n",
              "      <td>2018-11-25</td>\n",
              "      <td>Mumbai</td>\n",
              "      <td>49</td>\n",
              "      <td>87</td>\n",
              "    </tr>\n",
              "    <tr>\n",
              "      <th>4</th>\n",
              "      <td>1781</td>\n",
              "      <td>14.0</td>\n",
              "      <td>2018-09-14</td>\n",
              "      <td>6104.008</td>\n",
              "      <td>NaN</td>\n",
              "      <td>2.0</td>\n",
              "      <td>2.0</td>\n",
              "      <td>NaN</td>\n",
              "      <td>Normal</td>\n",
              "      <td>NaT</td>\n",
              "      <td>NaN</td>\n",
              "      <td>4</td>\n",
              "      <td>8</td>\n",
              "    </tr>\n",
              "    <tr>\n",
              "      <th>...</th>\n",
              "      <td>...</td>\n",
              "      <td>...</td>\n",
              "      <td>...</td>\n",
              "      <td>...</td>\n",
              "      <td>...</td>\n",
              "      <td>...</td>\n",
              "      <td>...</td>\n",
              "      <td>...</td>\n",
              "      <td>...</td>\n",
              "      <td>...</td>\n",
              "      <td>...</td>\n",
              "      <td>...</td>\n",
              "      <td>...</td>\n",
              "    </tr>\n",
              "    <tr>\n",
              "      <th>1031</th>\n",
              "      <td>3258</td>\n",
              "      <td>9.0</td>\n",
              "      <td>2019-02-06</td>\n",
              "      <td>8115.079</td>\n",
              "      <td>1.0</td>\n",
              "      <td>1.0</td>\n",
              "      <td>1.0</td>\n",
              "      <td>NaN</td>\n",
              "      <td>Normal</td>\n",
              "      <td>2019-01-14</td>\n",
              "      <td>NaN</td>\n",
              "      <td>28</td>\n",
              "      <td>69</td>\n",
              "    </tr>\n",
              "    <tr>\n",
              "      <th>1032</th>\n",
              "      <td>3259</td>\n",
              "      <td>NaN</td>\n",
              "      <td>2018-11-19</td>\n",
              "      <td>77.705</td>\n",
              "      <td>NaN</td>\n",
              "      <td>NaN</td>\n",
              "      <td>NaN</td>\n",
              "      <td>NaN</td>\n",
              "      <td>Normal</td>\n",
              "      <td>NaT</td>\n",
              "      <td>NaN</td>\n",
              "      <td>0</td>\n",
              "      <td>0</td>\n",
              "    </tr>\n",
              "    <tr>\n",
              "      <th>1033</th>\n",
              "      <td>3260</td>\n",
              "      <td>21.0</td>\n",
              "      <td>NaT</td>\n",
              "      <td>2695.403</td>\n",
              "      <td>1.0</td>\n",
              "      <td>749.0</td>\n",
              "      <td>12.0</td>\n",
              "      <td>2.0</td>\n",
              "      <td>Normal</td>\n",
              "      <td>2018-12-10</td>\n",
              "      <td>Mumbai</td>\n",
              "      <td>7</td>\n",
              "      <td>4</td>\n",
              "    </tr>\n",
              "    <tr>\n",
              "      <th>1034</th>\n",
              "      <td>3261</td>\n",
              "      <td>1.0</td>\n",
              "      <td>NaT</td>\n",
              "      <td>1235.510</td>\n",
              "      <td>NaN</td>\n",
              "      <td>NaN</td>\n",
              "      <td>NaN</td>\n",
              "      <td>NaN</td>\n",
              "      <td>Normal</td>\n",
              "      <td>NaT</td>\n",
              "      <td>NaN</td>\n",
              "      <td>6</td>\n",
              "      <td>3</td>\n",
              "    </tr>\n",
              "    <tr>\n",
              "      <th>1035</th>\n",
              "      <td>3262</td>\n",
              "      <td>60.0</td>\n",
              "      <td>2019-01-08</td>\n",
              "      <td>12844.617</td>\n",
              "      <td>5.0</td>\n",
              "      <td>32.0</td>\n",
              "      <td>18.0</td>\n",
              "      <td>4.0</td>\n",
              "      <td>Normal</td>\n",
              "      <td>2018-11-29</td>\n",
              "      <td>NaN</td>\n",
              "      <td>28</td>\n",
              "      <td>39</td>\n",
              "    </tr>\n",
              "  </tbody>\n",
              "</table>\n",
              "<p>1036 rows × 13 columns</p>\n",
              "</div>"
            ],
            "text/plain": [
              "      User ID  Session Count Uninstall Date  ...   CIty   Video Count  Quiz Count\n",
              "0         567            4.0     2019-01-07  ...     NaN            0           0\n",
              "1        1777           16.0     2018-10-05  ...     NaN            5          13\n",
              "2        1778          401.0     2019-03-08  ...  Mumbai           28          38\n",
              "3        1780          226.0     2019-08-28  ...  Mumbai           49          87\n",
              "4        1781           14.0     2018-09-14  ...     NaN            4           8\n",
              "...       ...            ...            ...  ...     ...          ...         ...\n",
              "1031     3258            9.0     2019-02-06  ...     NaN           28          69\n",
              "1032     3259            NaN     2018-11-19  ...     NaN            0           0\n",
              "1033     3260           21.0            NaT  ...  Mumbai            7           4\n",
              "1034     3261            1.0            NaT  ...     NaN            6           3\n",
              "1035     3262           60.0     2019-01-08  ...     NaN           28          39\n",
              "\n",
              "[1036 rows x 13 columns]"
            ]
          },
          "metadata": {
            "tags": []
          },
          "execution_count": 34
        }
      ]
    },
    {
      "cell_type": "code",
      "metadata": {
        "colab": {
          "base_uri": "https://localhost:8080/"
        },
        "id": "5CbCSg2VPGgL",
        "outputId": "a5bc428a-b50c-4768-c977-70a08f3f57ca"
      },
      "source": [
        "df.shape"
      ],
      "execution_count": 41,
      "outputs": [
        {
          "output_type": "execute_result",
          "data": {
            "text/plain": [
              "(1036, 13)"
            ]
          },
          "metadata": {
            "tags": []
          },
          "execution_count": 41
        }
      ]
    },
    {
      "cell_type": "code",
      "metadata": {
        "colab": {
          "base_uri": "https://localhost:8080/"
        },
        "id": "5VTiItNdFx1M",
        "outputId": "b3466366-5e8e-4627-8615-66f0d6ffc375"
      },
      "source": [
        "df.isnull().sum(axis=1).sort_values(ascending= False)\n",
        "df.isnull().sum()"
      ],
      "execution_count": 40,
      "outputs": [
        {
          "output_type": "execute_result",
          "data": {
            "text/plain": [
              "User ID                            0\n",
              "Session Count                      0\n",
              "Uninstall Date                     0\n",
              "usertime                           0\n",
              "Share Count                        0\n",
              "Notification Receive               0\n",
              "Notification Dismiss               0\n",
              "Notification Open                  0\n",
              "Acquired Medium google / others    0\n",
              "Reg at date                        0\n",
              "CIty                               0\n",
              "Video Count                        0\n",
              "Quiz Count                         0\n",
              "dtype: int64"
            ]
          },
          "metadata": {
            "tags": []
          },
          "execution_count": 40
        }
      ]
    },
    {
      "cell_type": "markdown",
      "metadata": {
        "id": "QRhe6vmVG9UC"
      },
      "source": [
        "for categorical use mode i.e most no of occurances , else median and mean"
      ]
    },
    {
      "cell_type": "code",
      "metadata": {
        "colab": {
          "base_uri": "https://localhost:8080/",
          "height": 606
        },
        "id": "eATpjOQ4HE1H",
        "outputId": "189c2a43-a84f-4ee4-8ed8-08344b839afb"
      },
      "source": [
        "df['CIty '].fillna('NA',inplace=True)\n",
        "#city is replaces with NA\n",
        "#mode with highest no of occurances\n",
        "df['Uninstall Date'] = df['Uninstall Date'].fillna(df['Uninstall Date'].mode()[0])\n",
        "df['Reg at date'] = df['Reg at date'].fillna(df['Reg at date'].mode()[0])\n",
        "\n",
        "#df.replace(to_replace = np.nan, value = -99) \n",
        "\n",
        "df"
      ],
      "execution_count": 36,
      "outputs": [
        {
          "output_type": "execute_result",
          "data": {
            "text/html": [
              "<div>\n",
              "<style scoped>\n",
              "    .dataframe tbody tr th:only-of-type {\n",
              "        vertical-align: middle;\n",
              "    }\n",
              "\n",
              "    .dataframe tbody tr th {\n",
              "        vertical-align: top;\n",
              "    }\n",
              "\n",
              "    .dataframe thead th {\n",
              "        text-align: right;\n",
              "    }\n",
              "</style>\n",
              "<table border=\"1\" class=\"dataframe\">\n",
              "  <thead>\n",
              "    <tr style=\"text-align: right;\">\n",
              "      <th></th>\n",
              "      <th>User ID</th>\n",
              "      <th>Session Count</th>\n",
              "      <th>Uninstall Date</th>\n",
              "      <th>usertime</th>\n",
              "      <th>Share Count</th>\n",
              "      <th>Notification Receive</th>\n",
              "      <th>Notification Dismiss</th>\n",
              "      <th>Notification Open</th>\n",
              "      <th>Acquired Medium google / others</th>\n",
              "      <th>Reg at date</th>\n",
              "      <th>CIty</th>\n",
              "      <th>Video Count</th>\n",
              "      <th>Quiz Count</th>\n",
              "    </tr>\n",
              "  </thead>\n",
              "  <tbody>\n",
              "    <tr>\n",
              "      <th>0</th>\n",
              "      <td>567</td>\n",
              "      <td>4.0</td>\n",
              "      <td>2019-01-07</td>\n",
              "      <td>35522.331</td>\n",
              "      <td>NaN</td>\n",
              "      <td>1.0</td>\n",
              "      <td>NaN</td>\n",
              "      <td>NaN</td>\n",
              "      <td>Normal</td>\n",
              "      <td>2019-01-07</td>\n",
              "      <td>NA</td>\n",
              "      <td>0</td>\n",
              "      <td>0</td>\n",
              "    </tr>\n",
              "    <tr>\n",
              "      <th>1</th>\n",
              "      <td>1777</td>\n",
              "      <td>16.0</td>\n",
              "      <td>2018-10-05</td>\n",
              "      <td>16251.738</td>\n",
              "      <td>NaN</td>\n",
              "      <td>7.0</td>\n",
              "      <td>3.0</td>\n",
              "      <td>4.0</td>\n",
              "      <td>Normal</td>\n",
              "      <td>2018-11-23</td>\n",
              "      <td>NA</td>\n",
              "      <td>5</td>\n",
              "      <td>13</td>\n",
              "    </tr>\n",
              "    <tr>\n",
              "      <th>2</th>\n",
              "      <td>1778</td>\n",
              "      <td>401.0</td>\n",
              "      <td>2019-03-08</td>\n",
              "      <td>48032.113</td>\n",
              "      <td>49.0</td>\n",
              "      <td>279.0</td>\n",
              "      <td>32.0</td>\n",
              "      <td>30.0</td>\n",
              "      <td>Normal</td>\n",
              "      <td>2018-11-22</td>\n",
              "      <td>Mumbai</td>\n",
              "      <td>28</td>\n",
              "      <td>38</td>\n",
              "    </tr>\n",
              "    <tr>\n",
              "      <th>3</th>\n",
              "      <td>1780</td>\n",
              "      <td>226.0</td>\n",
              "      <td>2019-08-28</td>\n",
              "      <td>25157.275</td>\n",
              "      <td>11.0</td>\n",
              "      <td>342.0</td>\n",
              "      <td>227.0</td>\n",
              "      <td>57.0</td>\n",
              "      <td>Normal</td>\n",
              "      <td>2018-11-25</td>\n",
              "      <td>Mumbai</td>\n",
              "      <td>49</td>\n",
              "      <td>87</td>\n",
              "    </tr>\n",
              "    <tr>\n",
              "      <th>4</th>\n",
              "      <td>1781</td>\n",
              "      <td>14.0</td>\n",
              "      <td>2018-09-14</td>\n",
              "      <td>6104.008</td>\n",
              "      <td>NaN</td>\n",
              "      <td>2.0</td>\n",
              "      <td>2.0</td>\n",
              "      <td>NaN</td>\n",
              "      <td>Normal</td>\n",
              "      <td>2018-11-22</td>\n",
              "      <td>NA</td>\n",
              "      <td>4</td>\n",
              "      <td>8</td>\n",
              "    </tr>\n",
              "    <tr>\n",
              "      <th>...</th>\n",
              "      <td>...</td>\n",
              "      <td>...</td>\n",
              "      <td>...</td>\n",
              "      <td>...</td>\n",
              "      <td>...</td>\n",
              "      <td>...</td>\n",
              "      <td>...</td>\n",
              "      <td>...</td>\n",
              "      <td>...</td>\n",
              "      <td>...</td>\n",
              "      <td>...</td>\n",
              "      <td>...</td>\n",
              "      <td>...</td>\n",
              "    </tr>\n",
              "    <tr>\n",
              "      <th>1031</th>\n",
              "      <td>3258</td>\n",
              "      <td>9.0</td>\n",
              "      <td>2019-02-06</td>\n",
              "      <td>8115.079</td>\n",
              "      <td>1.0</td>\n",
              "      <td>1.0</td>\n",
              "      <td>1.0</td>\n",
              "      <td>NaN</td>\n",
              "      <td>Normal</td>\n",
              "      <td>2019-01-14</td>\n",
              "      <td>NA</td>\n",
              "      <td>28</td>\n",
              "      <td>69</td>\n",
              "    </tr>\n",
              "    <tr>\n",
              "      <th>1032</th>\n",
              "      <td>3259</td>\n",
              "      <td>NaN</td>\n",
              "      <td>2018-11-19</td>\n",
              "      <td>77.705</td>\n",
              "      <td>NaN</td>\n",
              "      <td>NaN</td>\n",
              "      <td>NaN</td>\n",
              "      <td>NaN</td>\n",
              "      <td>Normal</td>\n",
              "      <td>2018-11-22</td>\n",
              "      <td>NA</td>\n",
              "      <td>0</td>\n",
              "      <td>0</td>\n",
              "    </tr>\n",
              "    <tr>\n",
              "      <th>1033</th>\n",
              "      <td>3260</td>\n",
              "      <td>21.0</td>\n",
              "      <td>2019-01-12</td>\n",
              "      <td>2695.403</td>\n",
              "      <td>1.0</td>\n",
              "      <td>749.0</td>\n",
              "      <td>12.0</td>\n",
              "      <td>2.0</td>\n",
              "      <td>Normal</td>\n",
              "      <td>2018-12-10</td>\n",
              "      <td>Mumbai</td>\n",
              "      <td>7</td>\n",
              "      <td>4</td>\n",
              "    </tr>\n",
              "    <tr>\n",
              "      <th>1034</th>\n",
              "      <td>3261</td>\n",
              "      <td>1.0</td>\n",
              "      <td>2019-01-12</td>\n",
              "      <td>1235.510</td>\n",
              "      <td>NaN</td>\n",
              "      <td>NaN</td>\n",
              "      <td>NaN</td>\n",
              "      <td>NaN</td>\n",
              "      <td>Normal</td>\n",
              "      <td>2018-11-22</td>\n",
              "      <td>NA</td>\n",
              "      <td>6</td>\n",
              "      <td>3</td>\n",
              "    </tr>\n",
              "    <tr>\n",
              "      <th>1035</th>\n",
              "      <td>3262</td>\n",
              "      <td>60.0</td>\n",
              "      <td>2019-01-08</td>\n",
              "      <td>12844.617</td>\n",
              "      <td>5.0</td>\n",
              "      <td>32.0</td>\n",
              "      <td>18.0</td>\n",
              "      <td>4.0</td>\n",
              "      <td>Normal</td>\n",
              "      <td>2018-11-29</td>\n",
              "      <td>NA</td>\n",
              "      <td>28</td>\n",
              "      <td>39</td>\n",
              "    </tr>\n",
              "  </tbody>\n",
              "</table>\n",
              "<p>1036 rows × 13 columns</p>\n",
              "</div>"
            ],
            "text/plain": [
              "      User ID  Session Count Uninstall Date  ...   CIty   Video Count  Quiz Count\n",
              "0         567            4.0     2019-01-07  ...      NA            0           0\n",
              "1        1777           16.0     2018-10-05  ...      NA            5          13\n",
              "2        1778          401.0     2019-03-08  ...  Mumbai           28          38\n",
              "3        1780          226.0     2019-08-28  ...  Mumbai           49          87\n",
              "4        1781           14.0     2018-09-14  ...      NA            4           8\n",
              "...       ...            ...            ...  ...     ...          ...         ...\n",
              "1031     3258            9.0     2019-02-06  ...      NA           28          69\n",
              "1032     3259            NaN     2018-11-19  ...      NA            0           0\n",
              "1033     3260           21.0     2019-01-12  ...  Mumbai            7           4\n",
              "1034     3261            1.0     2019-01-12  ...      NA            6           3\n",
              "1035     3262           60.0     2019-01-08  ...      NA           28          39\n",
              "\n",
              "[1036 rows x 13 columns]"
            ]
          },
          "metadata": {
            "tags": []
          },
          "execution_count": 36
        }
      ]
    },
    {
      "cell_type": "code",
      "metadata": {
        "colab": {
          "base_uri": "https://localhost:8080/",
          "height": 606
        },
        "id": "I4UHdwKTJi0k",
        "outputId": "5129dbe8-8091-4def-e5ac-96ebfdb897c4"
      },
      "source": [
        "# Using median\n",
        "df['Share Count'].fillna(df['Share Count'].median(), inplace=True)\n",
        "df['usertime'].fillna(df['usertime'].median(), inplace=True)\n",
        "\n",
        "\n",
        "# Using mean\n",
        "df['Session Count'].fillna(int(df['Session Count'].mean()), inplace=True)\n",
        "df['Notification Open'].fillna(int(df['Notification Open'].mean()), inplace=True)\n",
        "df['Notification Dismiss'].fillna(int(df['Notification Dismiss'].mean()), inplace=True)\n",
        "df['Notification Receive'].fillna(int(df['Notification Receive'].mean()), inplace=True)\n",
        "\n",
        "df"
      ],
      "execution_count": 37,
      "outputs": [
        {
          "output_type": "execute_result",
          "data": {
            "text/html": [
              "<div>\n",
              "<style scoped>\n",
              "    .dataframe tbody tr th:only-of-type {\n",
              "        vertical-align: middle;\n",
              "    }\n",
              "\n",
              "    .dataframe tbody tr th {\n",
              "        vertical-align: top;\n",
              "    }\n",
              "\n",
              "    .dataframe thead th {\n",
              "        text-align: right;\n",
              "    }\n",
              "</style>\n",
              "<table border=\"1\" class=\"dataframe\">\n",
              "  <thead>\n",
              "    <tr style=\"text-align: right;\">\n",
              "      <th></th>\n",
              "      <th>User ID</th>\n",
              "      <th>Session Count</th>\n",
              "      <th>Uninstall Date</th>\n",
              "      <th>usertime</th>\n",
              "      <th>Share Count</th>\n",
              "      <th>Notification Receive</th>\n",
              "      <th>Notification Dismiss</th>\n",
              "      <th>Notification Open</th>\n",
              "      <th>Acquired Medium google / others</th>\n",
              "      <th>Reg at date</th>\n",
              "      <th>CIty</th>\n",
              "      <th>Video Count</th>\n",
              "      <th>Quiz Count</th>\n",
              "    </tr>\n",
              "  </thead>\n",
              "  <tbody>\n",
              "    <tr>\n",
              "      <th>0</th>\n",
              "      <td>567</td>\n",
              "      <td>4.0</td>\n",
              "      <td>2019-01-07</td>\n",
              "      <td>35522.331</td>\n",
              "      <td>4.0</td>\n",
              "      <td>1.0</td>\n",
              "      <td>52.0</td>\n",
              "      <td>7.0</td>\n",
              "      <td>Normal</td>\n",
              "      <td>2019-01-07</td>\n",
              "      <td>NA</td>\n",
              "      <td>0</td>\n",
              "      <td>0</td>\n",
              "    </tr>\n",
              "    <tr>\n",
              "      <th>1</th>\n",
              "      <td>1777</td>\n",
              "      <td>16.0</td>\n",
              "      <td>2018-10-05</td>\n",
              "      <td>16251.738</td>\n",
              "      <td>4.0</td>\n",
              "      <td>7.0</td>\n",
              "      <td>3.0</td>\n",
              "      <td>4.0</td>\n",
              "      <td>Normal</td>\n",
              "      <td>2018-11-23</td>\n",
              "      <td>NA</td>\n",
              "      <td>5</td>\n",
              "      <td>13</td>\n",
              "    </tr>\n",
              "    <tr>\n",
              "      <th>2</th>\n",
              "      <td>1778</td>\n",
              "      <td>401.0</td>\n",
              "      <td>2019-03-08</td>\n",
              "      <td>48032.113</td>\n",
              "      <td>49.0</td>\n",
              "      <td>279.0</td>\n",
              "      <td>32.0</td>\n",
              "      <td>30.0</td>\n",
              "      <td>Normal</td>\n",
              "      <td>2018-11-22</td>\n",
              "      <td>Mumbai</td>\n",
              "      <td>28</td>\n",
              "      <td>38</td>\n",
              "    </tr>\n",
              "    <tr>\n",
              "      <th>3</th>\n",
              "      <td>1780</td>\n",
              "      <td>226.0</td>\n",
              "      <td>2019-08-28</td>\n",
              "      <td>25157.275</td>\n",
              "      <td>11.0</td>\n",
              "      <td>342.0</td>\n",
              "      <td>227.0</td>\n",
              "      <td>57.0</td>\n",
              "      <td>Normal</td>\n",
              "      <td>2018-11-25</td>\n",
              "      <td>Mumbai</td>\n",
              "      <td>49</td>\n",
              "      <td>87</td>\n",
              "    </tr>\n",
              "    <tr>\n",
              "      <th>4</th>\n",
              "      <td>1781</td>\n",
              "      <td>14.0</td>\n",
              "      <td>2018-09-14</td>\n",
              "      <td>6104.008</td>\n",
              "      <td>4.0</td>\n",
              "      <td>2.0</td>\n",
              "      <td>2.0</td>\n",
              "      <td>7.0</td>\n",
              "      <td>Normal</td>\n",
              "      <td>2018-11-22</td>\n",
              "      <td>NA</td>\n",
              "      <td>4</td>\n",
              "      <td>8</td>\n",
              "    </tr>\n",
              "    <tr>\n",
              "      <th>...</th>\n",
              "      <td>...</td>\n",
              "      <td>...</td>\n",
              "      <td>...</td>\n",
              "      <td>...</td>\n",
              "      <td>...</td>\n",
              "      <td>...</td>\n",
              "      <td>...</td>\n",
              "      <td>...</td>\n",
              "      <td>...</td>\n",
              "      <td>...</td>\n",
              "      <td>...</td>\n",
              "      <td>...</td>\n",
              "      <td>...</td>\n",
              "    </tr>\n",
              "    <tr>\n",
              "      <th>1031</th>\n",
              "      <td>3258</td>\n",
              "      <td>9.0</td>\n",
              "      <td>2019-02-06</td>\n",
              "      <td>8115.079</td>\n",
              "      <td>1.0</td>\n",
              "      <td>1.0</td>\n",
              "      <td>1.0</td>\n",
              "      <td>7.0</td>\n",
              "      <td>Normal</td>\n",
              "      <td>2019-01-14</td>\n",
              "      <td>NA</td>\n",
              "      <td>28</td>\n",
              "      <td>69</td>\n",
              "    </tr>\n",
              "    <tr>\n",
              "      <th>1032</th>\n",
              "      <td>3259</td>\n",
              "      <td>28.0</td>\n",
              "      <td>2018-11-19</td>\n",
              "      <td>77.705</td>\n",
              "      <td>4.0</td>\n",
              "      <td>66.0</td>\n",
              "      <td>52.0</td>\n",
              "      <td>7.0</td>\n",
              "      <td>Normal</td>\n",
              "      <td>2018-11-22</td>\n",
              "      <td>NA</td>\n",
              "      <td>0</td>\n",
              "      <td>0</td>\n",
              "    </tr>\n",
              "    <tr>\n",
              "      <th>1033</th>\n",
              "      <td>3260</td>\n",
              "      <td>21.0</td>\n",
              "      <td>2019-01-12</td>\n",
              "      <td>2695.403</td>\n",
              "      <td>1.0</td>\n",
              "      <td>749.0</td>\n",
              "      <td>12.0</td>\n",
              "      <td>2.0</td>\n",
              "      <td>Normal</td>\n",
              "      <td>2018-12-10</td>\n",
              "      <td>Mumbai</td>\n",
              "      <td>7</td>\n",
              "      <td>4</td>\n",
              "    </tr>\n",
              "    <tr>\n",
              "      <th>1034</th>\n",
              "      <td>3261</td>\n",
              "      <td>1.0</td>\n",
              "      <td>2019-01-12</td>\n",
              "      <td>1235.510</td>\n",
              "      <td>4.0</td>\n",
              "      <td>66.0</td>\n",
              "      <td>52.0</td>\n",
              "      <td>7.0</td>\n",
              "      <td>Normal</td>\n",
              "      <td>2018-11-22</td>\n",
              "      <td>NA</td>\n",
              "      <td>6</td>\n",
              "      <td>3</td>\n",
              "    </tr>\n",
              "    <tr>\n",
              "      <th>1035</th>\n",
              "      <td>3262</td>\n",
              "      <td>60.0</td>\n",
              "      <td>2019-01-08</td>\n",
              "      <td>12844.617</td>\n",
              "      <td>5.0</td>\n",
              "      <td>32.0</td>\n",
              "      <td>18.0</td>\n",
              "      <td>4.0</td>\n",
              "      <td>Normal</td>\n",
              "      <td>2018-11-29</td>\n",
              "      <td>NA</td>\n",
              "      <td>28</td>\n",
              "      <td>39</td>\n",
              "    </tr>\n",
              "  </tbody>\n",
              "</table>\n",
              "<p>1036 rows × 13 columns</p>\n",
              "</div>"
            ],
            "text/plain": [
              "      User ID  Session Count Uninstall Date  ...   CIty   Video Count  Quiz Count\n",
              "0         567            4.0     2019-01-07  ...      NA            0           0\n",
              "1        1777           16.0     2018-10-05  ...      NA            5          13\n",
              "2        1778          401.0     2019-03-08  ...  Mumbai           28          38\n",
              "3        1780          226.0     2019-08-28  ...  Mumbai           49          87\n",
              "4        1781           14.0     2018-09-14  ...      NA            4           8\n",
              "...       ...            ...            ...  ...     ...          ...         ...\n",
              "1031     3258            9.0     2019-02-06  ...      NA           28          69\n",
              "1032     3259           28.0     2018-11-19  ...      NA            0           0\n",
              "1033     3260           21.0     2019-01-12  ...  Mumbai            7           4\n",
              "1034     3261            1.0     2019-01-12  ...      NA            6           3\n",
              "1035     3262           60.0     2019-01-08  ...      NA           28          39\n",
              "\n",
              "[1036 rows x 13 columns]"
            ]
          },
          "metadata": {
            "tags": []
          },
          "execution_count": 37
        }
      ]
    },
    {
      "cell_type": "code",
      "metadata": {
        "colab": {
          "base_uri": "https://localhost:8080/"
        },
        "id": "nw8ihjlWL9jR",
        "outputId": "ed718f15-d3fc-43e7-b102-5e7a52302ad1"
      },
      "source": [
        "df.isnull().sum().sum()"
      ],
      "execution_count": 39,
      "outputs": [
        {
          "output_type": "execute_result",
          "data": {
            "text/plain": [
              "0"
            ]
          },
          "metadata": {
            "tags": []
          },
          "execution_count": 39
        }
      ]
    }
  ]
}